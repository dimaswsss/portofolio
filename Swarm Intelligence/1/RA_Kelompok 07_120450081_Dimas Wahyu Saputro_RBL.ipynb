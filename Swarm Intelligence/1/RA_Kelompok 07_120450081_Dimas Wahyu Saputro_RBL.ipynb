{
  "cells": [
    {
      "cell_type": "markdown",
      "source": [
        "# Kelompok 7 - Firefly Algorithm\n",
        "Ketua Kelompok : 120450009 - Alfian Dwi Kurnia\n",
        "\n",
        "Anggota 1 : 120450015 - Alfa Khoirin\n",
        "\n",
        "Anggota 2 : 120450081 - Dimas Wahyu Saputro\n",
        "\n",
        "Anggota 3 : 120450069 - Rezki P. Manullang\n"
      ],
      "metadata": {
        "id": "boGRYrenPkb6"
      }
    },
    {
      "cell_type": "markdown",
      "source": [
        "# Pengolahan Data ke CSV"
      ],
      "metadata": {
        "id": "fjtwybKuPWwZ"
      }
    },
    {
      "cell_type": "markdown",
      "source": [
        "Dapat diakses [disini](https://iteraacid-my.sharepoint.com/:f:/g/personal/dimas_120450081_student_itera_ac_id/EqqHYRXM2X5Hn5o1VCQpxdYB8g56gv-CGH1B70r89Xr1iQ?e=uGvAOC)"
      ],
      "metadata": {
        "id": "k_dtKT8iPfQ7"
      }
    },
    {
      "cell_type": "markdown",
      "source": [
        "# Pengkodean FA"
      ],
      "metadata": {
        "id": "UROk0iOdNXkI"
      }
    },
    {
      "cell_type": "code",
      "execution_count": 23,
      "metadata": {
        "colab": {
          "base_uri": "https://localhost:8080/",
          "height": 504
        },
        "id": "YDPwZYOiFJlz",
        "outputId": "410b3f0c-e4bd-4990-a4fa-f58935146425"
      },
      "outputs": [
        {
          "output_type": "execute_result",
          "data": {
            "text/plain": [
              "                  Asrama 1  Asrama 2  Asrama 3  Asrama 4  At Tanwir Mosque  \\\n",
              "Nama Gedung                                                                  \n",
              "Asrama 1          0.000000  0.212562  0.179391  0.018479          0.168656   \n",
              "Asrama 2          0.212562  0.000000  0.039762  0.205152          0.075938   \n",
              "Asrama 3          0.179391  0.039762  0.000000  0.170212          0.076850   \n",
              "Asrama 4          0.018479  0.205152  0.170212  0.000000          0.167377   \n",
              "At Tanwir Mosque  0.168656  0.075938  0.076850  0.167377          0.000000   \n",
              "\n",
              "                  Baitul Ilmi Mosque    Galeri  Gedung A ITERA  \\\n",
              "Nama Gedung                                                      \n",
              "Asrama 1                    0.544826  0.213063        0.335797   \n",
              "Asrama 2                    0.757345  0.425110        0.548052   \n",
              "Asrama 3                    0.722972  0.392444        0.515077   \n",
              "Asrama 4                    0.552772  0.223295        0.345375   \n",
              "At Tanwir Mosque            0.707505  0.373170        0.495626   \n",
              "\n",
              "                  Gedung B ITERA  Gedung C ITERA  ...  Gedung Labtek 2 ITERA  \\\n",
              "Nama Gedung                                       ...                          \n",
              "Asrama 1                0.246667        0.401103  ...               0.756409   \n",
              "Asrama 2                0.458784        0.613644  ...               0.968041   \n",
              "Asrama 3                0.426027        0.579937  ...               0.932355   \n",
              "Asrama 4                0.256673        0.409808  ...               0.762890   \n",
              "At Tanwir Mosque        0.406651        0.562672  ...               0.921649   \n",
              "\n",
              "                  Gedung Labtek 3 ITERA  Gerbang Utama     GKU 1  GSG Itera  \\\n",
              "Nama Gedung                                                                   \n",
              "Asrama 1                       0.917457       0.291970  0.792995   0.201048   \n",
              "Asrama 2                       1.129832       0.503702  1.005080   0.134634   \n",
              "Asrama 3                       1.094956       0.471360  0.969811   0.105122   \n",
              "Asrama 4                       0.924915       0.302326  0.799989   0.184647   \n",
              "At Tanwir Mosque               1.080464       0.450103  0.957203   0.177849   \n",
              "\n",
              "                     Wisma  Kantin BKL ITERA  Kantin Rumah Kayu  \\\n",
              "Nama Gedung                                                       \n",
              "Asrama 1          0.175924          0.107276           0.541684   \n",
              "Asrama 2          0.378350          0.317139           0.754156   \n",
              "Asrama 3          0.349962          0.285774           0.719629   \n",
              "Asrama 4          0.190879          0.120367           0.549454   \n",
              "At Tanwir Mosque  0.318148          0.264071           0.704782   \n",
              "\n",
              "                  Poliklinik ITERA  Rumah Ibadah Multi Agama  \n",
              "Nama Gedung                                                   \n",
              "Asrama 1                  0.169328                  0.432174  \n",
              "Asrama 2                  0.380709                  0.219652  \n",
              "Asrama 3                  0.348627                  0.254268  \n",
              "Asrama 4                  0.180567                  0.424184  \n",
              "At Tanwir Mosque          0.328011                  0.279118  \n",
              "\n",
              "[5 rows x 24 columns]"
            ],
            "text/html": [
              "\n",
              "  <div id=\"df-a363e436-44b7-4813-9528-0fbaaf1caa26\">\n",
              "    <div class=\"colab-df-container\">\n",
              "      <div>\n",
              "<style scoped>\n",
              "    .dataframe tbody tr th:only-of-type {\n",
              "        vertical-align: middle;\n",
              "    }\n",
              "\n",
              "    .dataframe tbody tr th {\n",
              "        vertical-align: top;\n",
              "    }\n",
              "\n",
              "    .dataframe thead th {\n",
              "        text-align: right;\n",
              "    }\n",
              "</style>\n",
              "<table border=\"1\" class=\"dataframe\">\n",
              "  <thead>\n",
              "    <tr style=\"text-align: right;\">\n",
              "      <th></th>\n",
              "      <th>Asrama 1</th>\n",
              "      <th>Asrama 2</th>\n",
              "      <th>Asrama 3</th>\n",
              "      <th>Asrama 4</th>\n",
              "      <th>At Tanwir Mosque</th>\n",
              "      <th>Baitul Ilmi Mosque</th>\n",
              "      <th>Galeri</th>\n",
              "      <th>Gedung A ITERA</th>\n",
              "      <th>Gedung B ITERA</th>\n",
              "      <th>Gedung C ITERA</th>\n",
              "      <th>...</th>\n",
              "      <th>Gedung Labtek 2 ITERA</th>\n",
              "      <th>Gedung Labtek 3 ITERA</th>\n",
              "      <th>Gerbang Utama</th>\n",
              "      <th>GKU 1</th>\n",
              "      <th>GSG Itera</th>\n",
              "      <th>Wisma</th>\n",
              "      <th>Kantin BKL ITERA</th>\n",
              "      <th>Kantin Rumah Kayu</th>\n",
              "      <th>Poliklinik ITERA</th>\n",
              "      <th>Rumah Ibadah Multi Agama</th>\n",
              "    </tr>\n",
              "    <tr>\n",
              "      <th>Nama Gedung</th>\n",
              "      <th></th>\n",
              "      <th></th>\n",
              "      <th></th>\n",
              "      <th></th>\n",
              "      <th></th>\n",
              "      <th></th>\n",
              "      <th></th>\n",
              "      <th></th>\n",
              "      <th></th>\n",
              "      <th></th>\n",
              "      <th></th>\n",
              "      <th></th>\n",
              "      <th></th>\n",
              "      <th></th>\n",
              "      <th></th>\n",
              "      <th></th>\n",
              "      <th></th>\n",
              "      <th></th>\n",
              "      <th></th>\n",
              "      <th></th>\n",
              "      <th></th>\n",
              "    </tr>\n",
              "  </thead>\n",
              "  <tbody>\n",
              "    <tr>\n",
              "      <th>Asrama 1</th>\n",
              "      <td>0.000000</td>\n",
              "      <td>0.212562</td>\n",
              "      <td>0.179391</td>\n",
              "      <td>0.018479</td>\n",
              "      <td>0.168656</td>\n",
              "      <td>0.544826</td>\n",
              "      <td>0.213063</td>\n",
              "      <td>0.335797</td>\n",
              "      <td>0.246667</td>\n",
              "      <td>0.401103</td>\n",
              "      <td>...</td>\n",
              "      <td>0.756409</td>\n",
              "      <td>0.917457</td>\n",
              "      <td>0.291970</td>\n",
              "      <td>0.792995</td>\n",
              "      <td>0.201048</td>\n",
              "      <td>0.175924</td>\n",
              "      <td>0.107276</td>\n",
              "      <td>0.541684</td>\n",
              "      <td>0.169328</td>\n",
              "      <td>0.432174</td>\n",
              "    </tr>\n",
              "    <tr>\n",
              "      <th>Asrama 2</th>\n",
              "      <td>0.212562</td>\n",
              "      <td>0.000000</td>\n",
              "      <td>0.039762</td>\n",
              "      <td>0.205152</td>\n",
              "      <td>0.075938</td>\n",
              "      <td>0.757345</td>\n",
              "      <td>0.425110</td>\n",
              "      <td>0.548052</td>\n",
              "      <td>0.458784</td>\n",
              "      <td>0.613644</td>\n",
              "      <td>...</td>\n",
              "      <td>0.968041</td>\n",
              "      <td>1.129832</td>\n",
              "      <td>0.503702</td>\n",
              "      <td>1.005080</td>\n",
              "      <td>0.134634</td>\n",
              "      <td>0.378350</td>\n",
              "      <td>0.317139</td>\n",
              "      <td>0.754156</td>\n",
              "      <td>0.380709</td>\n",
              "      <td>0.219652</td>\n",
              "    </tr>\n",
              "    <tr>\n",
              "      <th>Asrama 3</th>\n",
              "      <td>0.179391</td>\n",
              "      <td>0.039762</td>\n",
              "      <td>0.000000</td>\n",
              "      <td>0.170212</td>\n",
              "      <td>0.076850</td>\n",
              "      <td>0.722972</td>\n",
              "      <td>0.392444</td>\n",
              "      <td>0.515077</td>\n",
              "      <td>0.426027</td>\n",
              "      <td>0.579937</td>\n",
              "      <td>...</td>\n",
              "      <td>0.932355</td>\n",
              "      <td>1.094956</td>\n",
              "      <td>0.471360</td>\n",
              "      <td>0.969811</td>\n",
              "      <td>0.105122</td>\n",
              "      <td>0.349962</td>\n",
              "      <td>0.285774</td>\n",
              "      <td>0.719629</td>\n",
              "      <td>0.348627</td>\n",
              "      <td>0.254268</td>\n",
              "    </tr>\n",
              "    <tr>\n",
              "      <th>Asrama 4</th>\n",
              "      <td>0.018479</td>\n",
              "      <td>0.205152</td>\n",
              "      <td>0.170212</td>\n",
              "      <td>0.000000</td>\n",
              "      <td>0.167377</td>\n",
              "      <td>0.552772</td>\n",
              "      <td>0.223295</td>\n",
              "      <td>0.345375</td>\n",
              "      <td>0.256673</td>\n",
              "      <td>0.409808</td>\n",
              "      <td>...</td>\n",
              "      <td>0.762890</td>\n",
              "      <td>0.924915</td>\n",
              "      <td>0.302326</td>\n",
              "      <td>0.799989</td>\n",
              "      <td>0.184647</td>\n",
              "      <td>0.190879</td>\n",
              "      <td>0.120367</td>\n",
              "      <td>0.549454</td>\n",
              "      <td>0.180567</td>\n",
              "      <td>0.424184</td>\n",
              "    </tr>\n",
              "    <tr>\n",
              "      <th>At Tanwir Mosque</th>\n",
              "      <td>0.168656</td>\n",
              "      <td>0.075938</td>\n",
              "      <td>0.076850</td>\n",
              "      <td>0.167377</td>\n",
              "      <td>0.000000</td>\n",
              "      <td>0.707505</td>\n",
              "      <td>0.373170</td>\n",
              "      <td>0.495626</td>\n",
              "      <td>0.406651</td>\n",
              "      <td>0.562672</td>\n",
              "      <td>...</td>\n",
              "      <td>0.921649</td>\n",
              "      <td>1.080464</td>\n",
              "      <td>0.450103</td>\n",
              "      <td>0.957203</td>\n",
              "      <td>0.177849</td>\n",
              "      <td>0.318148</td>\n",
              "      <td>0.264071</td>\n",
              "      <td>0.704782</td>\n",
              "      <td>0.328011</td>\n",
              "      <td>0.279118</td>\n",
              "    </tr>\n",
              "  </tbody>\n",
              "</table>\n",
              "<p>5 rows × 24 columns</p>\n",
              "</div>\n",
              "      <button class=\"colab-df-convert\" onclick=\"convertToInteractive('df-a363e436-44b7-4813-9528-0fbaaf1caa26')\"\n",
              "              title=\"Convert this dataframe to an interactive table.\"\n",
              "              style=\"display:none;\">\n",
              "        \n",
              "  <svg xmlns=\"http://www.w3.org/2000/svg\" height=\"24px\"viewBox=\"0 0 24 24\"\n",
              "       width=\"24px\">\n",
              "    <path d=\"M0 0h24v24H0V0z\" fill=\"none\"/>\n",
              "    <path d=\"M18.56 5.44l.94 2.06.94-2.06 2.06-.94-2.06-.94-.94-2.06-.94 2.06-2.06.94zm-11 1L8.5 8.5l.94-2.06 2.06-.94-2.06-.94L8.5 2.5l-.94 2.06-2.06.94zm10 10l.94 2.06.94-2.06 2.06-.94-2.06-.94-.94-2.06-.94 2.06-2.06.94z\"/><path d=\"M17.41 7.96l-1.37-1.37c-.4-.4-.92-.59-1.43-.59-.52 0-1.04.2-1.43.59L10.3 9.45l-7.72 7.72c-.78.78-.78 2.05 0 2.83L4 21.41c.39.39.9.59 1.41.59.51 0 1.02-.2 1.41-.59l7.78-7.78 2.81-2.81c.8-.78.8-2.07 0-2.86zM5.41 20L4 18.59l7.72-7.72 1.47 1.35L5.41 20z\"/>\n",
              "  </svg>\n",
              "      </button>\n",
              "      \n",
              "  <style>\n",
              "    .colab-df-container {\n",
              "      display:flex;\n",
              "      flex-wrap:wrap;\n",
              "      gap: 12px;\n",
              "    }\n",
              "\n",
              "    .colab-df-convert {\n",
              "      background-color: #E8F0FE;\n",
              "      border: none;\n",
              "      border-radius: 50%;\n",
              "      cursor: pointer;\n",
              "      display: none;\n",
              "      fill: #1967D2;\n",
              "      height: 32px;\n",
              "      padding: 0 0 0 0;\n",
              "      width: 32px;\n",
              "    }\n",
              "\n",
              "    .colab-df-convert:hover {\n",
              "      background-color: #E2EBFA;\n",
              "      box-shadow: 0px 1px 2px rgba(60, 64, 67, 0.3), 0px 1px 3px 1px rgba(60, 64, 67, 0.15);\n",
              "      fill: #174EA6;\n",
              "    }\n",
              "\n",
              "    [theme=dark] .colab-df-convert {\n",
              "      background-color: #3B4455;\n",
              "      fill: #D2E3FC;\n",
              "    }\n",
              "\n",
              "    [theme=dark] .colab-df-convert:hover {\n",
              "      background-color: #434B5C;\n",
              "      box-shadow: 0px 1px 3px 1px rgba(0, 0, 0, 0.15);\n",
              "      filter: drop-shadow(0px 1px 2px rgba(0, 0, 0, 0.3));\n",
              "      fill: #FFFFFF;\n",
              "    }\n",
              "  </style>\n",
              "\n",
              "      <script>\n",
              "        const buttonEl =\n",
              "          document.querySelector('#df-a363e436-44b7-4813-9528-0fbaaf1caa26 button.colab-df-convert');\n",
              "        buttonEl.style.display =\n",
              "          google.colab.kernel.accessAllowed ? 'block' : 'none';\n",
              "\n",
              "        async function convertToInteractive(key) {\n",
              "          const element = document.querySelector('#df-a363e436-44b7-4813-9528-0fbaaf1caa26');\n",
              "          const dataTable =\n",
              "            await google.colab.kernel.invokeFunction('convertToInteractive',\n",
              "                                                     [key], {});\n",
              "          if (!dataTable) return;\n",
              "\n",
              "          const docLinkHtml = 'Like what you see? Visit the ' +\n",
              "            '<a target=\"_blank\" href=https://colab.research.google.com/notebooks/data_table.ipynb>data table notebook</a>'\n",
              "            + ' to learn more about interactive tables.';\n",
              "          element.innerHTML = '';\n",
              "          dataTable['output_type'] = 'display_data';\n",
              "          await google.colab.output.renderOutput(dataTable, element);\n",
              "          const docLink = document.createElement('div');\n",
              "          docLink.innerHTML = docLinkHtml;\n",
              "          element.appendChild(docLink);\n",
              "        }\n",
              "      </script>\n",
              "    </div>\n",
              "  </div>\n",
              "  "
            ]
          },
          "metadata": {},
          "execution_count": 23
        }
      ],
      "source": [
        "import numpy as np\n",
        "import pandas as pd\n",
        "\n",
        "\n",
        "df = pd.read_csv('dataFinal.csv')\n",
        "df.set_index('Nama Gedung', inplace=True)\n",
        "df.head()"
      ]
    },
    {
      "cell_type": "code",
      "execution_count": 25,
      "metadata": {
        "id": "ihu7ddE1FJl6"
      },
      "outputs": [],
      "source": [
        "# Inisialisasi Individu-Populasi & Diskritisasi (Ranking untuk TSP / Sigmoid untuk KP)\n",
        "\n",
        "gen_individu = lambda n_individu, n_kota, a, b: np.random.uniform( a,b,(n_individu, n_kota) )\n",
        "\n",
        "def calc_dist(X, adj_mat):\n",
        "    return sum( map( lambda x, y: adj_mat[x,y], X, np.roll(X,-1) ) )\n",
        "\n",
        "def diskritisasi(kunangs):\n",
        "    return np.argsort(kunangs)\n",
        "\n",
        "def calculate_fitness(kunangs, df):\n",
        "    d_kunangs = diskritisasi(kunangs)\n",
        "    fitness = np.array( list(map( lambda x: calc_dist( x, df.values), d_kunangs )) )\n",
        "    fitness = fitness.reshape( (-1,1) )\n",
        "    return np.concatenate( (kunangs, fitness), axis=1 )\n",
        "\n",
        "def sort_individu(kunangs_with_f):\n",
        "    return kunangs_with_f[ kunangs_with_f[:,-1].argsort() ]\n",
        "\n",
        "def solusi(kunangs_w_f):\n",
        "    df_kota = pd.DataFrame(diskritisasi(kunangs_w_f[:,:-1]))\n",
        "    cols = ['Urutan ' + str(i+1) for i in range( df_kota.shape[1]) ]\n",
        "    df_kota.columns = cols\n",
        "    df_kota['Jarak'] = kunangs_w_f[:,-1].reshape(-1,1)\n",
        "    return df_kota\n",
        "\n",
        "def inisialisasi(params, df):\n",
        "    kunangs = gen_individu(int(params['n_individu']), int(params['n_kota']), params['a'], params['b'])\n",
        "    kunangs_w_f = sort_individu(calculate_fitness(kunangs, df))\n",
        "    return kunangs_w_f\n",
        "\n",
        "def movement( X, i, j, p ):\n",
        "    r = np.linalg.norm(X[i,:] - X[j,:])\n",
        "    term1 = p['beta0'] * np.exp(-1 * p['gamma'] * r**2 )\n",
        "    term2 = X[j,:] - X[i,:]\n",
        "    term3 = p['alpha'] * np.random.uniform(0,1)\n",
        "    return X[i,:] + ( term1 * term2 ) + term3\n",
        "\n",
        "def FA(params, df):\n",
        "\n",
        "    generasi = 0\n",
        "    new_kunangs_w_f = inisialisasi(params, df)\n",
        "    temp = np.zeros_like(new_kunangs_w_f[:,:-1])\n",
        "\n",
        "    while generasi < params['max_generasi']:\n",
        "\n",
        "        for i in range(int(params['n_individu'])):\n",
        "            for j in range(int(params['n_individu'])):\n",
        "                if (new_kunangs_w_f[i,-1] > new_kunangs_w_f[j,-1] ) and (i != j):\n",
        "                    temp[i,:] = movement(new_kunangs_w_f[:,:-1], i, j, params)\n",
        "                    \n",
        "        new_kunangs_w_f = sort_individu(calculate_fitness(temp, df))\n",
        "        temp = new_kunangs_w_f[:,:-1]\n",
        "\n",
        "        generasi += 1\n",
        "\n",
        "    return solusi(new_kunangs_w_f)\n",
        "\n",
        "def run_FA(dfparams, df):\n",
        "    return [ FA( dfparams.loc[i].to_dict(), df) for i in range(dfparams.shape[0]) ]\n",
        "\n",
        "# jangan lupa ganti nama csv, supaya mempermudah. Sesuaikan dengan dfparams.\n",
        "def save_FA(hasils):\n",
        "    for h in enumerate(hasils):\n",
        "        pd.DataFrame(h[1]).to_csv('hasil_FA' + str(h[0]) + '.csv')"
      ]
    },
    {
      "cell_type": "code",
      "execution_count": 26,
      "metadata": {
        "id": "yfrMciwIFJl8"
      },
      "outputs": [],
      "source": [
        "# Inisialisasi Parameter pada metode\n",
        "\n",
        "# Main program\n",
        "# sesuaikan dfparams dengan berbagai params yang sudah dibuat\n",
        "dfparams = pd.read_csv('/content/FA_params.csv')\n",
        "dfparams['n_kota'] = 24"
      ]
    },
    {
      "cell_type": "code",
      "source": [
        "# Pengkodean tahap kedua - metode masing masing kelompok \n",
        "hasils = run_FA(dfparams, df)"
      ],
      "metadata": {
        "id": "3BEcYIsMeAn9"
      },
      "execution_count": 31,
      "outputs": []
    },
    {
      "cell_type": "code",
      "execution_count": 32,
      "metadata": {
        "id": "8hL7awgVFJl9"
      },
      "outputs": [],
      "source": [
        "save_FA(hasils)"
      ]
    },
    {
      "cell_type": "markdown",
      "source": [
        "# Analisis"
      ],
      "metadata": {
        "id": "lT4AvLwpN3Ik"
      }
    },
    {
      "cell_type": "markdown",
      "source": [
        "Disesuaikan dengan soal yang ada, hasil csv dari pengkodean, maupun hasil visualisasi, dapat diakses [disini](https://iteraacid-my.sharepoint.com/personal/dimas_120450081_student_itera_ac_id/_layouts/15/onedrive.aspx?ga=1&id=%2Fpersonal%2Fdimas%5F120450081%5Fstudent%5Fitera%5Fac%5Fid%2FDocuments%2FSemester%204%2FSwarm%20Intelligence%2FKelompok%2FProgress%20Final)"
      ],
      "metadata": {
        "id": "Nxwv_5iMOhjq"
      }
    },
    {
      "cell_type": "code",
      "source": [
        "import matplotlib.pyplot as plt\n",
        "import pandas as pd\n",
        "import numpy as np"
      ],
      "metadata": {
        "id": "wi2nvikJN4pQ"
      },
      "execution_count": null,
      "outputs": []
    },
    {
      "cell_type": "code",
      "source": [
        "for i in range(0,8):\n",
        "\n",
        "    # sesuaikan dengan csv yang didapatkan dari Pengkodean\n",
        "    # kenapa i? supaya bisa berulang secara otomatis.\n",
        "    df_open = pd.read_csv(f'/content/hasil_FA_x{i}.csv')\n",
        "    df = df_open.drop(df_open.iloc[:, [0]], axis=1)\n",
        "\n",
        "    df1 = pd.DataFrame(df['Jarak'])\n",
        "    df1['Firefly'] = range(df1.shape[0])\n",
        "\n",
        "    plt.figure(figsize=(5,5))\n",
        "    ax = plt.gca()\n",
        "\n",
        "    # jangan lupa ubah title plot\n",
        "    ax.set_title(f'Solusi TSP dalam populasi FA - final - {i+1}', fontsize = 15)\n",
        "    ax.set_ylabel('Jarak (m) ', fontsize = 10)\n",
        "    ax.set_xlabel('Individu Firefly', fontsize = 10)\n",
        "    ax.set_yticks(np.arange(1,15,0.25))\n",
        "    df1.plot(ax=ax, kind='scatter', y = 'Jarak', x = 'Firefly')\n",
        "\n",
        "    # Untuk menyimpan plot\n",
        "    # plt.savefig(f'final{i+1}.png')"
      ],
      "metadata": {
        "id": "-ffZjgWXN5Us"
      },
      "execution_count": null,
      "outputs": []
    },
    {
      "cell_type": "markdown",
      "source": [
        "Tambahan:\n",
        "[Analisis percobaan dan error.](https://iteraacid-my.sharepoint.com/:u:/g/personal/dimas_120450081_student_itera_ac_id/EfqHUMvQoZBNl2q7JYsE3P0BVngTPHuRJMXZxoOEMc5hPw?e=EIk18h)"
      ],
      "metadata": {
        "id": "u5GNxJy3P7vf"
      }
    },
    {
      "cell_type": "markdown",
      "source": [
        "# Additional: TSP GA dan Generate a Plot"
      ],
      "metadata": {
        "id": "rZEBmkWsO0L7"
      }
    },
    {
      "cell_type": "markdown",
      "source": [
        "Dapat diakses [disini](https://iteraacid-my.sharepoint.com/:u:/g/personal/dimas_120450081_student_itera_ac_id/EWhuiM048SVDvNLZDmYMwAwB9XgAbllBK61gGG1Ij4yMiw?e=OAd3Ar)"
      ],
      "metadata": {
        "id": "_QvxjIn2PFNL"
      }
    },
    {
      "cell_type": "markdown",
      "source": [
        "# Additional: Bahan Belajar"
      ],
      "metadata": {
        "id": "AiDBMGvv-wNn"
      }
    },
    {
      "cell_type": "code",
      "source": [
        "gen_individu = lambda n_individu, n_kota, a, b: np.random.uniform( a,b,(n_individu, n_kota) )"
      ],
      "metadata": {
        "id": "EWv1s2U7-0ED"
      },
      "execution_count": null,
      "outputs": []
    },
    {
      "cell_type": "code",
      "source": [
        "def inisialisasi(params, df):\n",
        "    kunangs = gen_individu(int(params['n_individu']), int(params['n_kota']), params['a'], params['b'])\n",
        "    kunangs_w_f = sort_individu(calculate_fitness(kunangs, df))\n",
        "    return kunangs_w_f"
      ],
      "metadata": {
        "id": "pPhBODTYAgAS"
      },
      "execution_count": null,
      "outputs": []
    },
    {
      "cell_type": "code",
      "source": [
        "params = {\n",
        "    'n_individu':4,\n",
        "    'a':1,\n",
        "    'b':10,\n",
        "    'n_kota': 24\n",
        "}"
      ],
      "metadata": {
        "id": "oQ89HL5v_jfQ"
      },
      "execution_count": null,
      "outputs": []
    },
    {
      "cell_type": "code",
      "source": [
        "kunangs = gen_individu(int(params['n_individu']), int(params['n_kota']), params['a'], params['b'])\n",
        "kunangs"
      ],
      "metadata": {
        "colab": {
          "base_uri": "https://localhost:8080/"
        },
        "id": "XY2JGNLK_afA",
        "outputId": "2be0389a-d51c-4fbf-be98-6e66576742a1"
      },
      "execution_count": null,
      "outputs": [
        {
          "output_type": "execute_result",
          "data": {
            "text/plain": [
              "array([[7.91348267, 1.49501169, 2.59715461, 4.01687221, 8.15752291,\n",
              "        4.24880893, 1.02554559, 8.03379343, 8.83240293, 5.42219789,\n",
              "        9.91206883, 3.16255079, 9.65081878, 1.49283316, 5.29332248,\n",
              "        8.54417041, 8.54662427, 8.35472003, 9.51850189, 2.59406872,\n",
              "        6.3894718 , 3.42192787, 5.76101831, 7.72938651],\n",
              "       [4.63501508, 4.97860023, 7.5483839 , 4.46017026, 8.76932727,\n",
              "        4.04407313, 8.51815035, 5.33955442, 3.46262213, 7.08256716,\n",
              "        6.6121777 , 7.14527499, 4.75870229, 8.13551065, 6.78056696,\n",
              "        8.67635263, 2.64165705, 8.93148302, 5.01506629, 5.95743055,\n",
              "        4.23073229, 9.50899547, 9.92359357, 9.10162877],\n",
              "       [5.34812567, 9.76793648, 6.8310175 , 8.53917504, 7.63431022,\n",
              "        9.76316366, 1.956988  , 4.2742454 , 6.14971457, 1.63646774,\n",
              "        7.45632586, 1.2629425 , 7.18041886, 9.64337859, 5.14809428,\n",
              "        2.24573506, 2.92470499, 1.75134764, 9.46049487, 3.97718096,\n",
              "        9.25040331, 3.20078346, 9.9881189 , 6.55069277],\n",
              "       [9.87882148, 4.42757287, 4.76075164, 4.69656794, 8.45317029,\n",
              "        6.53833604, 5.79598259, 3.4779617 , 7.75106301, 7.05882705,\n",
              "        7.05963511, 1.14161383, 5.46478012, 1.35899315, 6.57180777,\n",
              "        6.92445239, 2.59513232, 1.07621693, 6.20097675, 4.88716133,\n",
              "        8.50255648, 6.69635596, 8.27286865, 6.84416644]])"
            ]
          },
          "metadata": {},
          "execution_count": 84
        }
      ]
    },
    {
      "cell_type": "code",
      "source": [
        "def calculate_fitness(kunangs, df):\n",
        "    d_kunangs = diskritisasi(kunangs)\n",
        "    fitness = np.array( list(map( lambda x: calc_dist( x, df.values), d_kunangs )) )\n",
        "    print(fitness)\n",
        "    fitness = fitness.reshape( (-1,1) )\n",
        "    return np.concatenate( (kunangs, fitness), axis=1 )"
      ],
      "metadata": {
        "id": "2vliOVtuBR9e"
      },
      "execution_count": null,
      "outputs": []
    },
    {
      "cell_type": "code",
      "source": [
        "calculate_fitness(kunangs, df)"
      ],
      "metadata": {
        "colab": {
          "base_uri": "https://localhost:8080/"
        },
        "id": "vzkrCNUtAmwH",
        "outputId": "8c6c603f-ed83-405d-cbaf-5c6d4cd5098f"
      },
      "execution_count": null,
      "outputs": [
        {
          "output_type": "stream",
          "name": "stdout",
          "text": [
            "[ 9.94141658 11.41015969 10.05510862  9.75697276]\n"
          ]
        },
        {
          "output_type": "execute_result",
          "data": {
            "text/plain": [
              "array([[ 7.91348267,  1.49501169,  2.59715461,  4.01687221,  8.15752291,\n",
              "         4.24880893,  1.02554559,  8.03379343,  8.83240293,  5.42219789,\n",
              "         9.91206883,  3.16255079,  9.65081878,  1.49283316,  5.29332248,\n",
              "         8.54417041,  8.54662427,  8.35472003,  9.51850189,  2.59406872,\n",
              "         6.3894718 ,  3.42192787,  5.76101831,  7.72938651,  9.94141658],\n",
              "       [ 4.63501508,  4.97860023,  7.5483839 ,  4.46017026,  8.76932727,\n",
              "         4.04407313,  8.51815035,  5.33955442,  3.46262213,  7.08256716,\n",
              "         6.6121777 ,  7.14527499,  4.75870229,  8.13551065,  6.78056696,\n",
              "         8.67635263,  2.64165705,  8.93148302,  5.01506629,  5.95743055,\n",
              "         4.23073229,  9.50899547,  9.92359357,  9.10162877, 11.41015969],\n",
              "       [ 5.34812567,  9.76793648,  6.8310175 ,  8.53917504,  7.63431022,\n",
              "         9.76316366,  1.956988  ,  4.2742454 ,  6.14971457,  1.63646774,\n",
              "         7.45632586,  1.2629425 ,  7.18041886,  9.64337859,  5.14809428,\n",
              "         2.24573506,  2.92470499,  1.75134764,  9.46049487,  3.97718096,\n",
              "         9.25040331,  3.20078346,  9.9881189 ,  6.55069277, 10.05510862],\n",
              "       [ 9.87882148,  4.42757287,  4.76075164,  4.69656794,  8.45317029,\n",
              "         6.53833604,  5.79598259,  3.4779617 ,  7.75106301,  7.05882705,\n",
              "         7.05963511,  1.14161383,  5.46478012,  1.35899315,  6.57180777,\n",
              "         6.92445239,  2.59513232,  1.07621693,  6.20097675,  4.88716133,\n",
              "         8.50255648,  6.69635596,  8.27286865,  6.84416644,  9.75697276]])"
            ]
          },
          "metadata": {},
          "execution_count": 86
        }
      ]
    },
    {
      "cell_type": "code",
      "source": [
        "d = diskritisasi(kunangs)\n",
        "d"
      ],
      "metadata": {
        "colab": {
          "base_uri": "https://localhost:8080/"
        },
        "id": "I6KPXgmdE13k",
        "outputId": "a18b0ce0-1aec-4ead-8364-98c25c3d8f0b"
      },
      "execution_count": null,
      "outputs": [
        {
          "output_type": "execute_result",
          "data": {
            "text/plain": [
              "array([[ 6, 13,  1, 19,  2, 11, 21,  3,  5, 14,  9, 22, 20, 23,  0,  7,\n",
              "         4, 17, 15, 16,  8, 18, 12, 10],\n",
              "       [16,  8,  5, 20,  3,  0, 12,  1, 18,  7, 19, 10, 14,  9, 11,  2,\n",
              "        13,  6, 15,  4, 17, 23, 21, 22],\n",
              "       [11,  9, 17,  6, 15, 16, 21, 19,  7, 14,  0,  8, 23,  2, 12, 10,\n",
              "         4,  3, 20, 18, 13,  5,  1, 22],\n",
              "       [17, 11, 13, 16,  7,  1,  3,  2, 19, 12,  6, 18,  5, 14, 21, 23,\n",
              "        15,  9, 10,  8, 22,  4, 20,  0]])"
            ]
          },
          "metadata": {},
          "execution_count": 87
        }
      ]
    },
    {
      "cell_type": "code",
      "source": [
        "calc_dist( d, df.values)"
      ],
      "metadata": {
        "colab": {
          "base_uri": "https://localhost:8080/"
        },
        "id": "Xxr_y5Z9EuA2",
        "outputId": "eda8a049-60fc-42a9-9722-0a2fc35fe08f"
      },
      "execution_count": null,
      "outputs": [
        {
          "output_type": "execute_result",
          "data": {
            "text/plain": [
              "array([1.40502282, 2.3003391 , 1.92592415, 1.22389419, 1.59415495,\n",
              "       1.21228992, 1.75118421, 1.22307316, 1.4667433 , 1.53275645,\n",
              "       1.1873652 , 1.76146477, 1.37060519, 1.44143891, 1.78992024,\n",
              "       3.4446807 , 2.23790759, 1.00943052, 2.22552855, 2.04784607,\n",
              "       2.24294439, 2.57394287, 0.94889783, 1.09771246])"
            ]
          },
          "metadata": {},
          "execution_count": 88
        }
      ]
    },
    {
      "cell_type": "code",
      "source": [
        "fitness = np.array(list(map( lambda x: calc_dist( x, df.values), d )))\n",
        "fitness"
      ],
      "metadata": {
        "colab": {
          "base_uri": "https://localhost:8080/"
        },
        "id": "_IS5NF_TFSHw",
        "outputId": "9fc994a7-e3b5-463d-a397-b65a0de72a4f"
      },
      "execution_count": null,
      "outputs": [
        {
          "output_type": "execute_result",
          "data": {
            "text/plain": [
              "array([ 9.94141658, 11.41015969, 10.05510862,  9.75697276])"
            ]
          },
          "metadata": {},
          "execution_count": 90
        }
      ]
    },
    {
      "cell_type": "code",
      "source": [
        "fitness = fitness.reshape( (-1,1) )\n",
        "fitness"
      ],
      "metadata": {
        "colab": {
          "base_uri": "https://localhost:8080/"
        },
        "id": "rgq2bff3FiF1",
        "outputId": "8f212a7a-fd46-4442-91e4-b5d19c9e438a"
      },
      "execution_count": null,
      "outputs": [
        {
          "output_type": "execute_result",
          "data": {
            "text/plain": [
              "array([[ 9.94141658],\n",
              "       [11.41015969],\n",
              "       [10.05510862],\n",
              "       [ 9.75697276]])"
            ]
          },
          "metadata": {},
          "execution_count": 91
        }
      ]
    },
    {
      "cell_type": "code",
      "source": [
        "final = np.concatenate( (kunangs, fitness), axis=1 )\n",
        "final"
      ],
      "metadata": {
        "colab": {
          "base_uri": "https://localhost:8080/"
        },
        "id": "9lWcXh81GUOS",
        "outputId": "5608cd89-9978-4c47-cbaf-ddaa8997af88"
      },
      "execution_count": null,
      "outputs": [
        {
          "output_type": "execute_result",
          "data": {
            "text/plain": [
              "array([[ 7.91348267,  1.49501169,  2.59715461,  4.01687221,  8.15752291,\n",
              "         4.24880893,  1.02554559,  8.03379343,  8.83240293,  5.42219789,\n",
              "         9.91206883,  3.16255079,  9.65081878,  1.49283316,  5.29332248,\n",
              "         8.54417041,  8.54662427,  8.35472003,  9.51850189,  2.59406872,\n",
              "         6.3894718 ,  3.42192787,  5.76101831,  7.72938651,  9.94141658],\n",
              "       [ 4.63501508,  4.97860023,  7.5483839 ,  4.46017026,  8.76932727,\n",
              "         4.04407313,  8.51815035,  5.33955442,  3.46262213,  7.08256716,\n",
              "         6.6121777 ,  7.14527499,  4.75870229,  8.13551065,  6.78056696,\n",
              "         8.67635263,  2.64165705,  8.93148302,  5.01506629,  5.95743055,\n",
              "         4.23073229,  9.50899547,  9.92359357,  9.10162877, 11.41015969],\n",
              "       [ 5.34812567,  9.76793648,  6.8310175 ,  8.53917504,  7.63431022,\n",
              "         9.76316366,  1.956988  ,  4.2742454 ,  6.14971457,  1.63646774,\n",
              "         7.45632586,  1.2629425 ,  7.18041886,  9.64337859,  5.14809428,\n",
              "         2.24573506,  2.92470499,  1.75134764,  9.46049487,  3.97718096,\n",
              "         9.25040331,  3.20078346,  9.9881189 ,  6.55069277, 10.05510862],\n",
              "       [ 9.87882148,  4.42757287,  4.76075164,  4.69656794,  8.45317029,\n",
              "         6.53833604,  5.79598259,  3.4779617 ,  7.75106301,  7.05882705,\n",
              "         7.05963511,  1.14161383,  5.46478012,  1.35899315,  6.57180777,\n",
              "         6.92445239,  2.59513232,  1.07621693,  6.20097675,  4.88716133,\n",
              "         8.50255648,  6.69635596,  8.27286865,  6.84416644,  9.75697276]])"
            ]
          },
          "metadata": {},
          "execution_count": 92
        }
      ]
    },
    {
      "cell_type": "code",
      "source": [
        "def sort_individu(kunangs_with_f):\n",
        "    return kunangs_with_f[ kunangs_with_f[:,-1].argsort() ]"
      ],
      "metadata": {
        "id": "GhDwakNTHTpq"
      },
      "execution_count": null,
      "outputs": []
    },
    {
      "cell_type": "code",
      "source": [
        "kunangs[:,-1].argsort()"
      ],
      "metadata": {
        "colab": {
          "base_uri": "https://localhost:8080/"
        },
        "id": "Ru45m1exHzU_",
        "outputId": "dc8a34b4-8152-4df8-e9e1-6b899f27dd07"
      },
      "execution_count": null,
      "outputs": [
        {
          "output_type": "execute_result",
          "data": {
            "text/plain": [
              "array([2, 3, 0, 1])"
            ]
          },
          "metadata": {},
          "execution_count": 94
        }
      ]
    },
    {
      "cell_type": "code",
      "source": [
        ""
      ],
      "metadata": {
        "id": "1RQQ-1AxIBQB"
      },
      "execution_count": null,
      "outputs": []
    },
    {
      "cell_type": "code",
      "source": [
        "sort_individu(kunangs)"
      ],
      "metadata": {
        "colab": {
          "base_uri": "https://localhost:8080/"
        },
        "id": "bKe-cJ7jHUef",
        "outputId": "05babe48-6761-4a69-cee7-0f78a70f7a1d"
      },
      "execution_count": null,
      "outputs": [
        {
          "output_type": "execute_result",
          "data": {
            "text/plain": [
              "array([[5.34812567, 9.76793648, 6.8310175 , 8.53917504, 7.63431022,\n",
              "        9.76316366, 1.956988  , 4.2742454 , 6.14971457, 1.63646774,\n",
              "        7.45632586, 1.2629425 , 7.18041886, 9.64337859, 5.14809428,\n",
              "        2.24573506, 2.92470499, 1.75134764, 9.46049487, 3.97718096,\n",
              "        9.25040331, 3.20078346, 9.9881189 , 6.55069277],\n",
              "       [9.87882148, 4.42757287, 4.76075164, 4.69656794, 8.45317029,\n",
              "        6.53833604, 5.79598259, 3.4779617 , 7.75106301, 7.05882705,\n",
              "        7.05963511, 1.14161383, 5.46478012, 1.35899315, 6.57180777,\n",
              "        6.92445239, 2.59513232, 1.07621693, 6.20097675, 4.88716133,\n",
              "        8.50255648, 6.69635596, 8.27286865, 6.84416644],\n",
              "       [7.91348267, 1.49501169, 2.59715461, 4.01687221, 8.15752291,\n",
              "        4.24880893, 1.02554559, 8.03379343, 8.83240293, 5.42219789,\n",
              "        9.91206883, 3.16255079, 9.65081878, 1.49283316, 5.29332248,\n",
              "        8.54417041, 8.54662427, 8.35472003, 9.51850189, 2.59406872,\n",
              "        6.3894718 , 3.42192787, 5.76101831, 7.72938651],\n",
              "       [4.63501508, 4.97860023, 7.5483839 , 4.46017026, 8.76932727,\n",
              "        4.04407313, 8.51815035, 5.33955442, 3.46262213, 7.08256716,\n",
              "        6.6121777 , 7.14527499, 4.75870229, 8.13551065, 6.78056696,\n",
              "        8.67635263, 2.64165705, 8.93148302, 5.01506629, 5.95743055,\n",
              "        4.23073229, 9.50899547, 9.92359357, 9.10162877]])"
            ]
          },
          "metadata": {},
          "execution_count": 95
        }
      ]
    }
  ],
  "metadata": {
    "interpreter": {
      "hash": "82cf50798d82ccd576f68f869cf82e434e86e9596c1ecd247e2359a828c37642"
    },
    "kernelspec": {
      "display_name": "Python 3.10.2 64-bit",
      "language": "python",
      "name": "python3"
    },
    "language_info": {
      "codemirror_mode": {
        "name": "ipython",
        "version": 3
      },
      "file_extension": ".py",
      "mimetype": "text/x-python",
      "name": "python",
      "nbconvert_exporter": "python",
      "pygments_lexer": "ipython3",
      "version": "3.10.2"
    },
    "orig_nbformat": 4,
    "colab": {
      "name": "RA_Kelompok 07_NIM_NAMA_RBL.ipynb",
      "provenance": [],
      "collapsed_sections": [
        "fjtwybKuPWwZ",
        "UROk0iOdNXkI",
        "lT4AvLwpN3Ik",
        "rZEBmkWsO0L7",
        "AiDBMGvv-wNn"
      ]
    }
  },
  "nbformat": 4,
  "nbformat_minor": 0
}