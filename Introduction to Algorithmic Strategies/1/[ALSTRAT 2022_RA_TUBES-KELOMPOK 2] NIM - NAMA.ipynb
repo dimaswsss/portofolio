{
 "cells": [
  {
   "cell_type": "markdown",
   "metadata": {},
   "source": [
    "## Anggota Kelompok 2\n",
    " \n",
    "\n"
   ]
  },
  {
   "cell_type": "markdown",
   "metadata": {},
   "source": [
    "## 1.Dimas Wahyu Saputro\n",
    "## 2.Fadia Dilla Sabine\n",
    "## 3.Alfian Dwi Kurnia\n",
    "## 4.Alfa Khoirin\n",
    "## 5.Binti Fitrothul Khasa"
   ]
  },
  {
   "cell_type": "markdown",
   "metadata": {},
   "source": [
    "# Import data jarak antar titik di ITERA"
   ]
  },
  {
   "cell_type": "code",
   "execution_count": 37,
   "metadata": {},
   "outputs": [
    {
     "data": {
      "text/html": [
       "<div>\n",
       "<style scoped>\n",
       "    .dataframe tbody tr th:only-of-type {\n",
       "        vertical-align: middle;\n",
       "    }\n",
       "\n",
       "    .dataframe tbody tr th {\n",
       "        vertical-align: top;\n",
       "    }\n",
       "\n",
       "    .dataframe thead th {\n",
       "        text-align: right;\n",
       "    }\n",
       "</style>\n",
       "<table border=\"1\" class=\"dataframe\">\n",
       "  <thead>\n",
       "    <tr style=\"text-align: right;\">\n",
       "      <th></th>\n",
       "      <th>1</th>\n",
       "      <th>2</th>\n",
       "      <th>3</th>\n",
       "      <th>4</th>\n",
       "      <th>5</th>\n",
       "      <th>6</th>\n",
       "      <th>7</th>\n",
       "      <th>8</th>\n",
       "      <th>9</th>\n",
       "      <th>10</th>\n",
       "      <th>11</th>\n",
       "      <th>12</th>\n",
       "    </tr>\n",
       "    <tr>\n",
       "      <th>Nama Gedung</th>\n",
       "      <th></th>\n",
       "      <th></th>\n",
       "      <th></th>\n",
       "      <th></th>\n",
       "      <th></th>\n",
       "      <th></th>\n",
       "      <th></th>\n",
       "      <th></th>\n",
       "      <th></th>\n",
       "      <th></th>\n",
       "      <th></th>\n",
       "      <th></th>\n",
       "    </tr>\n",
       "  </thead>\n",
       "  <tbody>\n",
       "    <tr>\n",
       "      <th>1</th>\n",
       "      <td>0.000000</td>\n",
       "      <td>0.212562</td>\n",
       "      <td>0.179391</td>\n",
       "      <td>0.018479</td>\n",
       "      <td>0.168656</td>\n",
       "      <td>0.544826</td>\n",
       "      <td>0.213063</td>\n",
       "      <td>0.335797</td>\n",
       "      <td>0.246667</td>\n",
       "      <td>0.401103</td>\n",
       "      <td>0.455124</td>\n",
       "      <td>0.221815</td>\n",
       "    </tr>\n",
       "    <tr>\n",
       "      <th>2</th>\n",
       "      <td>0.212562</td>\n",
       "      <td>0.000000</td>\n",
       "      <td>0.039762</td>\n",
       "      <td>0.205152</td>\n",
       "      <td>0.075938</td>\n",
       "      <td>0.757345</td>\n",
       "      <td>0.425110</td>\n",
       "      <td>0.548052</td>\n",
       "      <td>0.458784</td>\n",
       "      <td>0.613644</td>\n",
       "      <td>0.667683</td>\n",
       "      <td>0.432300</td>\n",
       "    </tr>\n",
       "    <tr>\n",
       "      <th>3</th>\n",
       "      <td>0.179391</td>\n",
       "      <td>0.039762</td>\n",
       "      <td>0.000000</td>\n",
       "      <td>0.170212</td>\n",
       "      <td>0.076850</td>\n",
       "      <td>0.722972</td>\n",
       "      <td>0.392444</td>\n",
       "      <td>0.515077</td>\n",
       "      <td>0.426027</td>\n",
       "      <td>0.579937</td>\n",
       "      <td>0.633623</td>\n",
       "      <td>0.396510</td>\n",
       "    </tr>\n",
       "    <tr>\n",
       "      <th>4</th>\n",
       "      <td>0.018479</td>\n",
       "      <td>0.205152</td>\n",
       "      <td>0.170212</td>\n",
       "      <td>0.000000</td>\n",
       "      <td>0.167377</td>\n",
       "      <td>0.552772</td>\n",
       "      <td>0.223295</td>\n",
       "      <td>0.345375</td>\n",
       "      <td>0.256673</td>\n",
       "      <td>0.409808</td>\n",
       "      <td>0.463418</td>\n",
       "      <td>0.227217</td>\n",
       "    </tr>\n",
       "    <tr>\n",
       "      <th>5</th>\n",
       "      <td>0.168656</td>\n",
       "      <td>0.075938</td>\n",
       "      <td>0.076850</td>\n",
       "      <td>0.167377</td>\n",
       "      <td>0.000000</td>\n",
       "      <td>0.707505</td>\n",
       "      <td>0.373170</td>\n",
       "      <td>0.495626</td>\n",
       "      <td>0.406651</td>\n",
       "      <td>0.562672</td>\n",
       "      <td>0.617370</td>\n",
       "      <td>0.389623</td>\n",
       "    </tr>\n",
       "    <tr>\n",
       "      <th>6</th>\n",
       "      <td>0.544826</td>\n",
       "      <td>0.757345</td>\n",
       "      <td>0.722972</td>\n",
       "      <td>0.552772</td>\n",
       "      <td>0.707505</td>\n",
       "      <td>0.000000</td>\n",
       "      <td>0.334346</td>\n",
       "      <td>0.212715</td>\n",
       "      <td>0.300956</td>\n",
       "      <td>0.144993</td>\n",
       "      <td>0.090155</td>\n",
       "      <td>0.328497</td>\n",
       "    </tr>\n",
       "    <tr>\n",
       "      <th>7</th>\n",
       "      <td>0.213063</td>\n",
       "      <td>0.425110</td>\n",
       "      <td>0.392444</td>\n",
       "      <td>0.223295</td>\n",
       "      <td>0.373170</td>\n",
       "      <td>0.334346</td>\n",
       "      <td>0.000000</td>\n",
       "      <td>0.122989</td>\n",
       "      <td>0.033683</td>\n",
       "      <td>0.189519</td>\n",
       "      <td>0.244203</td>\n",
       "      <td>0.064284</td>\n",
       "    </tr>\n",
       "    <tr>\n",
       "      <th>8</th>\n",
       "      <td>0.335797</td>\n",
       "      <td>0.548052</td>\n",
       "      <td>0.515077</td>\n",
       "      <td>0.345375</td>\n",
       "      <td>0.495626</td>\n",
       "      <td>0.212715</td>\n",
       "      <td>0.122989</td>\n",
       "      <td>0.000000</td>\n",
       "      <td>0.089307</td>\n",
       "      <td>0.067960</td>\n",
       "      <td>0.122790</td>\n",
       "      <td>0.134793</td>\n",
       "    </tr>\n",
       "    <tr>\n",
       "      <th>9</th>\n",
       "      <td>0.246667</td>\n",
       "      <td>0.458784</td>\n",
       "      <td>0.426027</td>\n",
       "      <td>0.256673</td>\n",
       "      <td>0.406651</td>\n",
       "      <td>0.300956</td>\n",
       "      <td>0.033683</td>\n",
       "      <td>0.089307</td>\n",
       "      <td>0.000000</td>\n",
       "      <td>0.156032</td>\n",
       "      <td>0.210801</td>\n",
       "      <td>0.070701</td>\n",
       "    </tr>\n",
       "    <tr>\n",
       "      <th>10</th>\n",
       "      <td>0.401103</td>\n",
       "      <td>0.613644</td>\n",
       "      <td>0.579937</td>\n",
       "      <td>0.409808</td>\n",
       "      <td>0.562672</td>\n",
       "      <td>0.144993</td>\n",
       "      <td>0.189519</td>\n",
       "      <td>0.067960</td>\n",
       "      <td>0.156032</td>\n",
       "      <td>0.000000</td>\n",
       "      <td>0.054895</td>\n",
       "      <td>0.190189</td>\n",
       "    </tr>\n",
       "    <tr>\n",
       "      <th>11</th>\n",
       "      <td>0.455124</td>\n",
       "      <td>0.667683</td>\n",
       "      <td>0.633623</td>\n",
       "      <td>0.463418</td>\n",
       "      <td>0.617370</td>\n",
       "      <td>0.090155</td>\n",
       "      <td>0.244203</td>\n",
       "      <td>0.122790</td>\n",
       "      <td>0.210801</td>\n",
       "      <td>0.054895</td>\n",
       "      <td>0.000000</td>\n",
       "      <td>0.240995</td>\n",
       "    </tr>\n",
       "    <tr>\n",
       "      <th>12</th>\n",
       "      <td>0.221815</td>\n",
       "      <td>0.432300</td>\n",
       "      <td>0.396510</td>\n",
       "      <td>0.227217</td>\n",
       "      <td>0.389623</td>\n",
       "      <td>0.328497</td>\n",
       "      <td>0.064284</td>\n",
       "      <td>0.134793</td>\n",
       "      <td>0.070701</td>\n",
       "      <td>0.190189</td>\n",
       "      <td>0.240995</td>\n",
       "      <td>0.000000</td>\n",
       "    </tr>\n",
       "  </tbody>\n",
       "</table>\n",
       "</div>"
      ],
      "text/plain": [
       "                    1         2         3         4         5         6  \\\n",
       "Nama Gedung                                                               \n",
       "1            0.000000  0.212562  0.179391  0.018479  0.168656  0.544826   \n",
       "2            0.212562  0.000000  0.039762  0.205152  0.075938  0.757345   \n",
       "3            0.179391  0.039762  0.000000  0.170212  0.076850  0.722972   \n",
       "4            0.018479  0.205152  0.170212  0.000000  0.167377  0.552772   \n",
       "5            0.168656  0.075938  0.076850  0.167377  0.000000  0.707505   \n",
       "6            0.544826  0.757345  0.722972  0.552772  0.707505  0.000000   \n",
       "7            0.213063  0.425110  0.392444  0.223295  0.373170  0.334346   \n",
       "8            0.335797  0.548052  0.515077  0.345375  0.495626  0.212715   \n",
       "9            0.246667  0.458784  0.426027  0.256673  0.406651  0.300956   \n",
       "10           0.401103  0.613644  0.579937  0.409808  0.562672  0.144993   \n",
       "11           0.455124  0.667683  0.633623  0.463418  0.617370  0.090155   \n",
       "12           0.221815  0.432300  0.396510  0.227217  0.389623  0.328497   \n",
       "\n",
       "                    7         8         9        10        11        12  \n",
       "Nama Gedung                                                              \n",
       "1            0.213063  0.335797  0.246667  0.401103  0.455124  0.221815  \n",
       "2            0.425110  0.548052  0.458784  0.613644  0.667683  0.432300  \n",
       "3            0.392444  0.515077  0.426027  0.579937  0.633623  0.396510  \n",
       "4            0.223295  0.345375  0.256673  0.409808  0.463418  0.227217  \n",
       "5            0.373170  0.495626  0.406651  0.562672  0.617370  0.389623  \n",
       "6            0.334346  0.212715  0.300956  0.144993  0.090155  0.328497  \n",
       "7            0.000000  0.122989  0.033683  0.189519  0.244203  0.064284  \n",
       "8            0.122989  0.000000  0.089307  0.067960  0.122790  0.134793  \n",
       "9            0.033683  0.089307  0.000000  0.156032  0.210801  0.070701  \n",
       "10           0.189519  0.067960  0.156032  0.000000  0.054895  0.190189  \n",
       "11           0.244203  0.122790  0.210801  0.054895  0.000000  0.240995  \n",
       "12           0.064284  0.134793  0.070701  0.190189  0.240995  0.000000  "
      ]
     },
     "execution_count": 37,
     "metadata": {},
     "output_type": "execute_result"
    }
   ],
   "source": [
    "import pandas as pd # data processing, CSV file I/O (e.g. pd.read_csv)\n",
    "df = pd.read_csv('dataFinal.csv', index_col=0) # read the data\n",
    "df # print the data"
   ]
  },
  {
   "cell_type": "markdown",
   "metadata": {},
   "source": [
    "## Graf ITERA"
   ]
  },
  {
   "cell_type": "code",
   "execution_count": 38,
   "metadata": {},
   "outputs": [],
   "source": [
    "# Create a dictionary of the graf\n",
    "graph = {'1': set(['2', '10']),\n",
    "         '2': set(['1', '3' ]),\n",
    "         '3': set(['2', '4']),\n",
    "         '4': set(['3', '5', '7', '8', '9']),\n",
    "         '5': set(['4', '6', '9']),\n",
    "         '6': set(['5', '7', '9']),\n",
    "         '7': set(['4', '6', '8']),\n",
    "         '8': set(['4', '7']),\n",
    "         '9': set(['4', '5', '6', '12']),\n",
    "         '10': set(['1', '11']),\n",
    "         '11': set(['10', '12']),\n",
    "         '12': set(['9', '11']),\n",
    "         }\n",
    "         "
   ]
  },
  {
   "cell_type": "markdown",
   "metadata": {},
   "source": [
    "## Menggambarkan Graf Rute"
   ]
  },
  {
   "cell_type": "code",
   "execution_count": 39,
   "metadata": {},
   "outputs": [
    {
     "data": {
      "image/png": "[encoded data removed]",
      "text/plain": [
       "<Figure size 432x288 with 1 Axes>"
      ]
     },
     "metadata": {},
     "output_type": "display_data"
    }
   ],
   "source": [
    "import networkx as nx # graph library\n",
    "import matplotlib.pyplot as plt # plotting library\n",
    "\n",
    "G = nx.Graph() # create a graph\n",
    "G.add_edge(1, 2)\n",
    "G.add_edge(1, 10)\n",
    "G.add_edge(10, 11)\n",
    "G.add_edge(11, 12)\n",
    "G.add_edge(12, 9)\n",
    "G.add_edge(2, 3)\n",
    "G.add_edge(3, 4)\n",
    "G.add_edge(4, 5)\n",
    "G.add_edge(4, 8)\n",
    "G.add_edge(4, 7)\n",
    "G.add_edge(4, 9)\n",
    "G.add_edge(5, 6)\n",
    "G.add_edge(5, 9)\n",
    "G.add_edge(6, 9)\n",
    "G.add_edge(7, 6)\n",
    "G.add_edge(7, 8)\n",
    "G.add_edge(10, 11)\n",
    "\n",
    "# explicitly set positions\n",
    "pos = {1: (7.7, 7), 2: (9, 7), 3: (10, 7), 4: (14, 6.5), 5: (14, 5), \n",
    "       6: (18, 5), 7: (18, 6.5), 8: (17,11), 9: (9, 2), 10: (5.5, 6.5),\n",
    "       11: (4.5, 6), 12: (2.5, 4.5)}\n",
    "\n",
    "options = {\n",
    "    \"font_size\": 10,\n",
    "    \"node_size\": 250,\n",
    "    \"node_color\": \"white\",\n",
    "    \"edgecolors\": \"black\",\n",
    "    \"linewidths\": 2,\n",
    "    \"width\": 2,\n",
    "}\n",
    "nx.draw_networkx(G, pos, **options)\n",
    "\n",
    "# Set margins for the axes so that nodes aren't clipped\n",
    "ax = plt.gca()\n",
    "plt.show()"
   ]
  },
  {
   "cell_type": "markdown",
   "metadata": {},
   "source": [
    "## Pencarian rute menggunakan DFS"
   ]
  },
  {
   "cell_type": "code",
   "execution_count": 41,
   "metadata": {
    "id": "kJkxMpDmi1tf"
   },
   "outputs": [],
   "source": [
    "def dfs(titik, mulai, tujuan):\n",
    "    que = [[mulai]]\n",
    "    visited = set()\n",
    "\n",
    "    while que :\n",
    "        # Menghitung panjang tumpukan dan memasukan ke variabel panjang_que\n",
    "        panjang_que = len(que)-1\n",
    "        # Memasukkan tumpukan paling atas ke rute\n",
    "        rute = que.pop(panjang_que)\n",
    "        # Menyimpan node yang dipilih ke variabel state\n",
    "        state = rute[-1]\n",
    "        # Cek state apakah ada yanng sama seperti tujuan, jika ada, kita return\n",
    "        if state == tujuan:\n",
    "            return rute\n",
    "        # Jika state tidak sama dengan tujuan, maka cek state tidak ada di visited\n",
    "        elif state not in visited :\n",
    "            # Jika state tidak ada divisited maka cek cabang\n",
    "            for cabang in titik.get(state, []):\n",
    "                new_rute = list(rute)\n",
    "                new_rute.append(cabang)\n",
    "                que.append(new_rute)\n",
    "            # Tandai state yang sudah dikunjungi sebagai visited\n",
    "            visited.add(state)\n",
    "            # Cek isi tumpukan\n",
    "            isi = len(que)\n",
    "            if isi == 0:\n",
    "                print(\"Tidak Ditemukan\")"
   ]
  },
  {
   "cell_type": "code",
   "execution_count": 42,
   "metadata": {},
   "outputs": [
    {
     "data": {
      "text/plain": [
       "['8', '4', '5', '6', '9', '12']"
      ]
     },
     "execution_count": 42,
     "metadata": {},
     "output_type": "execute_result"
    }
   ],
   "source": [
    "hasil = dfs(graph,'8','12')\n",
    "hasil"
   ]
  },
  {
   "cell_type": "markdown",
   "metadata": {},
   "source": [
    "## Mendapatkan jarak total rute yang dilalui"
   ]
  },
  {
   "cell_type": "code",
   "execution_count": 43,
   "metadata": {},
   "outputs": [
    {
     "data": {
      "text/plain": [
       "1.591913629"
      ]
     },
     "execution_count": 43,
     "metadata": {},
     "output_type": "execute_result"
    }
   ],
   "source": [
    "def calc_cost(path): # calculate the cost of the path\n",
    "    temp = 0 # initialize the cost\n",
    "    for i in range(len(path)-1): # loop through the path\n",
    "        a = int(path[i])\n",
    "        b = int(path[i+1])\n",
    "        temp += df.iat[a-1,b-1]\n",
    "    return temp # return the cost\n",
    "\n",
    "calc_cost(hasil) # print the cost of the path"
   ]
  },
  {
   "cell_type": "markdown",
   "metadata": {},
   "source": [
    "## Ubah dari Nomor ke Nama titik"
   ]
  },
  {
   "cell_type": "code",
   "execution_count": 49,
   "metadata": {},
   "outputs": [
    {
     "name": "stdout",
     "output_type": "stream",
     "text": [
      "Rute :  ['8', '4', '5', '6', '9', '12']\n",
      "\n",
      "8-Masjid At-Tanwir\n",
      "\n",
      "4-Asrama 1\n",
      "\n",
      "5-Asrama 4\n",
      "\n",
      "6-Asrama 3\n",
      "\n",
      "9-Gedung E\n",
      "\n",
      "12-Masjid Baitul Ilmi\n"
     ]
    }
   ],
   "source": [
    "# dictionary of names\n",
    "name = {'1': 'Gedung A',\n",
    "         '2': 'Gedung B',\n",
    "         '3': 'Galeri',\n",
    "         '4': 'Asrama 1',\n",
    "         '5': 'Asrama 4',\n",
    "         '6': 'Asrama 3',\n",
    "         '7': 'Asrama 2',\n",
    "         '8': 'Masjid At-Tanwir',\n",
    "         '9': 'Gedung E',\n",
    "         '10': 'Gedung C',\n",
    "         '11': 'Gedung D',\n",
    "         '12': 'Masjid Baitul Ilmi'}\n",
    "\n",
    "def translate_name(path): # translate the path to name\n",
    "    for i in range(len(hasil)): # loop through the path\n",
    "        print(f'\\n{hasil[i]}-{name[hasil[i]]}') # print the node and the name\n",
    "\n",
    "print('Rute : ', hasil) # print the path\n",
    "translate_name(hasil) # print the path and the name"
   ]
  }
 ],
 "metadata": {
  "colab": {
   "name": "Nyoba.ipynb",
   "provenance": []
  },
  "interpreter": {
   "hash": "67107b9a62f4047293afe4f01d0b35ec1c677fdf7f9ecfc6aaf5e361f6d9bdaf"
  },
  "kernelspec": {
   "display_name": "Python 3 (ipykernel)",
   "language": "python",
   "name": "python3"
  },
  "language_info": {
   "codemirror_mode": {
    "name": "ipython",
    "version": 3
   },
   "file_extension": ".py",
   "mimetype": "text/x-python",
   "name": "python",
   "nbconvert_exporter": "python",
   "pygments_lexer": "ipython3",
   "version": "3.9.7"
  }
 },
 "nbformat": 4,
 "nbformat_minor": 1
}
