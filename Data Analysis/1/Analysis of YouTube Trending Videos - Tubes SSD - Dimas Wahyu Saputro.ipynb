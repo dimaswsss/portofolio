{
  "cells": [
    {
      "cell_type": "markdown",
      "metadata": {
        "id": "drA_UftQR5uY"
      },
      "source": [
        "# Introduction"
      ]
    },
    {
      "cell_type": "markdown",
      "metadata": {
        "id": "Qa-Mu382R744"
      },
      "source": [
        "Halo, nama saya Dimas."
      ]
    },
    {
      "cell_type": "markdown",
      "metadata": {
        "id": "XVqLOkKdSBbR"
      },
      "source": [
        "# Getting Ready"
      ]
    },
    {
      "cell_type": "markdown",
      "metadata": {
        "id": "CHyqV63vSER6"
      },
      "source": [
        "## Modules Import"
      ]
    },
    {
      "cell_type": "code",
      "execution_count": 20,
      "metadata": {
        "id": "YKqUFkijSFoP"
      },
      "outputs": [],
      "source": [
        "import numpy as np                              \n",
        "import pandas as pd                             \n",
        "import matplotlib.pyplot as plt                 \n",
        "from matplotlib import cm\n",
        "import seaborn as sns                           \n",
        "sns.set_style('darkgrid')\n",
        "\n",
        "from sklearn.model_selection import train_test_split\n",
        "from sklearn.preprocessing import StandardScaler\n",
        "from sklearn.neighbors import KNeighborsClassifier\n",
        "from sklearn.metrics import classification_report\n",
        "from sklearn.model_selection import cross_val_score"
      ]
    },
    {
      "cell_type": "markdown",
      "metadata": {
        "id": "qEMoYRZlSa6g"
      },
      "source": [
        "## Data Import"
      ]
    },
    {
      "cell_type": "code",
      "execution_count": 21,
      "metadata": {
        "id": "L8UOtdrNSDra"
      },
      "outputs": [],
      "source": [
        "import pandas as pd\n",
        "url = 'https://drive.google.com/file/d/1j79kBhntz5PaizKBPDp03hzPuLgoT-CM/view' \n",
        "url = 'https://drive.google.com/uc?id=' +url.split('/')[-2]\n",
        "df = pd.read_csv(url, parse_dates=[\"publish_time\"])"
      ]
    },
    {
      "cell_type": "markdown",
      "metadata": {
        "id": "_c9ZyW55SlCI"
      },
      "source": [
        "# Overview"
      ]
    },
    {
      "cell_type": "markdown",
      "metadata": {
        "id": "BniQx2mtSn9I"
      },
      "source": [
        "## Heading of Data"
      ]
    },
    {
      "cell_type": "code",
      "execution_count": 22,
      "metadata": {
        "id": "NTvrMJGQSm4b",
        "colab": {
          "base_uri": "https://localhost:8080/",
          "height": 565
        },
        "outputId": "3eb31e73-167d-4e1d-831a-6d719a62b561"
      },
      "outputs": [
        {
          "output_type": "execute_result",
          "data": {
            "text/plain": [
              "      video_id trending_date  \\\n",
              "0  2kyS6SvSYSE      17.14.11   \n",
              "1  1ZAPwfrtAFY      17.14.11   \n",
              "2  5qpjK5DgCt4      17.14.11   \n",
              "3  puqaWrEC7tY      17.14.11   \n",
              "4  d380meD0W0M      17.14.11   \n",
              "\n",
              "                                               title          channel_title  \\\n",
              "0                 WE WANT TO TALK ABOUT OUR MARRIAGE           CaseyNeistat   \n",
              "1  The Trump Presidency: Last Week Tonight with J...        LastWeekTonight   \n",
              "2  Racist Superman | Rudy Mancuso, King Bach & Le...           Rudy Mancuso   \n",
              "3                   Nickelback Lyrics: Real or Fake?  Good Mythical Morning   \n",
              "4                           I Dare You: GOING BALD!?               nigahiga   \n",
              "\n",
              "   category_id              publish_time  \\\n",
              "0           22 2017-11-13 17:13:01+00:00   \n",
              "1           24 2017-11-13 07:30:00+00:00   \n",
              "2           23 2017-11-12 19:05:24+00:00   \n",
              "3           24 2017-11-13 11:00:04+00:00   \n",
              "4           24 2017-11-12 18:01:41+00:00   \n",
              "\n",
              "                                                tags    views   likes  \\\n",
              "0                                    SHANtell martin   748374   57527   \n",
              "1  last week tonight trump presidency|\"last week ...  2418783   97185   \n",
              "2  racist superman|\"rudy\"|\"mancuso\"|\"king\"|\"bach\"...  3191434  146033   \n",
              "3  rhett and link|\"gmm\"|\"good mythical morning\"|\"...   343168   10172   \n",
              "4  ryan|\"higa\"|\"higatv\"|\"nigahiga\"|\"i dare you\"|\"...  2095731  132235   \n",
              "\n",
              "   dislikes  comment_count                                  thumbnail_link  \\\n",
              "0      2966          15954  https://i.ytimg.com/vi/2kyS6SvSYSE/default.jpg   \n",
              "1      6146          12703  https://i.ytimg.com/vi/1ZAPwfrtAFY/default.jpg   \n",
              "2      5339           8181  https://i.ytimg.com/vi/5qpjK5DgCt4/default.jpg   \n",
              "3       666           2146  https://i.ytimg.com/vi/puqaWrEC7tY/default.jpg   \n",
              "4      1989          17518  https://i.ytimg.com/vi/d380meD0W0M/default.jpg   \n",
              "\n",
              "   comments_disabled  ratings_disabled  video_error_or_removed  \\\n",
              "0              False             False                   False   \n",
              "1              False             False                   False   \n",
              "2              False             False                   False   \n",
              "3              False             False                   False   \n",
              "4              False             False                   False   \n",
              "\n",
              "                                         description  \n",
              "0  SHANTELL'S CHANNEL - https://www.youtube.com/s...  \n",
              "1  One year after the presidential election, John...  \n",
              "2  WATCH MY PREVIOUS VIDEO ▶ \\n\\nSUBSCRIBE ► http...  \n",
              "3  Today we find out if Link is a Nickelback amat...  \n",
              "4  I know it's been a while since we did this sho...  "
            ],
            "text/html": [
              "\n",
              "  <div id=\"df-3e6131db-0c8e-4e57-9282-c6b04aef68d7\">\n",
              "    <div class=\"colab-df-container\">\n",
              "      <div>\n",
              "<style scoped>\n",
              "    .dataframe tbody tr th:only-of-type {\n",
              "        vertical-align: middle;\n",
              "    }\n",
              "\n",
              "    .dataframe tbody tr th {\n",
              "        vertical-align: top;\n",
              "    }\n",
              "\n",
              "    .dataframe thead th {\n",
              "        text-align: right;\n",
              "    }\n",
              "</style>\n",
              "<table border=\"1\" class=\"dataframe\">\n",
              "  <thead>\n",
              "    <tr style=\"text-align: right;\">\n",
              "      <th></th>\n",
              "      <th>video_id</th>\n",
              "      <th>trending_date</th>\n",
              "      <th>title</th>\n",
              "      <th>channel_title</th>\n",
              "      <th>category_id</th>\n",
              "      <th>publish_time</th>\n",
              "      <th>tags</th>\n",
              "      <th>views</th>\n",
              "      <th>likes</th>\n",
              "      <th>dislikes</th>\n",
              "      <th>comment_count</th>\n",
              "      <th>thumbnail_link</th>\n",
              "      <th>comments_disabled</th>\n",
              "      <th>ratings_disabled</th>\n",
              "      <th>video_error_or_removed</th>\n",
              "      <th>description</th>\n",
              "    </tr>\n",
              "  </thead>\n",
              "  <tbody>\n",
              "    <tr>\n",
              "      <th>0</th>\n",
              "      <td>2kyS6SvSYSE</td>\n",
              "      <td>17.14.11</td>\n",
              "      <td>WE WANT TO TALK ABOUT OUR MARRIAGE</td>\n",
              "      <td>CaseyNeistat</td>\n",
              "      <td>22</td>\n",
              "      <td>2017-11-13 17:13:01+00:00</td>\n",
              "      <td>SHANtell martin</td>\n",
              "      <td>748374</td>\n",
              "      <td>57527</td>\n",
              "      <td>2966</td>\n",
              "      <td>15954</td>\n",
              "      <td>https://i.ytimg.com/vi/2kyS6SvSYSE/default.jpg</td>\n",
              "      <td>False</td>\n",
              "      <td>False</td>\n",
              "      <td>False</td>\n",
              "      <td>SHANTELL'S CHANNEL - https://www.youtube.com/s...</td>\n",
              "    </tr>\n",
              "    <tr>\n",
              "      <th>1</th>\n",
              "      <td>1ZAPwfrtAFY</td>\n",
              "      <td>17.14.11</td>\n",
              "      <td>The Trump Presidency: Last Week Tonight with J...</td>\n",
              "      <td>LastWeekTonight</td>\n",
              "      <td>24</td>\n",
              "      <td>2017-11-13 07:30:00+00:00</td>\n",
              "      <td>last week tonight trump presidency|\"last week ...</td>\n",
              "      <td>2418783</td>\n",
              "      <td>97185</td>\n",
              "      <td>6146</td>\n",
              "      <td>12703</td>\n",
              "      <td>https://i.ytimg.com/vi/1ZAPwfrtAFY/default.jpg</td>\n",
              "      <td>False</td>\n",
              "      <td>False</td>\n",
              "      <td>False</td>\n",
              "      <td>One year after the presidential election, John...</td>\n",
              "    </tr>\n",
              "    <tr>\n",
              "      <th>2</th>\n",
              "      <td>5qpjK5DgCt4</td>\n",
              "      <td>17.14.11</td>\n",
              "      <td>Racist Superman | Rudy Mancuso, King Bach &amp; Le...</td>\n",
              "      <td>Rudy Mancuso</td>\n",
              "      <td>23</td>\n",
              "      <td>2017-11-12 19:05:24+00:00</td>\n",
              "      <td>racist superman|\"rudy\"|\"mancuso\"|\"king\"|\"bach\"...</td>\n",
              "      <td>3191434</td>\n",
              "      <td>146033</td>\n",
              "      <td>5339</td>\n",
              "      <td>8181</td>\n",
              "      <td>https://i.ytimg.com/vi/5qpjK5DgCt4/default.jpg</td>\n",
              "      <td>False</td>\n",
              "      <td>False</td>\n",
              "      <td>False</td>\n",
              "      <td>WATCH MY PREVIOUS VIDEO ▶ \\n\\nSUBSCRIBE ► http...</td>\n",
              "    </tr>\n",
              "    <tr>\n",
              "      <th>3</th>\n",
              "      <td>puqaWrEC7tY</td>\n",
              "      <td>17.14.11</td>\n",
              "      <td>Nickelback Lyrics: Real or Fake?</td>\n",
              "      <td>Good Mythical Morning</td>\n",
              "      <td>24</td>\n",
              "      <td>2017-11-13 11:00:04+00:00</td>\n",
              "      <td>rhett and link|\"gmm\"|\"good mythical morning\"|\"...</td>\n",
              "      <td>343168</td>\n",
              "      <td>10172</td>\n",
              "      <td>666</td>\n",
              "      <td>2146</td>\n",
              "      <td>https://i.ytimg.com/vi/puqaWrEC7tY/default.jpg</td>\n",
              "      <td>False</td>\n",
              "      <td>False</td>\n",
              "      <td>False</td>\n",
              "      <td>Today we find out if Link is a Nickelback amat...</td>\n",
              "    </tr>\n",
              "    <tr>\n",
              "      <th>4</th>\n",
              "      <td>d380meD0W0M</td>\n",
              "      <td>17.14.11</td>\n",
              "      <td>I Dare You: GOING BALD!?</td>\n",
              "      <td>nigahiga</td>\n",
              "      <td>24</td>\n",
              "      <td>2017-11-12 18:01:41+00:00</td>\n",
              "      <td>ryan|\"higa\"|\"higatv\"|\"nigahiga\"|\"i dare you\"|\"...</td>\n",
              "      <td>2095731</td>\n",
              "      <td>132235</td>\n",
              "      <td>1989</td>\n",
              "      <td>17518</td>\n",
              "      <td>https://i.ytimg.com/vi/d380meD0W0M/default.jpg</td>\n",
              "      <td>False</td>\n",
              "      <td>False</td>\n",
              "      <td>False</td>\n",
              "      <td>I know it's been a while since we did this sho...</td>\n",
              "    </tr>\n",
              "  </tbody>\n",
              "</table>\n",
              "</div>\n",
              "      <button class=\"colab-df-convert\" onclick=\"convertToInteractive('df-3e6131db-0c8e-4e57-9282-c6b04aef68d7')\"\n",
              "              title=\"Convert this dataframe to an interactive table.\"\n",
              "              style=\"display:none;\">\n",
              "        \n",
              "  <svg xmlns=\"http://www.w3.org/2000/svg\" height=\"24px\"viewBox=\"0 0 24 24\"\n",
              "       width=\"24px\">\n",
              "    <path d=\"M0 0h24v24H0V0z\" fill=\"none\"/>\n",
              "    <path d=\"M18.56 5.44l.94 2.06.94-2.06 2.06-.94-2.06-.94-.94-2.06-.94 2.06-2.06.94zm-11 1L8.5 8.5l.94-2.06 2.06-.94-2.06-.94L8.5 2.5l-.94 2.06-2.06.94zm10 10l.94 2.06.94-2.06 2.06-.94-2.06-.94-.94-2.06-.94 2.06-2.06.94z\"/><path d=\"M17.41 7.96l-1.37-1.37c-.4-.4-.92-.59-1.43-.59-.52 0-1.04.2-1.43.59L10.3 9.45l-7.72 7.72c-.78.78-.78 2.05 0 2.83L4 21.41c.39.39.9.59 1.41.59.51 0 1.02-.2 1.41-.59l7.78-7.78 2.81-2.81c.8-.78.8-2.07 0-2.86zM5.41 20L4 18.59l7.72-7.72 1.47 1.35L5.41 20z\"/>\n",
              "  </svg>\n",
              "      </button>\n",
              "      \n",
              "  <style>\n",
              "    .colab-df-container {\n",
              "      display:flex;\n",
              "      flex-wrap:wrap;\n",
              "      gap: 12px;\n",
              "    }\n",
              "\n",
              "    .colab-df-convert {\n",
              "      background-color: #E8F0FE;\n",
              "      border: none;\n",
              "      border-radius: 50%;\n",
              "      cursor: pointer;\n",
              "      display: none;\n",
              "      fill: #1967D2;\n",
              "      height: 32px;\n",
              "      padding: 0 0 0 0;\n",
              "      width: 32px;\n",
              "    }\n",
              "\n",
              "    .colab-df-convert:hover {\n",
              "      background-color: #E2EBFA;\n",
              "      box-shadow: 0px 1px 2px rgba(60, 64, 67, 0.3), 0px 1px 3px 1px rgba(60, 64, 67, 0.15);\n",
              "      fill: #174EA6;\n",
              "    }\n",
              "\n",
              "    [theme=dark] .colab-df-convert {\n",
              "      background-color: #3B4455;\n",
              "      fill: #D2E3FC;\n",
              "    }\n",
              "\n",
              "    [theme=dark] .colab-df-convert:hover {\n",
              "      background-color: #434B5C;\n",
              "      box-shadow: 0px 1px 3px 1px rgba(0, 0, 0, 0.15);\n",
              "      filter: drop-shadow(0px 1px 2px rgba(0, 0, 0, 0.3));\n",
              "      fill: #FFFFFF;\n",
              "    }\n",
              "  </style>\n",
              "\n",
              "      <script>\n",
              "        const buttonEl =\n",
              "          document.querySelector('#df-3e6131db-0c8e-4e57-9282-c6b04aef68d7 button.colab-df-convert');\n",
              "        buttonEl.style.display =\n",
              "          google.colab.kernel.accessAllowed ? 'block' : 'none';\n",
              "\n",
              "        async function convertToInteractive(key) {\n",
              "          const element = document.querySelector('#df-3e6131db-0c8e-4e57-9282-c6b04aef68d7');\n",
              "          const dataTable =\n",
              "            await google.colab.kernel.invokeFunction('convertToInteractive',\n",
              "                                                     [key], {});\n",
              "          if (!dataTable) return;\n",
              "\n",
              "          const docLinkHtml = 'Like what you see? Visit the ' +\n",
              "            '<a target=\"_blank\" href=https://colab.research.google.com/notebooks/data_table.ipynb>data table notebook</a>'\n",
              "            + ' to learn more about interactive tables.';\n",
              "          element.innerHTML = '';\n",
              "          dataTable['output_type'] = 'display_data';\n",
              "          await google.colab.output.renderOutput(dataTable, element);\n",
              "          const docLink = document.createElement('div');\n",
              "          docLink.innerHTML = docLinkHtml;\n",
              "          element.appendChild(docLink);\n",
              "        }\n",
              "      </script>\n",
              "    </div>\n",
              "  </div>\n",
              "  "
            ]
          },
          "metadata": {},
          "execution_count": 22
        }
      ],
      "source": [
        "df.head()"
      ]
    },
    {
      "cell_type": "markdown",
      "metadata": {
        "id": "V5HekYaeStX9"
      },
      "source": [
        "## Describe of Data"
      ]
    },
    {
      "cell_type": "code",
      "execution_count": null,
      "metadata": {
        "id": "QLFNBGOCSw3m",
        "outputId": "b679993b-d2e7-4d19-c862-e9a5273775d4"
      },
      "outputs": [
        {
          "name": "stdout",
          "output_type": "stream",
          "text": [
            "<class 'pandas.core.frame.DataFrame'>\n",
            "RangeIndex: 40949 entries, 0 to 40948\n",
            "Data columns (total 16 columns):\n",
            " #   Column                  Non-Null Count  Dtype              \n",
            "---  ------                  --------------  -----              \n",
            " 0   video_id                40949 non-null  object             \n",
            " 1   trending_date           40949 non-null  object             \n",
            " 2   title                   40949 non-null  object             \n",
            " 3   channel_title           40949 non-null  object             \n",
            " 4   category_id             40949 non-null  int64              \n",
            " 5   publish_time            40949 non-null  datetime64[ns, UTC]\n",
            " 6   tags                    40949 non-null  object             \n",
            " 7   views                   40949 non-null  int64              \n",
            " 8   likes                   40949 non-null  int64              \n",
            " 9   dislikes                40949 non-null  int64              \n",
            " 10  comment_count           40949 non-null  int64              \n",
            " 11  thumbnail_link          40949 non-null  object             \n",
            " 12  comments_disabled       40949 non-null  bool               \n",
            " 13  ratings_disabled        40949 non-null  bool               \n",
            " 14  video_error_or_removed  40949 non-null  bool               \n",
            " 15  description             40379 non-null  object             \n",
            "dtypes: bool(3), datetime64[ns, UTC](1), int64(5), object(7)\n",
            "memory usage: 4.2+ MB\n"
          ]
        }
      ],
      "source": [
        "df.info()"
      ]
    },
    {
      "cell_type": "markdown",
      "metadata": {
        "id": "1x6tFMegUFi7"
      },
      "source": [
        "## Show Row 1"
      ]
    },
    {
      "cell_type": "code",
      "execution_count": null,
      "metadata": {
        "id": "TECSEaeMUG5T",
        "outputId": "0c61de00-028d-4ba4-c248-a7a42edc808c"
      },
      "outputs": [
        {
          "data": {
            "text/html": [
              "<div>\n",
              "<style scoped>\n",
              "    .dataframe tbody tr th:only-of-type {\n",
              "        vertical-align: middle;\n",
              "    }\n",
              "\n",
              "    .dataframe tbody tr th {\n",
              "        vertical-align: top;\n",
              "    }\n",
              "\n",
              "    .dataframe thead th {\n",
              "        text-align: right;\n",
              "    }\n",
              "</style>\n",
              "<table border=\"1\" class=\"dataframe\">\n",
              "  <thead>\n",
              "    <tr style=\"text-align: right;\">\n",
              "      <th></th>\n",
              "      <th>0</th>\n",
              "    </tr>\n",
              "  </thead>\n",
              "  <tbody>\n",
              "    <tr>\n",
              "      <th>video_id</th>\n",
              "      <td>2kyS6SvSYSE</td>\n",
              "    </tr>\n",
              "    <tr>\n",
              "      <th>trending_date</th>\n",
              "      <td>17.14.11</td>\n",
              "    </tr>\n",
              "    <tr>\n",
              "      <th>title</th>\n",
              "      <td>WE WANT TO TALK ABOUT OUR MARRIAGE</td>\n",
              "    </tr>\n",
              "    <tr>\n",
              "      <th>channel_title</th>\n",
              "      <td>CaseyNeistat</td>\n",
              "    </tr>\n",
              "    <tr>\n",
              "      <th>category_id</th>\n",
              "      <td>22</td>\n",
              "    </tr>\n",
              "    <tr>\n",
              "      <th>publish_time</th>\n",
              "      <td>2017-11-13 17:13:01+00:00</td>\n",
              "    </tr>\n",
              "    <tr>\n",
              "      <th>tags</th>\n",
              "      <td>SHANtell martin</td>\n",
              "    </tr>\n",
              "    <tr>\n",
              "      <th>views</th>\n",
              "      <td>748374</td>\n",
              "    </tr>\n",
              "    <tr>\n",
              "      <th>likes</th>\n",
              "      <td>57527</td>\n",
              "    </tr>\n",
              "    <tr>\n",
              "      <th>dislikes</th>\n",
              "      <td>2966</td>\n",
              "    </tr>\n",
              "    <tr>\n",
              "      <th>comment_count</th>\n",
              "      <td>15954</td>\n",
              "    </tr>\n",
              "    <tr>\n",
              "      <th>thumbnail_link</th>\n",
              "      <td>https://i.ytimg.com/vi/2kyS6SvSYSE/default.jpg</td>\n",
              "    </tr>\n",
              "    <tr>\n",
              "      <th>comments_disabled</th>\n",
              "      <td>False</td>\n",
              "    </tr>\n",
              "    <tr>\n",
              "      <th>ratings_disabled</th>\n",
              "      <td>False</td>\n",
              "    </tr>\n",
              "    <tr>\n",
              "      <th>video_error_or_removed</th>\n",
              "      <td>False</td>\n",
              "    </tr>\n",
              "    <tr>\n",
              "      <th>description</th>\n",
              "      <td>SHANTELL'S CHANNEL - https://www.youtube.com/s...</td>\n",
              "    </tr>\n",
              "  </tbody>\n",
              "</table>\n",
              "</div>"
            ],
            "text/plain": [
              "                                                                        0\n",
              "video_id                                                      2kyS6SvSYSE\n",
              "trending_date                                                    17.14.11\n",
              "title                                  WE WANT TO TALK ABOUT OUR MARRIAGE\n",
              "channel_title                                                CaseyNeistat\n",
              "category_id                                                            22\n",
              "publish_time                                    2017-11-13 17:13:01+00:00\n",
              "tags                                                      SHANtell martin\n",
              "views                                                              748374\n",
              "likes                                                               57527\n",
              "dislikes                                                             2966\n",
              "comment_count                                                       15954\n",
              "thumbnail_link             https://i.ytimg.com/vi/2kyS6SvSYSE/default.jpg\n",
              "comments_disabled                                                   False\n",
              "ratings_disabled                                                    False\n",
              "video_error_or_removed                                              False\n",
              "description             SHANTELL'S CHANNEL - https://www.youtube.com/s..."
            ]
          },
          "execution_count": 5,
          "metadata": {},
          "output_type": "execute_result"
        }
      ],
      "source": [
        "df.head(1).transpose()"
      ]
    },
    {
      "cell_type": "markdown",
      "metadata": {
        "id": "brupNZ07S0MX"
      },
      "source": [
        "## Dataset Dimension"
      ]
    },
    {
      "cell_type": "code",
      "execution_count": null,
      "metadata": {
        "id": "eU_fEHL6S4Bg",
        "outputId": "eccba9d2-2ad6-4734-ac13-f9f5bada19df"
      },
      "outputs": [
        {
          "data": {
            "text/plain": [
              "(40949, 16)"
            ]
          },
          "execution_count": 4,
          "metadata": {},
          "output_type": "execute_result"
        }
      ],
      "source": [
        "df.shape"
      ]
    },
    {
      "cell_type": "markdown",
      "metadata": {
        "id": "-Sb63gRGS4aD"
      },
      "source": [
        "## Check Missing Data"
      ]
    },
    {
      "cell_type": "code",
      "execution_count": null,
      "metadata": {
        "id": "KHnWMEHITMeo",
        "outputId": "2f5cd65e-a9e2-4fb3-eb3b-8da8413e4ed4"
      },
      "outputs": [
        {
          "data": {
            "text/plain": [
              "video_id                    0\n",
              "trending_date               0\n",
              "title                       0\n",
              "channel_title               0\n",
              "category_id                 0\n",
              "publish_time                0\n",
              "tags                        0\n",
              "views                       0\n",
              "likes                       0\n",
              "dislikes                    0\n",
              "comment_count               0\n",
              "thumbnail_link              0\n",
              "comments_disabled           0\n",
              "ratings_disabled            0\n",
              "video_error_or_removed      0\n",
              "description               570\n",
              "dtype: int64"
            ]
          },
          "execution_count": 5,
          "metadata": {},
          "output_type": "execute_result"
        }
      ],
      "source": [
        "# Missing values by column\n",
        "df.isna().sum()"
      ]
    },
    {
      "cell_type": "markdown",
      "metadata": {
        "id": "Xh_YhlAZV_Ss"
      },
      "source": [
        "# Data Wrangling"
      ]
    },
    {
      "cell_type": "markdown",
      "metadata": {
        "id": "bc0W3g0ibLoV"
      },
      "source": [
        "## Remove any unnecessary columns."
      ]
    },
    {
      "cell_type": "code",
      "execution_count": 3,
      "metadata": {
        "id": "tuE6V59nbKnE"
      },
      "outputs": [],
      "source": [
        "# delete column tags\n",
        "df.drop(columns=['tags'], inplace=True)\n",
        "\n",
        "# delete column thumbnail_link, comments_disabled, ratings_disabled, video_error_or_removed, and description\n",
        "df.drop(columns=['thumbnail_link', 'comments_disabled', 'ratings_disabled', 'video_error_or_removed', 'description'], inplace=True)"
      ]
    },
    {
      "cell_type": "markdown",
      "metadata": {
        "id": "nlg-uu2Taazx"
      },
      "source": [
        "## Change Column category_id to str Type "
      ]
    },
    {
      "cell_type": "code",
      "execution_count": 4,
      "metadata": {
        "id": "jRH6WQ6TaglB"
      },
      "outputs": [],
      "source": [
        "df.category_id = df.category_id.astype(str)"
      ]
    },
    {
      "cell_type": "markdown",
      "metadata": {
        "id": "e64nvajnWKfr"
      },
      "source": [
        "## Fix Missing Values by ' '"
      ]
    },
    {
      "cell_type": "code",
      "execution_count": 5,
      "metadata": {
        "id": "dPS5Wg50WAwt"
      },
      "outputs": [],
      "source": [
        "# change missing value to ' '\n",
        "df.fillna(' ', inplace=True)"
      ]
    },
    {
      "cell_type": "markdown",
      "metadata": {
        "id": "2PmdTREiW1sN"
      },
      "source": [
        "## Correct Date Format in Column date_trending"
      ]
    },
    {
      "cell_type": "code",
      "execution_count": 6,
      "metadata": {
        "id": "hRmbg8IMWQN1",
        "colab": {
          "base_uri": "https://localhost:8080/",
          "height": 250
        },
        "outputId": "01bcbecd-af0b-4c90-ecba-4e08562ac730"
      },
      "outputs": [
        {
          "output_type": "execute_result",
          "data": {
            "text/plain": [
              "      video_id trending_date  \\\n",
              "0  2kyS6SvSYSE    2017-11-14   \n",
              "1  1ZAPwfrtAFY    2017-11-14   \n",
              "2  5qpjK5DgCt4    2017-11-14   \n",
              "3  puqaWrEC7tY    2017-11-14   \n",
              "4  d380meD0W0M    2017-11-14   \n",
              "\n",
              "                                               title          channel_title  \\\n",
              "0                 WE WANT TO TALK ABOUT OUR MARRIAGE           CaseyNeistat   \n",
              "1  The Trump Presidency: Last Week Tonight with J...        LastWeekTonight   \n",
              "2  Racist Superman | Rudy Mancuso, King Bach & Le...           Rudy Mancuso   \n",
              "3                   Nickelback Lyrics: Real or Fake?  Good Mythical Morning   \n",
              "4                           I Dare You: GOING BALD!?               nigahiga   \n",
              "\n",
              "  category_id              publish_time    views   likes  dislikes  \\\n",
              "0          22 2017-11-13 17:13:01+00:00   748374   57527      2966   \n",
              "1          24 2017-11-13 07:30:00+00:00  2418783   97185      6146   \n",
              "2          23 2017-11-12 19:05:24+00:00  3191434  146033      5339   \n",
              "3          24 2017-11-13 11:00:04+00:00   343168   10172       666   \n",
              "4          24 2017-11-12 18:01:41+00:00  2095731  132235      1989   \n",
              "\n",
              "   comment_count  \n",
              "0          15954  \n",
              "1          12703  \n",
              "2           8181  \n",
              "3           2146  \n",
              "4          17518  "
            ],
            "text/html": [
              "\n",
              "  <div id=\"df-0c14c42b-1ba4-4919-8220-bdc5b8b1e91e\">\n",
              "    <div class=\"colab-df-container\">\n",
              "      <div>\n",
              "<style scoped>\n",
              "    .dataframe tbody tr th:only-of-type {\n",
              "        vertical-align: middle;\n",
              "    }\n",
              "\n",
              "    .dataframe tbody tr th {\n",
              "        vertical-align: top;\n",
              "    }\n",
              "\n",
              "    .dataframe thead th {\n",
              "        text-align: right;\n",
              "    }\n",
              "</style>\n",
              "<table border=\"1\" class=\"dataframe\">\n",
              "  <thead>\n",
              "    <tr style=\"text-align: right;\">\n",
              "      <th></th>\n",
              "      <th>video_id</th>\n",
              "      <th>trending_date</th>\n",
              "      <th>title</th>\n",
              "      <th>channel_title</th>\n",
              "      <th>category_id</th>\n",
              "      <th>publish_time</th>\n",
              "      <th>views</th>\n",
              "      <th>likes</th>\n",
              "      <th>dislikes</th>\n",
              "      <th>comment_count</th>\n",
              "    </tr>\n",
              "  </thead>\n",
              "  <tbody>\n",
              "    <tr>\n",
              "      <th>0</th>\n",
              "      <td>2kyS6SvSYSE</td>\n",
              "      <td>2017-11-14</td>\n",
              "      <td>WE WANT TO TALK ABOUT OUR MARRIAGE</td>\n",
              "      <td>CaseyNeistat</td>\n",
              "      <td>22</td>\n",
              "      <td>2017-11-13 17:13:01+00:00</td>\n",
              "      <td>748374</td>\n",
              "      <td>57527</td>\n",
              "      <td>2966</td>\n",
              "      <td>15954</td>\n",
              "    </tr>\n",
              "    <tr>\n",
              "      <th>1</th>\n",
              "      <td>1ZAPwfrtAFY</td>\n",
              "      <td>2017-11-14</td>\n",
              "      <td>The Trump Presidency: Last Week Tonight with J...</td>\n",
              "      <td>LastWeekTonight</td>\n",
              "      <td>24</td>\n",
              "      <td>2017-11-13 07:30:00+00:00</td>\n",
              "      <td>2418783</td>\n",
              "      <td>97185</td>\n",
              "      <td>6146</td>\n",
              "      <td>12703</td>\n",
              "    </tr>\n",
              "    <tr>\n",
              "      <th>2</th>\n",
              "      <td>5qpjK5DgCt4</td>\n",
              "      <td>2017-11-14</td>\n",
              "      <td>Racist Superman | Rudy Mancuso, King Bach &amp; Le...</td>\n",
              "      <td>Rudy Mancuso</td>\n",
              "      <td>23</td>\n",
              "      <td>2017-11-12 19:05:24+00:00</td>\n",
              "      <td>3191434</td>\n",
              "      <td>146033</td>\n",
              "      <td>5339</td>\n",
              "      <td>8181</td>\n",
              "    </tr>\n",
              "    <tr>\n",
              "      <th>3</th>\n",
              "      <td>puqaWrEC7tY</td>\n",
              "      <td>2017-11-14</td>\n",
              "      <td>Nickelback Lyrics: Real or Fake?</td>\n",
              "      <td>Good Mythical Morning</td>\n",
              "      <td>24</td>\n",
              "      <td>2017-11-13 11:00:04+00:00</td>\n",
              "      <td>343168</td>\n",
              "      <td>10172</td>\n",
              "      <td>666</td>\n",
              "      <td>2146</td>\n",
              "    </tr>\n",
              "    <tr>\n",
              "      <th>4</th>\n",
              "      <td>d380meD0W0M</td>\n",
              "      <td>2017-11-14</td>\n",
              "      <td>I Dare You: GOING BALD!?</td>\n",
              "      <td>nigahiga</td>\n",
              "      <td>24</td>\n",
              "      <td>2017-11-12 18:01:41+00:00</td>\n",
              "      <td>2095731</td>\n",
              "      <td>132235</td>\n",
              "      <td>1989</td>\n",
              "      <td>17518</td>\n",
              "    </tr>\n",
              "  </tbody>\n",
              "</table>\n",
              "</div>\n",
              "      <button class=\"colab-df-convert\" onclick=\"convertToInteractive('df-0c14c42b-1ba4-4919-8220-bdc5b8b1e91e')\"\n",
              "              title=\"Convert this dataframe to an interactive table.\"\n",
              "              style=\"display:none;\">\n",
              "        \n",
              "  <svg xmlns=\"http://www.w3.org/2000/svg\" height=\"24px\"viewBox=\"0 0 24 24\"\n",
              "       width=\"24px\">\n",
              "    <path d=\"M0 0h24v24H0V0z\" fill=\"none\"/>\n",
              "    <path d=\"M18.56 5.44l.94 2.06.94-2.06 2.06-.94-2.06-.94-.94-2.06-.94 2.06-2.06.94zm-11 1L8.5 8.5l.94-2.06 2.06-.94-2.06-.94L8.5 2.5l-.94 2.06-2.06.94zm10 10l.94 2.06.94-2.06 2.06-.94-2.06-.94-.94-2.06-.94 2.06-2.06.94z\"/><path d=\"M17.41 7.96l-1.37-1.37c-.4-.4-.92-.59-1.43-.59-.52 0-1.04.2-1.43.59L10.3 9.45l-7.72 7.72c-.78.78-.78 2.05 0 2.83L4 21.41c.39.39.9.59 1.41.59.51 0 1.02-.2 1.41-.59l7.78-7.78 2.81-2.81c.8-.78.8-2.07 0-2.86zM5.41 20L4 18.59l7.72-7.72 1.47 1.35L5.41 20z\"/>\n",
              "  </svg>\n",
              "      </button>\n",
              "      \n",
              "  <style>\n",
              "    .colab-df-container {\n",
              "      display:flex;\n",
              "      flex-wrap:wrap;\n",
              "      gap: 12px;\n",
              "    }\n",
              "\n",
              "    .colab-df-convert {\n",
              "      background-color: #E8F0FE;\n",
              "      border: none;\n",
              "      border-radius: 50%;\n",
              "      cursor: pointer;\n",
              "      display: none;\n",
              "      fill: #1967D2;\n",
              "      height: 32px;\n",
              "      padding: 0 0 0 0;\n",
              "      width: 32px;\n",
              "    }\n",
              "\n",
              "    .colab-df-convert:hover {\n",
              "      background-color: #E2EBFA;\n",
              "      box-shadow: 0px 1px 2px rgba(60, 64, 67, 0.3), 0px 1px 3px 1px rgba(60, 64, 67, 0.15);\n",
              "      fill: #174EA6;\n",
              "    }\n",
              "\n",
              "    [theme=dark] .colab-df-convert {\n",
              "      background-color: #3B4455;\n",
              "      fill: #D2E3FC;\n",
              "    }\n",
              "\n",
              "    [theme=dark] .colab-df-convert:hover {\n",
              "      background-color: #434B5C;\n",
              "      box-shadow: 0px 1px 3px 1px rgba(0, 0, 0, 0.15);\n",
              "      filter: drop-shadow(0px 1px 2px rgba(0, 0, 0, 0.3));\n",
              "      fill: #FFFFFF;\n",
              "    }\n",
              "  </style>\n",
              "\n",
              "      <script>\n",
              "        const buttonEl =\n",
              "          document.querySelector('#df-0c14c42b-1ba4-4919-8220-bdc5b8b1e91e button.colab-df-convert');\n",
              "        buttonEl.style.display =\n",
              "          google.colab.kernel.accessAllowed ? 'block' : 'none';\n",
              "\n",
              "        async function convertToInteractive(key) {\n",
              "          const element = document.querySelector('#df-0c14c42b-1ba4-4919-8220-bdc5b8b1e91e');\n",
              "          const dataTable =\n",
              "            await google.colab.kernel.invokeFunction('convertToInteractive',\n",
              "                                                     [key], {});\n",
              "          if (!dataTable) return;\n",
              "\n",
              "          const docLinkHtml = 'Like what you see? Visit the ' +\n",
              "            '<a target=\"_blank\" href=https://colab.research.google.com/notebooks/data_table.ipynb>data table notebook</a>'\n",
              "            + ' to learn more about interactive tables.';\n",
              "          element.innerHTML = '';\n",
              "          dataTable['output_type'] = 'display_data';\n",
              "          await google.colab.output.renderOutput(dataTable, element);\n",
              "          const docLink = document.createElement('div');\n",
              "          docLink.innerHTML = docLinkHtml;\n",
              "          element.appendChild(docLink);\n",
              "        }\n",
              "      </script>\n",
              "    </div>\n",
              "  </div>\n",
              "  "
            ]
          },
          "metadata": {},
          "execution_count": 6
        }
      ],
      "source": [
        "# If we look at the trending_date or publish_time columns, we see that they are not yet in the correct format of datetime data.\n",
        "df['trending_date'] = pd.to_datetime(df['trending_date'], format='%y.%d.%m')\n",
        "df.head()"
      ]
    },
    {
      "cell_type": "markdown",
      "metadata": {
        "id": "W6ez74zXWBLR"
      },
      "source": [
        "# Data Visualization"
      ]
    },
    {
      "cell_type": "markdown",
      "metadata": {
        "id": "aeCTTvhbTinK"
      },
      "source": [
        "## 10 Videos"
      ]
    },
    {
      "cell_type": "markdown",
      "metadata": {
        "id": "VRQt2sKUTinL"
      },
      "source": [
        "### With Lowest Views"
      ]
    },
    {
      "cell_type": "code",
      "execution_count": 14,
      "metadata": {
        "colab": {
          "base_uri": "https://localhost:8080/",
          "height": 394
        },
        "id": "3N4QNM9JTinM",
        "outputId": "d2303eac-a6e9-4df8-a617-f7b2f0e6db10"
      },
      "outputs": [
        {
          "output_type": "execute_result",
          "data": {
            "text/plain": [
              "                                                         title  views\n",
              "video_id                                                             \n",
              "y6KYFcta4SE   1 dead, others injured after Ky. school shooting    559\n",
              "-JVITToppE0      Coach Taggart Monday Presser Ahead of Arizona    704\n",
              "dQMZLXaa1L8                                      Artwork Forge    745\n",
              "zeQaJGkFyqQ     Raw: 3 South Carolina Deputies, 1 Officer Shot    748\n",
              "qg0GdM60syI             Huffy Metaloid Bicycle Commercial 1997    773\n",
              "tKX8nUCSBjM          Bannon Arrives to Testify on Capitol Hill    835\n",
              "JNv4w6DFoYs  OjO Commuter Scooter®- Light Electric Vehicle ...    917\n",
              "TKMXw1YI5S4  UR EEOC Complainants Press Conference (5pm Jan...    988\n",
              "g3VgrgV3kFk                John Thrasher: Jimbo's here forever   1032\n",
              "s_FAjI51LPU         Gas Mask Scene | Kong: Skull Island (2017)   1082"
            ],
            "text/html": [
              "\n",
              "  <div id=\"df-d3abd08e-813d-4453-9cd5-db36b29c7353\">\n",
              "    <div class=\"colab-df-container\">\n",
              "      <div>\n",
              "<style scoped>\n",
              "    .dataframe tbody tr th:only-of-type {\n",
              "        vertical-align: middle;\n",
              "    }\n",
              "\n",
              "    .dataframe tbody tr th {\n",
              "        vertical-align: top;\n",
              "    }\n",
              "\n",
              "    .dataframe thead th {\n",
              "        text-align: right;\n",
              "    }\n",
              "</style>\n",
              "<table border=\"1\" class=\"dataframe\">\n",
              "  <thead>\n",
              "    <tr style=\"text-align: right;\">\n",
              "      <th></th>\n",
              "      <th>title</th>\n",
              "      <th>views</th>\n",
              "    </tr>\n",
              "    <tr>\n",
              "      <th>video_id</th>\n",
              "      <th></th>\n",
              "      <th></th>\n",
              "    </tr>\n",
              "  </thead>\n",
              "  <tbody>\n",
              "    <tr>\n",
              "      <th>y6KYFcta4SE</th>\n",
              "      <td>1 dead, others injured after Ky. school shooting</td>\n",
              "      <td>559</td>\n",
              "    </tr>\n",
              "    <tr>\n",
              "      <th>-JVITToppE0</th>\n",
              "      <td>Coach Taggart Monday Presser Ahead of Arizona</td>\n",
              "      <td>704</td>\n",
              "    </tr>\n",
              "    <tr>\n",
              "      <th>dQMZLXaa1L8</th>\n",
              "      <td>Artwork Forge</td>\n",
              "      <td>745</td>\n",
              "    </tr>\n",
              "    <tr>\n",
              "      <th>zeQaJGkFyqQ</th>\n",
              "      <td>Raw: 3 South Carolina Deputies, 1 Officer Shot</td>\n",
              "      <td>748</td>\n",
              "    </tr>\n",
              "    <tr>\n",
              "      <th>qg0GdM60syI</th>\n",
              "      <td>Huffy Metaloid Bicycle Commercial 1997</td>\n",
              "      <td>773</td>\n",
              "    </tr>\n",
              "    <tr>\n",
              "      <th>tKX8nUCSBjM</th>\n",
              "      <td>Bannon Arrives to Testify on Capitol Hill</td>\n",
              "      <td>835</td>\n",
              "    </tr>\n",
              "    <tr>\n",
              "      <th>JNv4w6DFoYs</th>\n",
              "      <td>OjO Commuter Scooter®- Light Electric Vehicle ...</td>\n",
              "      <td>917</td>\n",
              "    </tr>\n",
              "    <tr>\n",
              "      <th>TKMXw1YI5S4</th>\n",
              "      <td>UR EEOC Complainants Press Conference (5pm Jan...</td>\n",
              "      <td>988</td>\n",
              "    </tr>\n",
              "    <tr>\n",
              "      <th>g3VgrgV3kFk</th>\n",
              "      <td>John Thrasher: Jimbo's here forever</td>\n",
              "      <td>1032</td>\n",
              "    </tr>\n",
              "    <tr>\n",
              "      <th>s_FAjI51LPU</th>\n",
              "      <td>Gas Mask Scene | Kong: Skull Island (2017)</td>\n",
              "      <td>1082</td>\n",
              "    </tr>\n",
              "  </tbody>\n",
              "</table>\n",
              "</div>\n",
              "      <button class=\"colab-df-convert\" onclick=\"convertToInteractive('df-d3abd08e-813d-4453-9cd5-db36b29c7353')\"\n",
              "              title=\"Convert this dataframe to an interactive table.\"\n",
              "              style=\"display:none;\">\n",
              "        \n",
              "  <svg xmlns=\"http://www.w3.org/2000/svg\" height=\"24px\"viewBox=\"0 0 24 24\"\n",
              "       width=\"24px\">\n",
              "    <path d=\"M0 0h24v24H0V0z\" fill=\"none\"/>\n",
              "    <path d=\"M18.56 5.44l.94 2.06.94-2.06 2.06-.94-2.06-.94-.94-2.06-.94 2.06-2.06.94zm-11 1L8.5 8.5l.94-2.06 2.06-.94-2.06-.94L8.5 2.5l-.94 2.06-2.06.94zm10 10l.94 2.06.94-2.06 2.06-.94-2.06-.94-.94-2.06-.94 2.06-2.06.94z\"/><path d=\"M17.41 7.96l-1.37-1.37c-.4-.4-.92-.59-1.43-.59-.52 0-1.04.2-1.43.59L10.3 9.45l-7.72 7.72c-.78.78-.78 2.05 0 2.83L4 21.41c.39.39.9.59 1.41.59.51 0 1.02-.2 1.41-.59l7.78-7.78 2.81-2.81c.8-.78.8-2.07 0-2.86zM5.41 20L4 18.59l7.72-7.72 1.47 1.35L5.41 20z\"/>\n",
              "  </svg>\n",
              "      </button>\n",
              "      \n",
              "  <style>\n",
              "    .colab-df-container {\n",
              "      display:flex;\n",
              "      flex-wrap:wrap;\n",
              "      gap: 12px;\n",
              "    }\n",
              "\n",
              "    .colab-df-convert {\n",
              "      background-color: #E8F0FE;\n",
              "      border: none;\n",
              "      border-radius: 50%;\n",
              "      cursor: pointer;\n",
              "      display: none;\n",
              "      fill: #1967D2;\n",
              "      height: 32px;\n",
              "      padding: 0 0 0 0;\n",
              "      width: 32px;\n",
              "    }\n",
              "\n",
              "    .colab-df-convert:hover {\n",
              "      background-color: #E2EBFA;\n",
              "      box-shadow: 0px 1px 2px rgba(60, 64, 67, 0.3), 0px 1px 3px 1px rgba(60, 64, 67, 0.15);\n",
              "      fill: #174EA6;\n",
              "    }\n",
              "\n",
              "    [theme=dark] .colab-df-convert {\n",
              "      background-color: #3B4455;\n",
              "      fill: #D2E3FC;\n",
              "    }\n",
              "\n",
              "    [theme=dark] .colab-df-convert:hover {\n",
              "      background-color: #434B5C;\n",
              "      box-shadow: 0px 1px 3px 1px rgba(0, 0, 0, 0.15);\n",
              "      filter: drop-shadow(0px 1px 2px rgba(0, 0, 0, 0.3));\n",
              "      fill: #FFFFFF;\n",
              "    }\n",
              "  </style>\n",
              "\n",
              "      <script>\n",
              "        const buttonEl =\n",
              "          document.querySelector('#df-d3abd08e-813d-4453-9cd5-db36b29c7353 button.colab-df-convert');\n",
              "        buttonEl.style.display =\n",
              "          google.colab.kernel.accessAllowed ? 'block' : 'none';\n",
              "\n",
              "        async function convertToInteractive(key) {\n",
              "          const element = document.querySelector('#df-d3abd08e-813d-4453-9cd5-db36b29c7353');\n",
              "          const dataTable =\n",
              "            await google.colab.kernel.invokeFunction('convertToInteractive',\n",
              "                                                     [key], {});\n",
              "          if (!dataTable) return;\n",
              "\n",
              "          const docLinkHtml = 'Like what you see? Visit the ' +\n",
              "            '<a target=\"_blank\" href=https://colab.research.google.com/notebooks/data_table.ipynb>data table notebook</a>'\n",
              "            + ' to learn more about interactive tables.';\n",
              "          element.innerHTML = '';\n",
              "          dataTable['output_type'] = 'display_data';\n",
              "          await google.colab.output.renderOutput(dataTable, element);\n",
              "          const docLink = document.createElement('div');\n",
              "          docLink.innerHTML = docLinkHtml;\n",
              "          element.appendChild(docLink);\n",
              "        }\n",
              "      </script>\n",
              "    </div>\n",
              "  </div>\n",
              "  "
            ]
          },
          "metadata": {},
          "execution_count": 14
        }
      ],
      "source": [
        "low_video = df.groupby('video_id').agg({'title': 'first', 'views': 'max'}).sort_values(by='views', ascending=True).head(10)\n",
        "low_video"
      ]
    },
    {
      "cell_type": "code",
      "execution_count": 15,
      "metadata": {
        "colab": {
          "base_uri": "https://localhost:8080/",
          "height": 283
        },
        "id": "4BzRFW8cTinN",
        "outputId": "260a6985-fdc5-42c1-b459-30478bc2d89f"
      },
      "outputs": [
        {
          "output_type": "execute_result",
          "data": {
            "text/plain": [
              "<matplotlib.axes._subplots.AxesSubplot at 0x7f72b4bfd750>"
            ]
          },
          "metadata": {},
          "execution_count": 15
        },
        {
          "output_type": "display_data",
          "data": {
            "text/plain": [
              "<Figure size 432x288 with 1 Axes>"
            ],
            "image/png": "[encoded data removed]"
          },
          "metadata": {
            "needs_background": "light"
          }
        }
      ],
      "source": [
        "low_video.plot(kind='barh', x='title', y='views')"
      ]
    },
    {
      "cell_type": "markdown",
      "metadata": {
        "id": "l4tulQvhTinN"
      },
      "source": [
        "### With Top Views"
      ]
    },
    {
      "cell_type": "code",
      "execution_count": 12,
      "metadata": {
        "colab": {
          "base_uri": "https://localhost:8080/",
          "height": 394
        },
        "id": "wZNQ31LjTinO",
        "outputId": "38600a5f-676b-416a-b807-15528b3eb4d4"
      },
      "outputs": [
        {
          "output_type": "execute_result",
          "data": {
            "text/plain": [
              "                                                         title      views\n",
              "video_id                                                                 \n",
              "VYOjWnS4cMY  Childish Gambino - This Is America (Official V...  225211923\n",
              "FlsCjmMhFmw  YouTube Rewind: The Shape of 2017 | #YouTubeRe...  149376127\n",
              "ffxKSjUwKdU               Ariana Grande - No Tears Left To Cry  148689896\n",
              "zEf423kYfqk  Becky G, Natti Natasha - Sin Pijama (Official ...  139334502\n",
              "7C2z4GqqS5E                BTS (방탄소년단) 'FAKE LOVE' Official MV  123010920\n",
              "M4ZoCHID9GI     The Weeknd - Call Out My Name (Official Video)  122544931\n",
              "TyHvyGVs42U          Luis Fonsi, Demi Lovato - Échame La Culpa  102012605\n",
              "xTlNMmZKwpA  Cardi B, Bad Bunny & J Balvin - I Like It [Off...   94254507\n",
              "6ZfuNTqbHE8  Marvel Studios' Avengers: Infinity War Officia...   91933007\n",
              "-BQJo3vK8O8              Maluma - El Préstamo (Official Video)   87264467"
            ],
            "text/html": [
              "\n",
              "  <div id=\"df-ac16b4e4-1ad7-4662-8b4a-e693b4f2a08f\">\n",
              "    <div class=\"colab-df-container\">\n",
              "      <div>\n",
              "<style scoped>\n",
              "    .dataframe tbody tr th:only-of-type {\n",
              "        vertical-align: middle;\n",
              "    }\n",
              "\n",
              "    .dataframe tbody tr th {\n",
              "        vertical-align: top;\n",
              "    }\n",
              "\n",
              "    .dataframe thead th {\n",
              "        text-align: right;\n",
              "    }\n",
              "</style>\n",
              "<table border=\"1\" class=\"dataframe\">\n",
              "  <thead>\n",
              "    <tr style=\"text-align: right;\">\n",
              "      <th></th>\n",
              "      <th>title</th>\n",
              "      <th>views</th>\n",
              "    </tr>\n",
              "    <tr>\n",
              "      <th>video_id</th>\n",
              "      <th></th>\n",
              "      <th></th>\n",
              "    </tr>\n",
              "  </thead>\n",
              "  <tbody>\n",
              "    <tr>\n",
              "      <th>VYOjWnS4cMY</th>\n",
              "      <td>Childish Gambino - This Is America (Official V...</td>\n",
              "      <td>225211923</td>\n",
              "    </tr>\n",
              "    <tr>\n",
              "      <th>FlsCjmMhFmw</th>\n",
              "      <td>YouTube Rewind: The Shape of 2017 | #YouTubeRe...</td>\n",
              "      <td>149376127</td>\n",
              "    </tr>\n",
              "    <tr>\n",
              "      <th>ffxKSjUwKdU</th>\n",
              "      <td>Ariana Grande - No Tears Left To Cry</td>\n",
              "      <td>148689896</td>\n",
              "    </tr>\n",
              "    <tr>\n",
              "      <th>zEf423kYfqk</th>\n",
              "      <td>Becky G, Natti Natasha - Sin Pijama (Official ...</td>\n",
              "      <td>139334502</td>\n",
              "    </tr>\n",
              "    <tr>\n",
              "      <th>7C2z4GqqS5E</th>\n",
              "      <td>BTS (방탄소년단) 'FAKE LOVE' Official MV</td>\n",
              "      <td>123010920</td>\n",
              "    </tr>\n",
              "    <tr>\n",
              "      <th>M4ZoCHID9GI</th>\n",
              "      <td>The Weeknd - Call Out My Name (Official Video)</td>\n",
              "      <td>122544931</td>\n",
              "    </tr>\n",
              "    <tr>\n",
              "      <th>TyHvyGVs42U</th>\n",
              "      <td>Luis Fonsi, Demi Lovato - Échame La Culpa</td>\n",
              "      <td>102012605</td>\n",
              "    </tr>\n",
              "    <tr>\n",
              "      <th>xTlNMmZKwpA</th>\n",
              "      <td>Cardi B, Bad Bunny &amp; J Balvin - I Like It [Off...</td>\n",
              "      <td>94254507</td>\n",
              "    </tr>\n",
              "    <tr>\n",
              "      <th>6ZfuNTqbHE8</th>\n",
              "      <td>Marvel Studios' Avengers: Infinity War Officia...</td>\n",
              "      <td>91933007</td>\n",
              "    </tr>\n",
              "    <tr>\n",
              "      <th>-BQJo3vK8O8</th>\n",
              "      <td>Maluma - El Préstamo (Official Video)</td>\n",
              "      <td>87264467</td>\n",
              "    </tr>\n",
              "  </tbody>\n",
              "</table>\n",
              "</div>\n",
              "      <button class=\"colab-df-convert\" onclick=\"convertToInteractive('df-ac16b4e4-1ad7-4662-8b4a-e693b4f2a08f')\"\n",
              "              title=\"Convert this dataframe to an interactive table.\"\n",
              "              style=\"display:none;\">\n",
              "        \n",
              "  <svg xmlns=\"http://www.w3.org/2000/svg\" height=\"24px\"viewBox=\"0 0 24 24\"\n",
              "       width=\"24px\">\n",
              "    <path d=\"M0 0h24v24H0V0z\" fill=\"none\"/>\n",
              "    <path d=\"M18.56 5.44l.94 2.06.94-2.06 2.06-.94-2.06-.94-.94-2.06-.94 2.06-2.06.94zm-11 1L8.5 8.5l.94-2.06 2.06-.94-2.06-.94L8.5 2.5l-.94 2.06-2.06.94zm10 10l.94 2.06.94-2.06 2.06-.94-2.06-.94-.94-2.06-.94 2.06-2.06.94z\"/><path d=\"M17.41 7.96l-1.37-1.37c-.4-.4-.92-.59-1.43-.59-.52 0-1.04.2-1.43.59L10.3 9.45l-7.72 7.72c-.78.78-.78 2.05 0 2.83L4 21.41c.39.39.9.59 1.41.59.51 0 1.02-.2 1.41-.59l7.78-7.78 2.81-2.81c.8-.78.8-2.07 0-2.86zM5.41 20L4 18.59l7.72-7.72 1.47 1.35L5.41 20z\"/>\n",
              "  </svg>\n",
              "      </button>\n",
              "      \n",
              "  <style>\n",
              "    .colab-df-container {\n",
              "      display:flex;\n",
              "      flex-wrap:wrap;\n",
              "      gap: 12px;\n",
              "    }\n",
              "\n",
              "    .colab-df-convert {\n",
              "      background-color: #E8F0FE;\n",
              "      border: none;\n",
              "      border-radius: 50%;\n",
              "      cursor: pointer;\n",
              "      display: none;\n",
              "      fill: #1967D2;\n",
              "      height: 32px;\n",
              "      padding: 0 0 0 0;\n",
              "      width: 32px;\n",
              "    }\n",
              "\n",
              "    .colab-df-convert:hover {\n",
              "      background-color: #E2EBFA;\n",
              "      box-shadow: 0px 1px 2px rgba(60, 64, 67, 0.3), 0px 1px 3px 1px rgba(60, 64, 67, 0.15);\n",
              "      fill: #174EA6;\n",
              "    }\n",
              "\n",
              "    [theme=dark] .colab-df-convert {\n",
              "      background-color: #3B4455;\n",
              "      fill: #D2E3FC;\n",
              "    }\n",
              "\n",
              "    [theme=dark] .colab-df-convert:hover {\n",
              "      background-color: #434B5C;\n",
              "      box-shadow: 0px 1px 3px 1px rgba(0, 0, 0, 0.15);\n",
              "      filter: drop-shadow(0px 1px 2px rgba(0, 0, 0, 0.3));\n",
              "      fill: #FFFFFF;\n",
              "    }\n",
              "  </style>\n",
              "\n",
              "      <script>\n",
              "        const buttonEl =\n",
              "          document.querySelector('#df-ac16b4e4-1ad7-4662-8b4a-e693b4f2a08f button.colab-df-convert');\n",
              "        buttonEl.style.display =\n",
              "          google.colab.kernel.accessAllowed ? 'block' : 'none';\n",
              "\n",
              "        async function convertToInteractive(key) {\n",
              "          const element = document.querySelector('#df-ac16b4e4-1ad7-4662-8b4a-e693b4f2a08f');\n",
              "          const dataTable =\n",
              "            await google.colab.kernel.invokeFunction('convertToInteractive',\n",
              "                                                     [key], {});\n",
              "          if (!dataTable) return;\n",
              "\n",
              "          const docLinkHtml = 'Like what you see? Visit the ' +\n",
              "            '<a target=\"_blank\" href=https://colab.research.google.com/notebooks/data_table.ipynb>data table notebook</a>'\n",
              "            + ' to learn more about interactive tables.';\n",
              "          element.innerHTML = '';\n",
              "          dataTable['output_type'] = 'display_data';\n",
              "          await google.colab.output.renderOutput(dataTable, element);\n",
              "          const docLink = document.createElement('div');\n",
              "          docLink.innerHTML = docLinkHtml;\n",
              "          element.appendChild(docLink);\n",
              "        }\n",
              "      </script>\n",
              "    </div>\n",
              "  </div>\n",
              "  "
            ]
          },
          "metadata": {},
          "execution_count": 12
        }
      ],
      "source": [
        "best_video = df.groupby('video_id').agg({'title': 'first', 'views': 'max'}).sort_values(by='views', ascending=False).head(10)\n",
        "best_video"
      ]
    },
    {
      "cell_type": "code",
      "execution_count": 13,
      "metadata": {
        "colab": {
          "base_uri": "https://localhost:8080/",
          "height": 667
        },
        "id": "w_aU8pclTinP",
        "outputId": "c05c016d-abfd-4c5c-ab4c-ca878d458660"
      },
      "outputs": [
        {
          "output_type": "execute_result",
          "data": {
            "text/plain": [
              "<matplotlib.axes._subplots.AxesSubplot at 0x7f72b5041310>"
            ]
          },
          "metadata": {},
          "execution_count": 13
        },
        {
          "output_type": "stream",
          "name": "stderr",
          "text": [
            "/usr/local/lib/python3.7/dist-packages/matplotlib/backends/backend_agg.py:214: RuntimeWarning: Glyph 48169 missing from current font.\n",
            "  font.set_text(s, 0.0, flags=flags)\n",
            "/usr/local/lib/python3.7/dist-packages/matplotlib/backends/backend_agg.py:214: RuntimeWarning: Glyph 53444 missing from current font.\n",
            "  font.set_text(s, 0.0, flags=flags)\n",
            "/usr/local/lib/python3.7/dist-packages/matplotlib/backends/backend_agg.py:214: RuntimeWarning: Glyph 49548 missing from current font.\n",
            "  font.set_text(s, 0.0, flags=flags)\n",
            "/usr/local/lib/python3.7/dist-packages/matplotlib/backends/backend_agg.py:214: RuntimeWarning: Glyph 45380 missing from current font.\n",
            "  font.set_text(s, 0.0, flags=flags)\n",
            "/usr/local/lib/python3.7/dist-packages/matplotlib/backends/backend_agg.py:214: RuntimeWarning: Glyph 45800 missing from current font.\n",
            "  font.set_text(s, 0.0, flags=flags)\n",
            "/usr/local/lib/python3.7/dist-packages/matplotlib/backends/backend_agg.py:183: RuntimeWarning: Glyph 48169 missing from current font.\n",
            "  font.set_text(s, 0, flags=flags)\n",
            "/usr/local/lib/python3.7/dist-packages/matplotlib/backends/backend_agg.py:183: RuntimeWarning: Glyph 53444 missing from current font.\n",
            "  font.set_text(s, 0, flags=flags)\n",
            "/usr/local/lib/python3.7/dist-packages/matplotlib/backends/backend_agg.py:183: RuntimeWarning: Glyph 49548 missing from current font.\n",
            "  font.set_text(s, 0, flags=flags)\n",
            "/usr/local/lib/python3.7/dist-packages/matplotlib/backends/backend_agg.py:183: RuntimeWarning: Glyph 45380 missing from current font.\n",
            "  font.set_text(s, 0, flags=flags)\n",
            "/usr/local/lib/python3.7/dist-packages/matplotlib/backends/backend_agg.py:183: RuntimeWarning: Glyph 45800 missing from current font.\n",
            "  font.set_text(s, 0, flags=flags)\n"
          ]
        },
        {
          "output_type": "display_data",
          "data": {
            "text/plain": [
              "<Figure size 432x288 with 1 Axes>"
            ],
            "image/png": "[encoded data removed]"
          },
          "metadata": {
            "needs_background": "light"
          }
        }
      ],
      "source": [
        "best_video.plot(kind='barh', x='title', y='views')"
      ]
    },
    {
      "cell_type": "markdown",
      "metadata": {
        "id": "VEfJc78CTinR"
      },
      "source": [
        "### With Top Likes"
      ]
    },
    {
      "cell_type": "code",
      "execution_count": 16,
      "metadata": {
        "colab": {
          "base_uri": "https://localhost:8080/",
          "height": 394
        },
        "id": "p6y38vz-TinS",
        "outputId": "7d48102f-766d-49a5-abaf-4526910e73af"
      },
      "outputs": [
        {
          "output_type": "execute_result",
          "data": {
            "text/plain": [
              "                                                         title    likes\n",
              "video_id                                                               \n",
              "7C2z4GqqS5E                BTS (방탄소년단) 'FAKE LOVE' Official MV  5613827\n",
              "VYOjWnS4cMY  Childish Gambino - This Is America (Official V...  5023450\n",
              "ffxKSjUwKdU               Ariana Grande - No Tears Left To Cry  3094021\n",
              "FlsCjmMhFmw  YouTube Rewind: The Shape of 2017 | #YouTubeRe...  3093544\n",
              "kTlv5_Bs8aw  BTS (방탄소년단) 'MIC Drop (Steve Aoki Remix)' Offi...  2729292\n",
              "p8npDG2ulKQ  BTS (방탄소년단) LOVE YOURSELF 轉 Tear 'Singularity'...  2700800\n",
              "OK3GJ0WIQ8s                         j-hope 'Daydream (백일몽)' MV  2672431\n",
              "6ZfuNTqbHE8  Marvel Studios' Avengers: Infinity War Officia...  2625661\n",
              "aJOTlE1K90k              Maroon 5 - Girls Like You ft. Cardi B  2488565\n",
              "TyHvyGVs42U          Luis Fonsi, Demi Lovato - Échame La Culpa  2376636"
            ],
            "text/html": [
              "\n",
              "  <div id=\"df-fe8a59ae-5864-434e-93c8-de3f0c09dfc6\">\n",
              "    <div class=\"colab-df-container\">\n",
              "      <div>\n",
              "<style scoped>\n",
              "    .dataframe tbody tr th:only-of-type {\n",
              "        vertical-align: middle;\n",
              "    }\n",
              "\n",
              "    .dataframe tbody tr th {\n",
              "        vertical-align: top;\n",
              "    }\n",
              "\n",
              "    .dataframe thead th {\n",
              "        text-align: right;\n",
              "    }\n",
              "</style>\n",
              "<table border=\"1\" class=\"dataframe\">\n",
              "  <thead>\n",
              "    <tr style=\"text-align: right;\">\n",
              "      <th></th>\n",
              "      <th>title</th>\n",
              "      <th>likes</th>\n",
              "    </tr>\n",
              "    <tr>\n",
              "      <th>video_id</th>\n",
              "      <th></th>\n",
              "      <th></th>\n",
              "    </tr>\n",
              "  </thead>\n",
              "  <tbody>\n",
              "    <tr>\n",
              "      <th>7C2z4GqqS5E</th>\n",
              "      <td>BTS (방탄소년단) 'FAKE LOVE' Official MV</td>\n",
              "      <td>5613827</td>\n",
              "    </tr>\n",
              "    <tr>\n",
              "      <th>VYOjWnS4cMY</th>\n",
              "      <td>Childish Gambino - This Is America (Official V...</td>\n",
              "      <td>5023450</td>\n",
              "    </tr>\n",
              "    <tr>\n",
              "      <th>ffxKSjUwKdU</th>\n",
              "      <td>Ariana Grande - No Tears Left To Cry</td>\n",
              "      <td>3094021</td>\n",
              "    </tr>\n",
              "    <tr>\n",
              "      <th>FlsCjmMhFmw</th>\n",
              "      <td>YouTube Rewind: The Shape of 2017 | #YouTubeRe...</td>\n",
              "      <td>3093544</td>\n",
              "    </tr>\n",
              "    <tr>\n",
              "      <th>kTlv5_Bs8aw</th>\n",
              "      <td>BTS (방탄소년단) 'MIC Drop (Steve Aoki Remix)' Offi...</td>\n",
              "      <td>2729292</td>\n",
              "    </tr>\n",
              "    <tr>\n",
              "      <th>p8npDG2ulKQ</th>\n",
              "      <td>BTS (방탄소년단) LOVE YOURSELF 轉 Tear 'Singularity'...</td>\n",
              "      <td>2700800</td>\n",
              "    </tr>\n",
              "    <tr>\n",
              "      <th>OK3GJ0WIQ8s</th>\n",
              "      <td>j-hope 'Daydream (백일몽)' MV</td>\n",
              "      <td>2672431</td>\n",
              "    </tr>\n",
              "    <tr>\n",
              "      <th>6ZfuNTqbHE8</th>\n",
              "      <td>Marvel Studios' Avengers: Infinity War Officia...</td>\n",
              "      <td>2625661</td>\n",
              "    </tr>\n",
              "    <tr>\n",
              "      <th>aJOTlE1K90k</th>\n",
              "      <td>Maroon 5 - Girls Like You ft. Cardi B</td>\n",
              "      <td>2488565</td>\n",
              "    </tr>\n",
              "    <tr>\n",
              "      <th>TyHvyGVs42U</th>\n",
              "      <td>Luis Fonsi, Demi Lovato - Échame La Culpa</td>\n",
              "      <td>2376636</td>\n",
              "    </tr>\n",
              "  </tbody>\n",
              "</table>\n",
              "</div>\n",
              "      <button class=\"colab-df-convert\" onclick=\"convertToInteractive('df-fe8a59ae-5864-434e-93c8-de3f0c09dfc6')\"\n",
              "              title=\"Convert this dataframe to an interactive table.\"\n",
              "              style=\"display:none;\">\n",
              "        \n",
              "  <svg xmlns=\"http://www.w3.org/2000/svg\" height=\"24px\"viewBox=\"0 0 24 24\"\n",
              "       width=\"24px\">\n",
              "    <path d=\"M0 0h24v24H0V0z\" fill=\"none\"/>\n",
              "    <path d=\"M18.56 5.44l.94 2.06.94-2.06 2.06-.94-2.06-.94-.94-2.06-.94 2.06-2.06.94zm-11 1L8.5 8.5l.94-2.06 2.06-.94-2.06-.94L8.5 2.5l-.94 2.06-2.06.94zm10 10l.94 2.06.94-2.06 2.06-.94-2.06-.94-.94-2.06-.94 2.06-2.06.94z\"/><path d=\"M17.41 7.96l-1.37-1.37c-.4-.4-.92-.59-1.43-.59-.52 0-1.04.2-1.43.59L10.3 9.45l-7.72 7.72c-.78.78-.78 2.05 0 2.83L4 21.41c.39.39.9.59 1.41.59.51 0 1.02-.2 1.41-.59l7.78-7.78 2.81-2.81c.8-.78.8-2.07 0-2.86zM5.41 20L4 18.59l7.72-7.72 1.47 1.35L5.41 20z\"/>\n",
              "  </svg>\n",
              "      </button>\n",
              "      \n",
              "  <style>\n",
              "    .colab-df-container {\n",
              "      display:flex;\n",
              "      flex-wrap:wrap;\n",
              "      gap: 12px;\n",
              "    }\n",
              "\n",
              "    .colab-df-convert {\n",
              "      background-color: #E8F0FE;\n",
              "      border: none;\n",
              "      border-radius: 50%;\n",
              "      cursor: pointer;\n",
              "      display: none;\n",
              "      fill: #1967D2;\n",
              "      height: 32px;\n",
              "      padding: 0 0 0 0;\n",
              "      width: 32px;\n",
              "    }\n",
              "\n",
              "    .colab-df-convert:hover {\n",
              "      background-color: #E2EBFA;\n",
              "      box-shadow: 0px 1px 2px rgba(60, 64, 67, 0.3), 0px 1px 3px 1px rgba(60, 64, 67, 0.15);\n",
              "      fill: #174EA6;\n",
              "    }\n",
              "\n",
              "    [theme=dark] .colab-df-convert {\n",
              "      background-color: #3B4455;\n",
              "      fill: #D2E3FC;\n",
              "    }\n",
              "\n",
              "    [theme=dark] .colab-df-convert:hover {\n",
              "      background-color: #434B5C;\n",
              "      box-shadow: 0px 1px 3px 1px rgba(0, 0, 0, 0.15);\n",
              "      filter: drop-shadow(0px 1px 2px rgba(0, 0, 0, 0.3));\n",
              "      fill: #FFFFFF;\n",
              "    }\n",
              "  </style>\n",
              "\n",
              "      <script>\n",
              "        const buttonEl =\n",
              "          document.querySelector('#df-fe8a59ae-5864-434e-93c8-de3f0c09dfc6 button.colab-df-convert');\n",
              "        buttonEl.style.display =\n",
              "          google.colab.kernel.accessAllowed ? 'block' : 'none';\n",
              "\n",
              "        async function convertToInteractive(key) {\n",
              "          const element = document.querySelector('#df-fe8a59ae-5864-434e-93c8-de3f0c09dfc6');\n",
              "          const dataTable =\n",
              "            await google.colab.kernel.invokeFunction('convertToInteractive',\n",
              "                                                     [key], {});\n",
              "          if (!dataTable) return;\n",
              "\n",
              "          const docLinkHtml = 'Like what you see? Visit the ' +\n",
              "            '<a target=\"_blank\" href=https://colab.research.google.com/notebooks/data_table.ipynb>data table notebook</a>'\n",
              "            + ' to learn more about interactive tables.';\n",
              "          element.innerHTML = '';\n",
              "          dataTable['output_type'] = 'display_data';\n",
              "          await google.colab.output.renderOutput(dataTable, element);\n",
              "          const docLink = document.createElement('div');\n",
              "          docLink.innerHTML = docLinkHtml;\n",
              "          element.appendChild(docLink);\n",
              "        }\n",
              "      </script>\n",
              "    </div>\n",
              "  </div>\n",
              "  "
            ]
          },
          "metadata": {},
          "execution_count": 16
        }
      ],
      "source": [
        "top_likes = df.groupby('video_id').agg({'title': 'first', 'likes': 'max'}).sort_values(by='likes', ascending=False).head(10)\n",
        "top_likes"
      ]
    },
    {
      "cell_type": "code",
      "execution_count": 17,
      "metadata": {
        "colab": {
          "base_uri": "https://localhost:8080/",
          "height": 962
        },
        "id": "ZVQDmZCVTinS",
        "outputId": "1e7d8456-2972-44de-dfca-c22505c0b8fd"
      },
      "outputs": [
        {
          "output_type": "execute_result",
          "data": {
            "text/plain": [
              "<matplotlib.axes._subplots.AxesSubplot at 0x7f72b4b49b10>"
            ]
          },
          "metadata": {},
          "execution_count": 17
        },
        {
          "output_type": "stream",
          "name": "stderr",
          "text": [
            "/usr/local/lib/python3.7/dist-packages/matplotlib/backends/backend_agg.py:214: RuntimeWarning: Glyph 48169 missing from current font.\n",
            "  font.set_text(s, 0.0, flags=flags)\n",
            "/usr/local/lib/python3.7/dist-packages/matplotlib/backends/backend_agg.py:214: RuntimeWarning: Glyph 53444 missing from current font.\n",
            "  font.set_text(s, 0.0, flags=flags)\n",
            "/usr/local/lib/python3.7/dist-packages/matplotlib/backends/backend_agg.py:214: RuntimeWarning: Glyph 49548 missing from current font.\n",
            "  font.set_text(s, 0.0, flags=flags)\n",
            "/usr/local/lib/python3.7/dist-packages/matplotlib/backends/backend_agg.py:214: RuntimeWarning: Glyph 45380 missing from current font.\n",
            "  font.set_text(s, 0.0, flags=flags)\n",
            "/usr/local/lib/python3.7/dist-packages/matplotlib/backends/backend_agg.py:214: RuntimeWarning: Glyph 45800 missing from current font.\n",
            "  font.set_text(s, 0.0, flags=flags)\n",
            "/usr/local/lib/python3.7/dist-packages/matplotlib/backends/backend_agg.py:214: RuntimeWarning: Glyph 36681 missing from current font.\n",
            "  font.set_text(s, 0.0, flags=flags)\n",
            "/usr/local/lib/python3.7/dist-packages/matplotlib/backends/backend_agg.py:214: RuntimeWarning: Glyph 48177 missing from current font.\n",
            "  font.set_text(s, 0.0, flags=flags)\n",
            "/usr/local/lib/python3.7/dist-packages/matplotlib/backends/backend_agg.py:214: RuntimeWarning: Glyph 51068 missing from current font.\n",
            "  font.set_text(s, 0.0, flags=flags)\n",
            "/usr/local/lib/python3.7/dist-packages/matplotlib/backends/backend_agg.py:214: RuntimeWarning: Glyph 47805 missing from current font.\n",
            "  font.set_text(s, 0.0, flags=flags)\n",
            "/usr/local/lib/python3.7/dist-packages/matplotlib/backends/backend_agg.py:183: RuntimeWarning: Glyph 48169 missing from current font.\n",
            "  font.set_text(s, 0, flags=flags)\n",
            "/usr/local/lib/python3.7/dist-packages/matplotlib/backends/backend_agg.py:183: RuntimeWarning: Glyph 53444 missing from current font.\n",
            "  font.set_text(s, 0, flags=flags)\n",
            "/usr/local/lib/python3.7/dist-packages/matplotlib/backends/backend_agg.py:183: RuntimeWarning: Glyph 49548 missing from current font.\n",
            "  font.set_text(s, 0, flags=flags)\n",
            "/usr/local/lib/python3.7/dist-packages/matplotlib/backends/backend_agg.py:183: RuntimeWarning: Glyph 45380 missing from current font.\n",
            "  font.set_text(s, 0, flags=flags)\n",
            "/usr/local/lib/python3.7/dist-packages/matplotlib/backends/backend_agg.py:183: RuntimeWarning: Glyph 45800 missing from current font.\n",
            "  font.set_text(s, 0, flags=flags)\n",
            "/usr/local/lib/python3.7/dist-packages/matplotlib/backends/backend_agg.py:183: RuntimeWarning: Glyph 36681 missing from current font.\n",
            "  font.set_text(s, 0, flags=flags)\n",
            "/usr/local/lib/python3.7/dist-packages/matplotlib/backends/backend_agg.py:183: RuntimeWarning: Glyph 48177 missing from current font.\n",
            "  font.set_text(s, 0, flags=flags)\n",
            "/usr/local/lib/python3.7/dist-packages/matplotlib/backends/backend_agg.py:183: RuntimeWarning: Glyph 51068 missing from current font.\n",
            "  font.set_text(s, 0, flags=flags)\n",
            "/usr/local/lib/python3.7/dist-packages/matplotlib/backends/backend_agg.py:183: RuntimeWarning: Glyph 47805 missing from current font.\n",
            "  font.set_text(s, 0, flags=flags)\n"
          ]
        },
        {
          "output_type": "display_data",
          "data": {
            "text/plain": [
              "<Figure size 432x288 with 1 Axes>"
            ],
            "image/png": "[encoded data removed]"
          },
          "metadata": {
            "needs_background": "light"
          }
        }
      ],
      "source": [
        "top_likes.plot(kind='barh', x='title', y='likes')"
      ]
    },
    {
      "cell_type": "markdown",
      "metadata": {
        "id": "aRogAUDnTinT"
      },
      "source": [
        "### With Top Dislikes"
      ]
    },
    {
      "cell_type": "code",
      "execution_count": 18,
      "metadata": {
        "colab": {
          "base_uri": "https://localhost:8080/",
          "height": 394
        },
        "id": "LZEscafxTinT",
        "outputId": "92b831a2-6ef2-44be-f1bd-1bcadcfa17b2"
      },
      "outputs": [
        {
          "output_type": "execute_result",
          "data": {
            "text/plain": [
              "                                                         title  dislikes\n",
              "video_id                                                                \n",
              "QwZT7T-TXT0                                          So Sorry.   1674420\n",
              "FlsCjmMhFmw  YouTube Rewind: The Shape of 2017 | #YouTubeRe...   1643059\n",
              "oWjxSkJpxFU                         Suicide: Be Here Tomorrow.    497847\n",
              "VYOjWnS4cMY  Childish Gambino - This Is America (Official V...    343541\n",
              "_5d-sQ7Fh5M                                LOGAN PAUL IS BACK!    291900\n",
              "LFhT6H6pRWg              PSA from Chairman of the FCC Ajit Pai    228426\n",
              "ooyjaVdt-jA  Official Call of Duty®: Black Ops 4 — Multipla...    212976\n",
              "7C2z4GqqS5E                BTS (방탄소년단) 'FAKE LOVE' Official MV    206892\n",
              "V5cOvyDpWfM  Fergie Performs The U.S. National Anthem / 201...    176903\n",
              "WS7f5xpGYn8                Katy Perry - Hey Hey Hey (Official)    165109"
            ],
            "text/html": [
              "\n",
              "  <div id=\"df-438e88f2-2720-4bc7-b5e0-9723df9cc5f4\">\n",
              "    <div class=\"colab-df-container\">\n",
              "      <div>\n",
              "<style scoped>\n",
              "    .dataframe tbody tr th:only-of-type {\n",
              "        vertical-align: middle;\n",
              "    }\n",
              "\n",
              "    .dataframe tbody tr th {\n",
              "        vertical-align: top;\n",
              "    }\n",
              "\n",
              "    .dataframe thead th {\n",
              "        text-align: right;\n",
              "    }\n",
              "</style>\n",
              "<table border=\"1\" class=\"dataframe\">\n",
              "  <thead>\n",
              "    <tr style=\"text-align: right;\">\n",
              "      <th></th>\n",
              "      <th>title</th>\n",
              "      <th>dislikes</th>\n",
              "    </tr>\n",
              "    <tr>\n",
              "      <th>video_id</th>\n",
              "      <th></th>\n",
              "      <th></th>\n",
              "    </tr>\n",
              "  </thead>\n",
              "  <tbody>\n",
              "    <tr>\n",
              "      <th>QwZT7T-TXT0</th>\n",
              "      <td>So Sorry.</td>\n",
              "      <td>1674420</td>\n",
              "    </tr>\n",
              "    <tr>\n",
              "      <th>FlsCjmMhFmw</th>\n",
              "      <td>YouTube Rewind: The Shape of 2017 | #YouTubeRe...</td>\n",
              "      <td>1643059</td>\n",
              "    </tr>\n",
              "    <tr>\n",
              "      <th>oWjxSkJpxFU</th>\n",
              "      <td>Suicide: Be Here Tomorrow.</td>\n",
              "      <td>497847</td>\n",
              "    </tr>\n",
              "    <tr>\n",
              "      <th>VYOjWnS4cMY</th>\n",
              "      <td>Childish Gambino - This Is America (Official V...</td>\n",
              "      <td>343541</td>\n",
              "    </tr>\n",
              "    <tr>\n",
              "      <th>_5d-sQ7Fh5M</th>\n",
              "      <td>LOGAN PAUL IS BACK!</td>\n",
              "      <td>291900</td>\n",
              "    </tr>\n",
              "    <tr>\n",
              "      <th>LFhT6H6pRWg</th>\n",
              "      <td>PSA from Chairman of the FCC Ajit Pai</td>\n",
              "      <td>228426</td>\n",
              "    </tr>\n",
              "    <tr>\n",
              "      <th>ooyjaVdt-jA</th>\n",
              "      <td>Official Call of Duty®: Black Ops 4 — Multipla...</td>\n",
              "      <td>212976</td>\n",
              "    </tr>\n",
              "    <tr>\n",
              "      <th>7C2z4GqqS5E</th>\n",
              "      <td>BTS (방탄소년단) 'FAKE LOVE' Official MV</td>\n",
              "      <td>206892</td>\n",
              "    </tr>\n",
              "    <tr>\n",
              "      <th>V5cOvyDpWfM</th>\n",
              "      <td>Fergie Performs The U.S. National Anthem / 201...</td>\n",
              "      <td>176903</td>\n",
              "    </tr>\n",
              "    <tr>\n",
              "      <th>WS7f5xpGYn8</th>\n",
              "      <td>Katy Perry - Hey Hey Hey (Official)</td>\n",
              "      <td>165109</td>\n",
              "    </tr>\n",
              "  </tbody>\n",
              "</table>\n",
              "</div>\n",
              "      <button class=\"colab-df-convert\" onclick=\"convertToInteractive('df-438e88f2-2720-4bc7-b5e0-9723df9cc5f4')\"\n",
              "              title=\"Convert this dataframe to an interactive table.\"\n",
              "              style=\"display:none;\">\n",
              "        \n",
              "  <svg xmlns=\"http://www.w3.org/2000/svg\" height=\"24px\"viewBox=\"0 0 24 24\"\n",
              "       width=\"24px\">\n",
              "    <path d=\"M0 0h24v24H0V0z\" fill=\"none\"/>\n",
              "    <path d=\"M18.56 5.44l.94 2.06.94-2.06 2.06-.94-2.06-.94-.94-2.06-.94 2.06-2.06.94zm-11 1L8.5 8.5l.94-2.06 2.06-.94-2.06-.94L8.5 2.5l-.94 2.06-2.06.94zm10 10l.94 2.06.94-2.06 2.06-.94-2.06-.94-.94-2.06-.94 2.06-2.06.94z\"/><path d=\"M17.41 7.96l-1.37-1.37c-.4-.4-.92-.59-1.43-.59-.52 0-1.04.2-1.43.59L10.3 9.45l-7.72 7.72c-.78.78-.78 2.05 0 2.83L4 21.41c.39.39.9.59 1.41.59.51 0 1.02-.2 1.41-.59l7.78-7.78 2.81-2.81c.8-.78.8-2.07 0-2.86zM5.41 20L4 18.59l7.72-7.72 1.47 1.35L5.41 20z\"/>\n",
              "  </svg>\n",
              "      </button>\n",
              "      \n",
              "  <style>\n",
              "    .colab-df-container {\n",
              "      display:flex;\n",
              "      flex-wrap:wrap;\n",
              "      gap: 12px;\n",
              "    }\n",
              "\n",
              "    .colab-df-convert {\n",
              "      background-color: #E8F0FE;\n",
              "      border: none;\n",
              "      border-radius: 50%;\n",
              "      cursor: pointer;\n",
              "      display: none;\n",
              "      fill: #1967D2;\n",
              "      height: 32px;\n",
              "      padding: 0 0 0 0;\n",
              "      width: 32px;\n",
              "    }\n",
              "\n",
              "    .colab-df-convert:hover {\n",
              "      background-color: #E2EBFA;\n",
              "      box-shadow: 0px 1px 2px rgba(60, 64, 67, 0.3), 0px 1px 3px 1px rgba(60, 64, 67, 0.15);\n",
              "      fill: #174EA6;\n",
              "    }\n",
              "\n",
              "    [theme=dark] .colab-df-convert {\n",
              "      background-color: #3B4455;\n",
              "      fill: #D2E3FC;\n",
              "    }\n",
              "\n",
              "    [theme=dark] .colab-df-convert:hover {\n",
              "      background-color: #434B5C;\n",
              "      box-shadow: 0px 1px 3px 1px rgba(0, 0, 0, 0.15);\n",
              "      filter: drop-shadow(0px 1px 2px rgba(0, 0, 0, 0.3));\n",
              "      fill: #FFFFFF;\n",
              "    }\n",
              "  </style>\n",
              "\n",
              "      <script>\n",
              "        const buttonEl =\n",
              "          document.querySelector('#df-438e88f2-2720-4bc7-b5e0-9723df9cc5f4 button.colab-df-convert');\n",
              "        buttonEl.style.display =\n",
              "          google.colab.kernel.accessAllowed ? 'block' : 'none';\n",
              "\n",
              "        async function convertToInteractive(key) {\n",
              "          const element = document.querySelector('#df-438e88f2-2720-4bc7-b5e0-9723df9cc5f4');\n",
              "          const dataTable =\n",
              "            await google.colab.kernel.invokeFunction('convertToInteractive',\n",
              "                                                     [key], {});\n",
              "          if (!dataTable) return;\n",
              "\n",
              "          const docLinkHtml = 'Like what you see? Visit the ' +\n",
              "            '<a target=\"_blank\" href=https://colab.research.google.com/notebooks/data_table.ipynb>data table notebook</a>'\n",
              "            + ' to learn more about interactive tables.';\n",
              "          element.innerHTML = '';\n",
              "          dataTable['output_type'] = 'display_data';\n",
              "          await google.colab.output.renderOutput(dataTable, element);\n",
              "          const docLink = document.createElement('div');\n",
              "          docLink.innerHTML = docLinkHtml;\n",
              "          element.appendChild(docLink);\n",
              "        }\n",
              "      </script>\n",
              "    </div>\n",
              "  </div>\n",
              "  "
            ]
          },
          "metadata": {},
          "execution_count": 18
        }
      ],
      "source": [
        "top_dislikes = df.groupby('video_id').agg({'title': 'first', 'dislikes': 'max'}).sort_values(by='dislikes', ascending=False).head(10)\n",
        "top_dislikes"
      ]
    },
    {
      "cell_type": "code",
      "execution_count": 19,
      "metadata": {
        "colab": {
          "base_uri": "https://localhost:8080/",
          "height": 667
        },
        "id": "0NhzF4JcTinU",
        "outputId": "4cb64a55-b0e4-4510-87b6-cd8becb0004c"
      },
      "outputs": [
        {
          "output_type": "execute_result",
          "data": {
            "text/plain": [
              "<matplotlib.axes._subplots.AxesSubplot at 0x7f72b4a67190>"
            ]
          },
          "metadata": {},
          "execution_count": 19
        },
        {
          "output_type": "stream",
          "name": "stderr",
          "text": [
            "/usr/local/lib/python3.7/dist-packages/matplotlib/backends/backend_agg.py:214: RuntimeWarning: Glyph 48169 missing from current font.\n",
            "  font.set_text(s, 0.0, flags=flags)\n",
            "/usr/local/lib/python3.7/dist-packages/matplotlib/backends/backend_agg.py:214: RuntimeWarning: Glyph 53444 missing from current font.\n",
            "  font.set_text(s, 0.0, flags=flags)\n",
            "/usr/local/lib/python3.7/dist-packages/matplotlib/backends/backend_agg.py:214: RuntimeWarning: Glyph 49548 missing from current font.\n",
            "  font.set_text(s, 0.0, flags=flags)\n",
            "/usr/local/lib/python3.7/dist-packages/matplotlib/backends/backend_agg.py:214: RuntimeWarning: Glyph 45380 missing from current font.\n",
            "  font.set_text(s, 0.0, flags=flags)\n",
            "/usr/local/lib/python3.7/dist-packages/matplotlib/backends/backend_agg.py:214: RuntimeWarning: Glyph 45800 missing from current font.\n",
            "  font.set_text(s, 0.0, flags=flags)\n",
            "/usr/local/lib/python3.7/dist-packages/matplotlib/backends/backend_agg.py:183: RuntimeWarning: Glyph 48169 missing from current font.\n",
            "  font.set_text(s, 0, flags=flags)\n",
            "/usr/local/lib/python3.7/dist-packages/matplotlib/backends/backend_agg.py:183: RuntimeWarning: Glyph 53444 missing from current font.\n",
            "  font.set_text(s, 0, flags=flags)\n",
            "/usr/local/lib/python3.7/dist-packages/matplotlib/backends/backend_agg.py:183: RuntimeWarning: Glyph 49548 missing from current font.\n",
            "  font.set_text(s, 0, flags=flags)\n",
            "/usr/local/lib/python3.7/dist-packages/matplotlib/backends/backend_agg.py:183: RuntimeWarning: Glyph 45380 missing from current font.\n",
            "  font.set_text(s, 0, flags=flags)\n",
            "/usr/local/lib/python3.7/dist-packages/matplotlib/backends/backend_agg.py:183: RuntimeWarning: Glyph 45800 missing from current font.\n",
            "  font.set_text(s, 0, flags=flags)\n"
          ]
        },
        {
          "output_type": "display_data",
          "data": {
            "text/plain": [
              "<Figure size 432x288 with 1 Axes>"
            ],
            "image/png": "[encoded data removed]"
          },
          "metadata": {
            "needs_background": "light"
          }
        }
      ],
      "source": [
        "top_dislikes.plot(kind='barh', x='title', y='dislikes')"
      ]
    },
    {
      "cell_type": "markdown",
      "metadata": {
        "id": "g5rZdq_Ic78C"
      },
      "source": [
        "## Videos that appeared on the trending list the most"
      ]
    },
    {
      "cell_type": "code",
      "execution_count": 7,
      "metadata": {
        "colab": {
          "base_uri": "https://localhost:8080/",
          "height": 363
        },
        "id": "RPppyJAlTinV",
        "outputId": "3dc45d8f-110a-4448-aede-5fff2368d232"
      },
      "outputs": [
        {
          "output_type": "execute_result",
          "data": {
            "text/plain": [
              "          video_id                                              title  \\\n",
              "33750  8h--kFui1JA        Sam Smith - Pray (Official Video) ft. Logic   \n",
              "33951  WIV3xNz8NoM                                 Cobra Kai Season 2   \n",
              "34157  iILJvqrAQ_w                Charlie Puth - BOY [Official Audio]   \n",
              "34350  UfKmSfgFxi8         FORTNITE The Movie (Official Fake Trailer)   \n",
              "34359  mdWcaWBxxcY  Rita Ora - Girls ft. Cardi B, Bebe Rexha & Cha...   \n",
              "34550  j4KvrAUjn6c         WE MADE OUR MOM CRY...HER DREAM CAME TRUE!   \n",
              "34899  QBL8IRJ5yHU  Why I'm So Scared (being myself and crying too...   \n",
              "34909  NBSAQenU2Bk  Rooster Teeth Animated Adventures - Millie So ...   \n",
              "34908  r-3iathMo7o               The ULTIMATE $30,000 Gaming PC Setup   \n",
              "34902  MAjY8mCTXWk  周杰倫 Jay Chou【不愛我就拉倒 If You Don't Love Me, It's...   \n",
              "\n",
              "           channel_title category_id  \n",
              "33750  SamSmithWorldVEVO          10  \n",
              "33951          Cobra Kai          24  \n",
              "34157       Charlie Puth          10  \n",
              "34350           nigahiga          24  \n",
              "34359           Rita Ora          24  \n",
              "34550   Lucas and Marcus          24  \n",
              "34899      grav3yardgirl          26  \n",
              "34909      Rooster Teeth           1  \n",
              "34908      Unbox Therapy          28  \n",
              "34902    杰威爾音樂 JVR Music          10  "
            ],
            "text/html": [
              "\n",
              "  <div id=\"df-1d7e23d0-7705-402d-b288-8c3a29e39f29\">\n",
              "    <div class=\"colab-df-container\">\n",
              "      <div>\n",
              "<style scoped>\n",
              "    .dataframe tbody tr th:only-of-type {\n",
              "        vertical-align: middle;\n",
              "    }\n",
              "\n",
              "    .dataframe tbody tr th {\n",
              "        vertical-align: top;\n",
              "    }\n",
              "\n",
              "    .dataframe thead th {\n",
              "        text-align: right;\n",
              "    }\n",
              "</style>\n",
              "<table border=\"1\" class=\"dataframe\">\n",
              "  <thead>\n",
              "    <tr style=\"text-align: right;\">\n",
              "      <th></th>\n",
              "      <th>video_id</th>\n",
              "      <th>title</th>\n",
              "      <th>channel_title</th>\n",
              "      <th>category_id</th>\n",
              "    </tr>\n",
              "  </thead>\n",
              "  <tbody>\n",
              "    <tr>\n",
              "      <th>33750</th>\n",
              "      <td>8h--kFui1JA</td>\n",
              "      <td>Sam Smith - Pray (Official Video) ft. Logic</td>\n",
              "      <td>SamSmithWorldVEVO</td>\n",
              "      <td>10</td>\n",
              "    </tr>\n",
              "    <tr>\n",
              "      <th>33951</th>\n",
              "      <td>WIV3xNz8NoM</td>\n",
              "      <td>Cobra Kai Season 2</td>\n",
              "      <td>Cobra Kai</td>\n",
              "      <td>24</td>\n",
              "    </tr>\n",
              "    <tr>\n",
              "      <th>34157</th>\n",
              "      <td>iILJvqrAQ_w</td>\n",
              "      <td>Charlie Puth - BOY [Official Audio]</td>\n",
              "      <td>Charlie Puth</td>\n",
              "      <td>10</td>\n",
              "    </tr>\n",
              "    <tr>\n",
              "      <th>34350</th>\n",
              "      <td>UfKmSfgFxi8</td>\n",
              "      <td>FORTNITE The Movie (Official Fake Trailer)</td>\n",
              "      <td>nigahiga</td>\n",
              "      <td>24</td>\n",
              "    </tr>\n",
              "    <tr>\n",
              "      <th>34359</th>\n",
              "      <td>mdWcaWBxxcY</td>\n",
              "      <td>Rita Ora - Girls ft. Cardi B, Bebe Rexha &amp; Cha...</td>\n",
              "      <td>Rita Ora</td>\n",
              "      <td>24</td>\n",
              "    </tr>\n",
              "    <tr>\n",
              "      <th>34550</th>\n",
              "      <td>j4KvrAUjn6c</td>\n",
              "      <td>WE MADE OUR MOM CRY...HER DREAM CAME TRUE!</td>\n",
              "      <td>Lucas and Marcus</td>\n",
              "      <td>24</td>\n",
              "    </tr>\n",
              "    <tr>\n",
              "      <th>34899</th>\n",
              "      <td>QBL8IRJ5yHU</td>\n",
              "      <td>Why I'm So Scared (being myself and crying too...</td>\n",
              "      <td>grav3yardgirl</td>\n",
              "      <td>26</td>\n",
              "    </tr>\n",
              "    <tr>\n",
              "      <th>34909</th>\n",
              "      <td>NBSAQenU2Bk</td>\n",
              "      <td>Rooster Teeth Animated Adventures - Millie So ...</td>\n",
              "      <td>Rooster Teeth</td>\n",
              "      <td>1</td>\n",
              "    </tr>\n",
              "    <tr>\n",
              "      <th>34908</th>\n",
              "      <td>r-3iathMo7o</td>\n",
              "      <td>The ULTIMATE $30,000 Gaming PC Setup</td>\n",
              "      <td>Unbox Therapy</td>\n",
              "      <td>28</td>\n",
              "    </tr>\n",
              "    <tr>\n",
              "      <th>34902</th>\n",
              "      <td>MAjY8mCTXWk</td>\n",
              "      <td>周杰倫 Jay Chou【不愛我就拉倒 If You Don't Love Me, It's...</td>\n",
              "      <td>杰威爾音樂 JVR Music</td>\n",
              "      <td>10</td>\n",
              "    </tr>\n",
              "  </tbody>\n",
              "</table>\n",
              "</div>\n",
              "      <button class=\"colab-df-convert\" onclick=\"convertToInteractive('df-1d7e23d0-7705-402d-b288-8c3a29e39f29')\"\n",
              "              title=\"Convert this dataframe to an interactive table.\"\n",
              "              style=\"display:none;\">\n",
              "        \n",
              "  <svg xmlns=\"http://www.w3.org/2000/svg\" height=\"24px\"viewBox=\"0 0 24 24\"\n",
              "       width=\"24px\">\n",
              "    <path d=\"M0 0h24v24H0V0z\" fill=\"none\"/>\n",
              "    <path d=\"M18.56 5.44l.94 2.06.94-2.06 2.06-.94-2.06-.94-.94-2.06-.94 2.06-2.06.94zm-11 1L8.5 8.5l.94-2.06 2.06-.94-2.06-.94L8.5 2.5l-.94 2.06-2.06.94zm10 10l.94 2.06.94-2.06 2.06-.94-2.06-.94-.94-2.06-.94 2.06-2.06.94z\"/><path d=\"M17.41 7.96l-1.37-1.37c-.4-.4-.92-.59-1.43-.59-.52 0-1.04.2-1.43.59L10.3 9.45l-7.72 7.72c-.78.78-.78 2.05 0 2.83L4 21.41c.39.39.9.59 1.41.59.51 0 1.02-.2 1.41-.59l7.78-7.78 2.81-2.81c.8-.78.8-2.07 0-2.86zM5.41 20L4 18.59l7.72-7.72 1.47 1.35L5.41 20z\"/>\n",
              "  </svg>\n",
              "      </button>\n",
              "      \n",
              "  <style>\n",
              "    .colab-df-container {\n",
              "      display:flex;\n",
              "      flex-wrap:wrap;\n",
              "      gap: 12px;\n",
              "    }\n",
              "\n",
              "    .colab-df-convert {\n",
              "      background-color: #E8F0FE;\n",
              "      border: none;\n",
              "      border-radius: 50%;\n",
              "      cursor: pointer;\n",
              "      display: none;\n",
              "      fill: #1967D2;\n",
              "      height: 32px;\n",
              "      padding: 0 0 0 0;\n",
              "      width: 32px;\n",
              "    }\n",
              "\n",
              "    .colab-df-convert:hover {\n",
              "      background-color: #E2EBFA;\n",
              "      box-shadow: 0px 1px 2px rgba(60, 64, 67, 0.3), 0px 1px 3px 1px rgba(60, 64, 67, 0.15);\n",
              "      fill: #174EA6;\n",
              "    }\n",
              "\n",
              "    [theme=dark] .colab-df-convert {\n",
              "      background-color: #3B4455;\n",
              "      fill: #D2E3FC;\n",
              "    }\n",
              "\n",
              "    [theme=dark] .colab-df-convert:hover {\n",
              "      background-color: #434B5C;\n",
              "      box-shadow: 0px 1px 3px 1px rgba(0, 0, 0, 0.15);\n",
              "      filter: drop-shadow(0px 1px 2px rgba(0, 0, 0, 0.3));\n",
              "      fill: #FFFFFF;\n",
              "    }\n",
              "  </style>\n",
              "\n",
              "      <script>\n",
              "        const buttonEl =\n",
              "          document.querySelector('#df-1d7e23d0-7705-402d-b288-8c3a29e39f29 button.colab-df-convert');\n",
              "        buttonEl.style.display =\n",
              "          google.colab.kernel.accessAllowed ? 'block' : 'none';\n",
              "\n",
              "        async function convertToInteractive(key) {\n",
              "          const element = document.querySelector('#df-1d7e23d0-7705-402d-b288-8c3a29e39f29');\n",
              "          const dataTable =\n",
              "            await google.colab.kernel.invokeFunction('convertToInteractive',\n",
              "                                                     [key], {});\n",
              "          if (!dataTable) return;\n",
              "\n",
              "          const docLinkHtml = 'Like what you see? Visit the ' +\n",
              "            '<a target=\"_blank\" href=https://colab.research.google.com/notebooks/data_table.ipynb>data table notebook</a>'\n",
              "            + ' to learn more about interactive tables.';\n",
              "          element.innerHTML = '';\n",
              "          dataTable['output_type'] = 'display_data';\n",
              "          await google.colab.output.renderOutput(dataTable, element);\n",
              "          const docLink = document.createElement('div');\n",
              "          docLink.innerHTML = docLinkHtml;\n",
              "          element.appendChild(docLink);\n",
              "        }\n",
              "      </script>\n",
              "    </div>\n",
              "  </div>\n",
              "  "
            ]
          },
          "metadata": {},
          "execution_count": 7
        }
      ],
      "source": [
        "# Videos that appeared on the trending list the most days\n",
        "vid_id_trend_30 = df.groupby('video_id').size().sort_values(ascending=False).head(11)\n",
        "index = vid_id_trend_30.index\n",
        "trend_30 = df[df['video_id'].isin(index)].sort_values(by='trending_date', ascending=True).drop_duplicates(subset=['video_id'])\n",
        "trend_30.sort_values(by='trending_date', ascending=False)\n",
        "\n",
        "# show trend_30 with column video_id, title, channel_title, and category_id\n",
        "trend_30[['video_id', 'title', 'channel_title', 'category_id']].head(10)\n"
      ]
    },
    {
      "cell_type": "markdown",
      "metadata": {
        "id": "M0KsgL17Yzma"
      },
      "source": [
        "## What Category have most trending videos?"
      ]
    },
    {
      "cell_type": "code",
      "execution_count": null,
      "metadata": {
        "id": "6TQSeII-YzWt",
        "outputId": "d33e541f-48bc-41b5-ad00-f489e59d9af9"
      },
      "outputs": [
        {
          "data": {
            "image/png": "[encoded data removed]",
            "text/plain": [
              "<Figure size 720x360 with 1 Axes>"
            ]
          },
          "metadata": {},
          "output_type": "display_data"
        }
      ],
      "source": [
        "plt.figure(figsize=(10,5))\n",
        "sns.countplot(x='category_id',data=df, order=df['category_id'].value_counts().index)\n",
        "plt.xlabel('Video Categories')\n",
        "plt.ylabel('Total Videos by Categories')\n",
        "plt.title('Total videos by Category')\n",
        "\n",
        "plt.tight_layout()\n",
        "plt.show()"
      ]
    },
    {
      "cell_type": "markdown",
      "metadata": {
        "id": "NnjugvHsY8HR"
      },
      "source": [
        "## Most Reviewed Videos (Likes/Dislikes)"
      ]
    },
    {
      "cell_type": "code",
      "execution_count": 10,
      "metadata": {
        "id": "lQFGM5dSY-4M",
        "colab": {
          "base_uri": "https://localhost:8080/",
          "height": 451
        },
        "outputId": "25ba3999-0059-4024-a862-5ec8f19982dc"
      },
      "outputs": [
        {
          "output_type": "stream",
          "name": "stderr",
          "text": [
            "/usr/local/lib/python3.7/dist-packages/ipykernel_launcher.py:1: FutureWarning: Indexing with multiple keys (implicitly converted to a tuple of keys) will be deprecated, use a list instead.\n",
            "  \"\"\"Entry point for launching an IPython kernel.\n"
          ]
        },
        {
          "output_type": "execute_result",
          "data": {
            "text/plain": [
              "                                                           likes  \\\n",
              "title                                                              \n",
              "BTS (방탄소년단) 'FAKE LOVE' Official MV                 5.131075e+06   \n",
              "Childish Gambino - This Is America (Official Vi...  3.868033e+06   \n",
              "YouTube Rewind: The Shape of 2017 | #YouTubeRewind  2.472672e+06   \n",
              "Ariana Grande - No Tears Left To Cry                2.472568e+06   \n",
              "So Sorry.                                           1.213676e+06   \n",
              "BTS (방탄소년단) 'MIC Drop (Steve Aoki Remix)' Offic...  2.484110e+06   \n",
              "BTS (방탄소년단) LOVE YOURSELF 轉 Tear 'Singularity' ...  2.465552e+06   \n",
              "j-hope 'Daydream (백일몽)' MV                          2.454092e+06   \n",
              "Marvel Studios' Avengers: Infinity War Official...  2.395048e+06   \n",
              "Suicide: Be Here Tomorrow.                          1.783878e+06   \n",
              "\n",
              "                                                        dislikes  \\\n",
              "title                                                              \n",
              "BTS (방탄소년단) 'FAKE LOVE' Official MV                 1.706983e+05   \n",
              "Childish Gambino - This Is America (Official Vi...  2.421774e+05   \n",
              "YouTube Rewind: The Shape of 2017 | #YouTubeRewind  1.263894e+06   \n",
              "Ariana Grande - No Tears Left To Cry                9.389940e+04   \n",
              "So Sorry.                                           1.313220e+06   \n",
              "BTS (방탄소년단) 'MIC Drop (Steve Aoki Remix)' Offic...  3.903214e+04   \n",
              "BTS (방탄소년단) LOVE YOURSELF 轉 Tear 'Singularity' ...  2.369844e+04   \n",
              "j-hope 'Daydream (백일몽)' MV                          2.362020e+04   \n",
              "Marvel Studios' Avengers: Infinity War Official...  4.471600e+04   \n",
              "Suicide: Be Here Tomorrow.                          4.049249e+05   \n",
              "\n",
              "                                                    total_reviews  \n",
              "title                                                              \n",
              "BTS (방탄소년단) 'FAKE LOVE' Official MV                    5301773.29  \n",
              "Childish Gambino - This Is America (Official Vi...     4110210.08  \n",
              "YouTube Rewind: The Shape of 2017 | #YouTubeRewind     3736565.62  \n",
              "Ariana Grande - No Tears Left To Cry                   2566467.05  \n",
              "So Sorry.                                              2526896.00  \n",
              "BTS (방탄소년단) 'MIC Drop (Steve Aoki Remix)' Offic...     2523142.14  \n",
              "BTS (방탄소년단) LOVE YOURSELF 轉 Tear 'Singularity' ...     2489250.00  \n",
              "j-hope 'Daydream (백일몽)' MV                             2477712.20  \n",
              "Marvel Studios' Avengers: Infinity War Official...     2439763.78  \n",
              "Suicide: Be Here Tomorrow.                             2188803.12  "
            ],
            "text/html": [
              "\n",
              "  <div id=\"df-5a83daba-9aac-4837-aa35-4413f186fba7\">\n",
              "    <div class=\"colab-df-container\">\n",
              "      <div>\n",
              "<style scoped>\n",
              "    .dataframe tbody tr th:only-of-type {\n",
              "        vertical-align: middle;\n",
              "    }\n",
              "\n",
              "    .dataframe tbody tr th {\n",
              "        vertical-align: top;\n",
              "    }\n",
              "\n",
              "    .dataframe thead th {\n",
              "        text-align: right;\n",
              "    }\n",
              "</style>\n",
              "<table border=\"1\" class=\"dataframe\">\n",
              "  <thead>\n",
              "    <tr style=\"text-align: right;\">\n",
              "      <th></th>\n",
              "      <th>likes</th>\n",
              "      <th>dislikes</th>\n",
              "      <th>total_reviews</th>\n",
              "    </tr>\n",
              "    <tr>\n",
              "      <th>title</th>\n",
              "      <th></th>\n",
              "      <th></th>\n",
              "      <th></th>\n",
              "    </tr>\n",
              "  </thead>\n",
              "  <tbody>\n",
              "    <tr>\n",
              "      <th>BTS (방탄소년단) 'FAKE LOVE' Official MV</th>\n",
              "      <td>5.131075e+06</td>\n",
              "      <td>1.706983e+05</td>\n",
              "      <td>5301773.29</td>\n",
              "    </tr>\n",
              "    <tr>\n",
              "      <th>Childish Gambino - This Is America (Official Video)</th>\n",
              "      <td>3.868033e+06</td>\n",
              "      <td>2.421774e+05</td>\n",
              "      <td>4110210.08</td>\n",
              "    </tr>\n",
              "    <tr>\n",
              "      <th>YouTube Rewind: The Shape of 2017 | #YouTubeRewind</th>\n",
              "      <td>2.472672e+06</td>\n",
              "      <td>1.263894e+06</td>\n",
              "      <td>3736565.62</td>\n",
              "    </tr>\n",
              "    <tr>\n",
              "      <th>Ariana Grande - No Tears Left To Cry</th>\n",
              "      <td>2.472568e+06</td>\n",
              "      <td>9.389940e+04</td>\n",
              "      <td>2566467.05</td>\n",
              "    </tr>\n",
              "    <tr>\n",
              "      <th>So Sorry.</th>\n",
              "      <td>1.213676e+06</td>\n",
              "      <td>1.313220e+06</td>\n",
              "      <td>2526896.00</td>\n",
              "    </tr>\n",
              "    <tr>\n",
              "      <th>BTS (방탄소년단) 'MIC Drop (Steve Aoki Remix)' Official MV</th>\n",
              "      <td>2.484110e+06</td>\n",
              "      <td>3.903214e+04</td>\n",
              "      <td>2523142.14</td>\n",
              "    </tr>\n",
              "    <tr>\n",
              "      <th>BTS (방탄소년단) LOVE YOURSELF 轉 Tear 'Singularity' Comeback Trailer</th>\n",
              "      <td>2.465552e+06</td>\n",
              "      <td>2.369844e+04</td>\n",
              "      <td>2489250.00</td>\n",
              "    </tr>\n",
              "    <tr>\n",
              "      <th>j-hope 'Daydream (백일몽)' MV</th>\n",
              "      <td>2.454092e+06</td>\n",
              "      <td>2.362020e+04</td>\n",
              "      <td>2477712.20</td>\n",
              "    </tr>\n",
              "    <tr>\n",
              "      <th>Marvel Studios' Avengers: Infinity War Official Trailer</th>\n",
              "      <td>2.395048e+06</td>\n",
              "      <td>4.471600e+04</td>\n",
              "      <td>2439763.78</td>\n",
              "    </tr>\n",
              "    <tr>\n",
              "      <th>Suicide: Be Here Tomorrow.</th>\n",
              "      <td>1.783878e+06</td>\n",
              "      <td>4.049249e+05</td>\n",
              "      <td>2188803.12</td>\n",
              "    </tr>\n",
              "  </tbody>\n",
              "</table>\n",
              "</div>\n",
              "      <button class=\"colab-df-convert\" onclick=\"convertToInteractive('df-5a83daba-9aac-4837-aa35-4413f186fba7')\"\n",
              "              title=\"Convert this dataframe to an interactive table.\"\n",
              "              style=\"display:none;\">\n",
              "        \n",
              "  <svg xmlns=\"http://www.w3.org/2000/svg\" height=\"24px\"viewBox=\"0 0 24 24\"\n",
              "       width=\"24px\">\n",
              "    <path d=\"M0 0h24v24H0V0z\" fill=\"none\"/>\n",
              "    <path d=\"M18.56 5.44l.94 2.06.94-2.06 2.06-.94-2.06-.94-.94-2.06-.94 2.06-2.06.94zm-11 1L8.5 8.5l.94-2.06 2.06-.94-2.06-.94L8.5 2.5l-.94 2.06-2.06.94zm10 10l.94 2.06.94-2.06 2.06-.94-2.06-.94-.94-2.06-.94 2.06-2.06.94z\"/><path d=\"M17.41 7.96l-1.37-1.37c-.4-.4-.92-.59-1.43-.59-.52 0-1.04.2-1.43.59L10.3 9.45l-7.72 7.72c-.78.78-.78 2.05 0 2.83L4 21.41c.39.39.9.59 1.41.59.51 0 1.02-.2 1.41-.59l7.78-7.78 2.81-2.81c.8-.78.8-2.07 0-2.86zM5.41 20L4 18.59l7.72-7.72 1.47 1.35L5.41 20z\"/>\n",
              "  </svg>\n",
              "      </button>\n",
              "      \n",
              "  <style>\n",
              "    .colab-df-container {\n",
              "      display:flex;\n",
              "      flex-wrap:wrap;\n",
              "      gap: 12px;\n",
              "    }\n",
              "\n",
              "    .colab-df-convert {\n",
              "      background-color: #E8F0FE;\n",
              "      border: none;\n",
              "      border-radius: 50%;\n",
              "      cursor: pointer;\n",
              "      display: none;\n",
              "      fill: #1967D2;\n",
              "      height: 32px;\n",
              "      padding: 0 0 0 0;\n",
              "      width: 32px;\n",
              "    }\n",
              "\n",
              "    .colab-df-convert:hover {\n",
              "      background-color: #E2EBFA;\n",
              "      box-shadow: 0px 1px 2px rgba(60, 64, 67, 0.3), 0px 1px 3px 1px rgba(60, 64, 67, 0.15);\n",
              "      fill: #174EA6;\n",
              "    }\n",
              "\n",
              "    [theme=dark] .colab-df-convert {\n",
              "      background-color: #3B4455;\n",
              "      fill: #D2E3FC;\n",
              "    }\n",
              "\n",
              "    [theme=dark] .colab-df-convert:hover {\n",
              "      background-color: #434B5C;\n",
              "      box-shadow: 0px 1px 3px 1px rgba(0, 0, 0, 0.15);\n",
              "      filter: drop-shadow(0px 1px 2px rgba(0, 0, 0, 0.3));\n",
              "      fill: #FFFFFF;\n",
              "    }\n",
              "  </style>\n",
              "\n",
              "      <script>\n",
              "        const buttonEl =\n",
              "          document.querySelector('#df-5a83daba-9aac-4837-aa35-4413f186fba7 button.colab-df-convert');\n",
              "        buttonEl.style.display =\n",
              "          google.colab.kernel.accessAllowed ? 'block' : 'none';\n",
              "\n",
              "        async function convertToInteractive(key) {\n",
              "          const element = document.querySelector('#df-5a83daba-9aac-4837-aa35-4413f186fba7');\n",
              "          const dataTable =\n",
              "            await google.colab.kernel.invokeFunction('convertToInteractive',\n",
              "                                                     [key], {});\n",
              "          if (!dataTable) return;\n",
              "\n",
              "          const docLinkHtml = 'Like what you see? Visit the ' +\n",
              "            '<a target=\"_blank\" href=https://colab.research.google.com/notebooks/data_table.ipynb>data table notebook</a>'\n",
              "            + ' to learn more about interactive tables.';\n",
              "          element.innerHTML = '';\n",
              "          dataTable['output_type'] = 'display_data';\n",
              "          await google.colab.output.renderOutput(dataTable, element);\n",
              "          const docLink = document.createElement('div');\n",
              "          docLink.innerHTML = docLinkHtml;\n",
              "          element.appendChild(docLink);\n",
              "        }\n",
              "      </script>\n",
              "    </div>\n",
              "  </div>\n",
              "  "
            ]
          },
          "metadata": {},
          "execution_count": 10
        }
      ],
      "source": [
        "unique_df_title = df.reset_index().groupby('title')['likes','dislikes'].mean()\n",
        "unique_df_title['total_reviews'] = round(unique_df_title['likes'] + unique_df_title['dislikes'], 2)\n",
        "unique_df_title = unique_df_title.sort_values(by='total_reviews', ascending=False).head(10)\n",
        "unique_df_title"
      ]
    },
    {
      "cell_type": "code",
      "execution_count": 11,
      "metadata": {
        "colab": {
          "base_uri": "https://localhost:8080/",
          "height": 1000
        },
        "id": "Uv8StuRcTinZ",
        "outputId": "e65180b9-3e93-44ab-efa1-429ff247ddc7"
      },
      "outputs": [
        {
          "output_type": "stream",
          "name": "stderr",
          "text": [
            "/usr/local/lib/python3.7/dist-packages/matplotlib/backends/backend_agg.py:214: RuntimeWarning: Glyph 48169 missing from current font.\n",
            "  font.set_text(s, 0.0, flags=flags)\n",
            "/usr/local/lib/python3.7/dist-packages/matplotlib/backends/backend_agg.py:214: RuntimeWarning: Glyph 53444 missing from current font.\n",
            "  font.set_text(s, 0.0, flags=flags)\n",
            "/usr/local/lib/python3.7/dist-packages/matplotlib/backends/backend_agg.py:214: RuntimeWarning: Glyph 49548 missing from current font.\n",
            "  font.set_text(s, 0.0, flags=flags)\n",
            "/usr/local/lib/python3.7/dist-packages/matplotlib/backends/backend_agg.py:214: RuntimeWarning: Glyph 45380 missing from current font.\n",
            "  font.set_text(s, 0.0, flags=flags)\n",
            "/usr/local/lib/python3.7/dist-packages/matplotlib/backends/backend_agg.py:214: RuntimeWarning: Glyph 45800 missing from current font.\n",
            "  font.set_text(s, 0.0, flags=flags)\n",
            "/usr/local/lib/python3.7/dist-packages/matplotlib/backends/backend_agg.py:214: RuntimeWarning: Glyph 36681 missing from current font.\n",
            "  font.set_text(s, 0.0, flags=flags)\n",
            "/usr/local/lib/python3.7/dist-packages/matplotlib/backends/backend_agg.py:214: RuntimeWarning: Glyph 48177 missing from current font.\n",
            "  font.set_text(s, 0.0, flags=flags)\n",
            "/usr/local/lib/python3.7/dist-packages/matplotlib/backends/backend_agg.py:214: RuntimeWarning: Glyph 51068 missing from current font.\n",
            "  font.set_text(s, 0.0, flags=flags)\n",
            "/usr/local/lib/python3.7/dist-packages/matplotlib/backends/backend_agg.py:214: RuntimeWarning: Glyph 47805 missing from current font.\n",
            "  font.set_text(s, 0.0, flags=flags)\n",
            "/usr/local/lib/python3.7/dist-packages/matplotlib/backends/backend_agg.py:183: RuntimeWarning: Glyph 48169 missing from current font.\n",
            "  font.set_text(s, 0, flags=flags)\n",
            "/usr/local/lib/python3.7/dist-packages/matplotlib/backends/backend_agg.py:183: RuntimeWarning: Glyph 53444 missing from current font.\n",
            "  font.set_text(s, 0, flags=flags)\n",
            "/usr/local/lib/python3.7/dist-packages/matplotlib/backends/backend_agg.py:183: RuntimeWarning: Glyph 49548 missing from current font.\n",
            "  font.set_text(s, 0, flags=flags)\n",
            "/usr/local/lib/python3.7/dist-packages/matplotlib/backends/backend_agg.py:183: RuntimeWarning: Glyph 45380 missing from current font.\n",
            "  font.set_text(s, 0, flags=flags)\n",
            "/usr/local/lib/python3.7/dist-packages/matplotlib/backends/backend_agg.py:183: RuntimeWarning: Glyph 45800 missing from current font.\n",
            "  font.set_text(s, 0, flags=flags)\n",
            "/usr/local/lib/python3.7/dist-packages/matplotlib/backends/backend_agg.py:183: RuntimeWarning: Glyph 36681 missing from current font.\n",
            "  font.set_text(s, 0, flags=flags)\n",
            "/usr/local/lib/python3.7/dist-packages/matplotlib/backends/backend_agg.py:183: RuntimeWarning: Glyph 48177 missing from current font.\n",
            "  font.set_text(s, 0, flags=flags)\n",
            "/usr/local/lib/python3.7/dist-packages/matplotlib/backends/backend_agg.py:183: RuntimeWarning: Glyph 51068 missing from current font.\n",
            "  font.set_text(s, 0, flags=flags)\n",
            "/usr/local/lib/python3.7/dist-packages/matplotlib/backends/backend_agg.py:183: RuntimeWarning: Glyph 47805 missing from current font.\n",
            "  font.set_text(s, 0, flags=flags)\n"
          ]
        },
        {
          "output_type": "display_data",
          "data": {
            "text/plain": [
              "<Figure size 1080x432 with 1 Axes>"
            ],
            "image/png": "[encoded data removed]"
          },
          "metadata": {
            "needs_background": "light"
          }
        }
      ],
      "source": [
        "unique_df_title[['likes','dislikes']].plot.bar(stacked=True, figsize=(15,6))\n",
        "plt.xlabel('Video Title')\n",
        "plt.ylabel('Frequency')\n",
        "plt.title('Total Reviews (Likes/Dislikes) of Trending Videos')\n",
        "\n",
        "plt.show()"
      ]
    },
    {
      "cell_type": "markdown",
      "metadata": {
        "id": "JtEs0Ad4ZPKR"
      },
      "source": [
        "## Channel most trending video"
      ]
    },
    {
      "cell_type": "code",
      "execution_count": null,
      "metadata": {
        "id": "RV7oQobKTina",
        "outputId": "618977a0-115d-4c3a-84ac-7837f1dc0f34"
      },
      "outputs": [
        {
          "data": {
            "text/plain": [
              "Text(0.5, 1.0, 'Channel with Most Trending Videos')"
            ]
          },
          "execution_count": 61,
          "metadata": {},
          "output_type": "execute_result"
        },
        {
          "data": {
            "image/png": "[encoded data removed]",
            "text/plain": [
              "<Figure size 864x432 with 1 Axes>"
            ]
          },
          "metadata": {},
          "output_type": "display_data"
        }
      ],
      "source": [
        "top10_channels = df.groupby('channel_title')['title'].count().sort_values(ascending=False).head(20)\n",
        "\n",
        "f = plt.figure(figsize=(12,6))\n",
        "ax = f.add_subplot(111)\n",
        "sns.barplot(y=top10_channels.index, x=top10_channels)\n",
        "plt.xlabel('Videos on Trending')\n",
        "plt.ylabel('Channel Name')\n",
        "plt.title('Channel with Most Trending Videos')"
      ]
    },
    {
      "cell_type": "markdown",
      "metadata": {
        "id": "nTFBApSdYhwg"
      },
      "source": [
        "## Heat Map"
      ]
    },
    {
      "cell_type": "code",
      "execution_count": null,
      "metadata": {
        "id": "qEbldQfIYj1h",
        "outputId": "80b513c4-4ceb-46cd-dc34-713079330b27"
      },
      "outputs": [
        {
          "data": {
            "text/html": [
              "<div>\n",
              "<style scoped>\n",
              "    .dataframe tbody tr th:only-of-type {\n",
              "        vertical-align: middle;\n",
              "    }\n",
              "\n",
              "    .dataframe tbody tr th {\n",
              "        vertical-align: top;\n",
              "    }\n",
              "\n",
              "    .dataframe thead th {\n",
              "        text-align: right;\n",
              "    }\n",
              "</style>\n",
              "<table border=\"1\" class=\"dataframe\">\n",
              "  <thead>\n",
              "    <tr style=\"text-align: right;\">\n",
              "      <th></th>\n",
              "      <th>views</th>\n",
              "      <th>likes</th>\n",
              "      <th>dislikes</th>\n",
              "      <th>comment_count</th>\n",
              "    </tr>\n",
              "  </thead>\n",
              "  <tbody>\n",
              "    <tr>\n",
              "      <th>views</th>\n",
              "      <td>1.000000</td>\n",
              "      <td>0.849177</td>\n",
              "      <td>0.472213</td>\n",
              "      <td>0.617621</td>\n",
              "    </tr>\n",
              "    <tr>\n",
              "      <th>likes</th>\n",
              "      <td>0.849177</td>\n",
              "      <td>1.000000</td>\n",
              "      <td>0.447186</td>\n",
              "      <td>0.803057</td>\n",
              "    </tr>\n",
              "    <tr>\n",
              "      <th>dislikes</th>\n",
              "      <td>0.472213</td>\n",
              "      <td>0.447186</td>\n",
              "      <td>1.000000</td>\n",
              "      <td>0.700184</td>\n",
              "    </tr>\n",
              "    <tr>\n",
              "      <th>comment_count</th>\n",
              "      <td>0.617621</td>\n",
              "      <td>0.803057</td>\n",
              "      <td>0.700184</td>\n",
              "      <td>1.000000</td>\n",
              "    </tr>\n",
              "  </tbody>\n",
              "</table>\n",
              "</div>"
            ],
            "text/plain": [
              "                  views     likes  dislikes  comment_count\n",
              "views          1.000000  0.849177  0.472213       0.617621\n",
              "likes          0.849177  1.000000  0.447186       0.803057\n",
              "dislikes       0.472213  0.447186  1.000000       0.700184\n",
              "comment_count  0.617621  0.803057  0.700184       1.000000"
            ]
          },
          "execution_count": 92,
          "metadata": {},
          "output_type": "execute_result"
        }
      ],
      "source": [
        "keep_columns = ['views', 'likes', 'dislikes', 'comment_count'] # only looking at correlations between these variables\n",
        "corr_matrix = df[keep_columns].corr()\n",
        "corr_matrix"
      ]
    },
    {
      "cell_type": "code",
      "execution_count": null,
      "metadata": {
        "id": "Dy4PypU3Ym2X",
        "outputId": "938227a7-92ff-4691-d246-9a7676ac47de"
      },
      "outputs": [
        {
          "name": "stderr",
          "output_type": "stream",
          "text": [
            "C:\\Users\\Dimas\\AppData\\Local\\Temp\\ipykernel_2204\\1504570241.py:7: MatplotlibDeprecationWarning: Auto-removal of grids by pcolor() and pcolormesh() is deprecated since 3.5 and will be removed two minor releases later; please call grid(False) first.\n",
            "  cbar = fig.colorbar(heatmap, ticks=[cbar_min, cbar_max])\n",
            "C:\\Users\\Dimas\\AppData\\Local\\Temp\\ipykernel_2204\\1504570241.py:14: UserWarning: FixedFormatter should only be used together with FixedLocator\n",
            "  ax.set_yticklabels(labels, minor=False)\n",
            "C:\\Users\\Dimas\\AppData\\Local\\Temp\\ipykernel_2204\\1504570241.py:15: UserWarning: FixedFormatter should only be used together with FixedLocator\n",
            "  ax.set_xticklabels(labels, minor=False)\n"
          ]
        },
        {
          "data": {
            "image/png": "[encoded data removed]",
            "text/plain": [
              "<Figure size 432x288 with 2 Axes>"
            ]
          },
          "metadata": {},
          "output_type": "display_data"
        }
      ],
      "source": [
        "fig, ax = plt.subplots()\n",
        "heatmap = ax.imshow(corr_matrix, interpolation='nearest', cmap=cm.coolwarm)\n",
        "\n",
        "# making the colorbar on the side\n",
        "cbar_min = corr_matrix.min().min()\n",
        "cbar_max = corr_matrix.max().max()\n",
        "cbar = fig.colorbar(heatmap, ticks=[cbar_min, cbar_max])\n",
        "\n",
        "# making the labels\n",
        "labels = ['']\n",
        "for column in keep_columns:\n",
        "    labels.append(column)\n",
        "    labels.append('')\n",
        "ax.set_yticklabels(labels, minor=False)\n",
        "ax.set_xticklabels(labels, minor=False)\n",
        "\n",
        "plt.show()"
      ]
    },
    {
      "cell_type": "markdown",
      "metadata": {
        "id": "zbnttZ9fUtyN"
      },
      "source": [
        "# Data Processing"
      ]
    },
    {
      "cell_type": "markdown",
      "metadata": {
        "id": "chDRW99HU8gq"
      },
      "source": [
        "## Train Test Split"
      ]
    },
    {
      "cell_type": "code",
      "execution_count": null,
      "metadata": {
        "id": "kY1eMOvdUxA5"
      },
      "outputs": [],
      "source": [
        "# get X: views + likes + dislikes + comment_count\n",
        "X = df[['views', 'likes', 'dislikes', 'comment_count']]\n",
        "# get y: category_id\n",
        "y = df['category_id']"
      ]
    },
    {
      "cell_type": "code",
      "execution_count": null,
      "metadata": {
        "id": "EFvn2rVCVD4g",
        "outputId": "c6b80c40-54be-4e3e-916e-819460a60d58"
      },
      "outputs": [
        {
          "data": {
            "text/html": [
              "<div>\n",
              "<style scoped>\n",
              "    .dataframe tbody tr th:only-of-type {\n",
              "        vertical-align: middle;\n",
              "    }\n",
              "\n",
              "    .dataframe tbody tr th {\n",
              "        vertical-align: top;\n",
              "    }\n",
              "\n",
              "    .dataframe thead th {\n",
              "        text-align: right;\n",
              "    }\n",
              "</style>\n",
              "<table border=\"1\" class=\"dataframe\">\n",
              "  <thead>\n",
              "    <tr style=\"text-align: right;\">\n",
              "      <th></th>\n",
              "      <th>views</th>\n",
              "      <th>likes</th>\n",
              "      <th>dislikes</th>\n",
              "      <th>comment_count</th>\n",
              "    </tr>\n",
              "  </thead>\n",
              "  <tbody>\n",
              "    <tr>\n",
              "      <th>0</th>\n",
              "      <td>748374</td>\n",
              "      <td>57527</td>\n",
              "      <td>2966</td>\n",
              "      <td>15954</td>\n",
              "    </tr>\n",
              "    <tr>\n",
              "      <th>1</th>\n",
              "      <td>2418783</td>\n",
              "      <td>97185</td>\n",
              "      <td>6146</td>\n",
              "      <td>12703</td>\n",
              "    </tr>\n",
              "    <tr>\n",
              "      <th>2</th>\n",
              "      <td>3191434</td>\n",
              "      <td>146033</td>\n",
              "      <td>5339</td>\n",
              "      <td>8181</td>\n",
              "    </tr>\n",
              "    <tr>\n",
              "      <th>3</th>\n",
              "      <td>343168</td>\n",
              "      <td>10172</td>\n",
              "      <td>666</td>\n",
              "      <td>2146</td>\n",
              "    </tr>\n",
              "    <tr>\n",
              "      <th>4</th>\n",
              "      <td>2095731</td>\n",
              "      <td>132235</td>\n",
              "      <td>1989</td>\n",
              "      <td>17518</td>\n",
              "    </tr>\n",
              "    <tr>\n",
              "      <th>...</th>\n",
              "      <td>...</td>\n",
              "      <td>...</td>\n",
              "      <td>...</td>\n",
              "      <td>...</td>\n",
              "    </tr>\n",
              "    <tr>\n",
              "      <th>40944</th>\n",
              "      <td>1685609</td>\n",
              "      <td>38160</td>\n",
              "      <td>1385</td>\n",
              "      <td>2657</td>\n",
              "    </tr>\n",
              "    <tr>\n",
              "      <th>40945</th>\n",
              "      <td>1064798</td>\n",
              "      <td>60008</td>\n",
              "      <td>382</td>\n",
              "      <td>3936</td>\n",
              "    </tr>\n",
              "    <tr>\n",
              "      <th>40946</th>\n",
              "      <td>1066451</td>\n",
              "      <td>48068</td>\n",
              "      <td>1032</td>\n",
              "      <td>3992</td>\n",
              "    </tr>\n",
              "    <tr>\n",
              "      <th>40947</th>\n",
              "      <td>5660813</td>\n",
              "      <td>192957</td>\n",
              "      <td>2846</td>\n",
              "      <td>13088</td>\n",
              "    </tr>\n",
              "    <tr>\n",
              "      <th>40948</th>\n",
              "      <td>10306119</td>\n",
              "      <td>357079</td>\n",
              "      <td>212976</td>\n",
              "      <td>144795</td>\n",
              "    </tr>\n",
              "  </tbody>\n",
              "</table>\n",
              "<p>40949 rows × 4 columns</p>\n",
              "</div>"
            ],
            "text/plain": [
              "          views   likes  dislikes  comment_count\n",
              "0        748374   57527      2966          15954\n",
              "1       2418783   97185      6146          12703\n",
              "2       3191434  146033      5339           8181\n",
              "3        343168   10172       666           2146\n",
              "4       2095731  132235      1989          17518\n",
              "...         ...     ...       ...            ...\n",
              "40944   1685609   38160      1385           2657\n",
              "40945   1064798   60008       382           3936\n",
              "40946   1066451   48068      1032           3992\n",
              "40947   5660813  192957      2846          13088\n",
              "40948  10306119  357079    212976         144795\n",
              "\n",
              "[40949 rows x 4 columns]"
            ]
          },
          "execution_count": 95,
          "metadata": {},
          "output_type": "execute_result"
        }
      ],
      "source": [
        "X"
      ]
    },
    {
      "cell_type": "code",
      "execution_count": null,
      "metadata": {
        "id": "nG1w9MGZVGNu",
        "outputId": "4157f737-f623-4da3-e956-f2ba24c66806"
      },
      "outputs": [
        {
          "data": {
            "text/plain": [
              "0        22\n",
              "1        24\n",
              "2        23\n",
              "3        24\n",
              "4        24\n",
              "         ..\n",
              "40944    15\n",
              "40945    22\n",
              "40946    24\n",
              "40947     1\n",
              "40948    20\n",
              "Name: category_id, Length: 40949, dtype: object"
            ]
          },
          "execution_count": 96,
          "metadata": {},
          "output_type": "execute_result"
        }
      ],
      "source": [
        "y"
      ]
    },
    {
      "cell_type": "code",
      "execution_count": null,
      "metadata": {
        "id": "7ksBZPCsVH4p"
      },
      "outputs": [],
      "source": [
        "from sklearn.model_selection import train_test_split\n",
        "X_train, X_test, y_train, y_test = train_test_split(X, y, test_size=0.2, random_state=10)"
      ]
    },
    {
      "cell_type": "markdown",
      "metadata": {
        "id": "YEVQIrl0VI77"
      },
      "source": [
        "## Feature Scaling"
      ]
    },
    {
      "cell_type": "code",
      "execution_count": null,
      "metadata": {
        "id": "iTjzXf6sVNjA"
      },
      "outputs": [],
      "source": [
        "from sklearn.preprocessing import StandardScaler\n",
        "scaler = StandardScaler()\n",
        "scaler.fit(X_train)\n",
        "\n",
        "X_train = scaler.transform(X_train)\n",
        "X_test = scaler.transform(X_test)"
      ]
    },
    {
      "cell_type": "markdown",
      "metadata": {
        "id": "W0rXqMUGTinh"
      },
      "source": [
        "# Model Implementation"
      ]
    },
    {
      "cell_type": "markdown",
      "metadata": {
        "id": "2CcrKPEwVK5i"
      },
      "source": [
        "## Create KNN"
      ]
    },
    {
      "cell_type": "markdown",
      "metadata": {
        "id": "QqD9ZjY0VUBb"
      },
      "source": [
        "### Check the Best K"
      ]
    },
    {
      "cell_type": "code",
      "execution_count": null,
      "metadata": {
        "id": "A-wueRmxVSkw",
        "outputId": "075b3bfc-7757-4639-d659-2ace9654512e"
      },
      "outputs": [
        {
          "name": "stdout",
          "output_type": "stream",
          "text": [
            "Minimum error:- 0.30854700854700856 at K = 0\n"
          ]
        },
        {
          "data": {
            "image/png": "[encoded data removed]",
            "text/plain": [
              "<Figure size 720x432 with 1 Axes>"
            ]
          },
          "metadata": {},
          "output_type": "display_data"
        }
      ],
      "source": [
        "error_rate = []\n",
        "for i in range(1,40):\n",
        "    knn = KNeighborsClassifier(n_neighbors=i)\n",
        "    knn.fit(X_train,y_train)\n",
        "    pred_i = knn.predict(X_test)\n",
        "    error_rate.append(np.mean(pred_i != y_test))\n",
        "\n",
        "plt.figure(figsize=(10,6))\n",
        "plt.plot(range(1,40),error_rate,color='blue', linestyle='dashed', \n",
        "         marker='o',markerfacecolor='red', markersize=10)\n",
        "plt.title('Error Rate vs. K Value')\n",
        "plt.xlabel('K')\n",
        "plt.ylabel('Error Rate')\n",
        "print(\"Minimum error:-\",min(error_rate),\"at K =\",error_rate.index(min(error_rate)))"
      ]
    },
    {
      "cell_type": "code",
      "execution_count": null,
      "metadata": {
        "id": "EDFtfJq8VkPo"
      },
      "outputs": [],
      "source": [
        "from sklearn.neighbors import KNeighborsClassifier\n",
        "knn = KNeighborsClassifier(n_neighbors=2)"
      ]
    },
    {
      "cell_type": "code",
      "execution_count": null,
      "metadata": {
        "id": "Gs0NLx5_Vlnv",
        "outputId": "5cbbd201-a9ef-4195-e6e3-b7e2b01f197b"
      },
      "outputs": [
        {
          "data": {
            "text/html": [
              "<style>#sk-container-id-1 {color: black;background-color: white;}#sk-container-id-1 pre{padding: 0;}#sk-container-id-1 div.sk-toggleable {background-color: white;}#sk-container-id-1 label.sk-toggleable__label {cursor: pointer;display: block;width: 100%;margin-bottom: 0;padding: 0.3em;box-sizing: border-box;text-align: center;}#sk-container-id-1 label.sk-toggleable__label-arrow:before {content: \"▸\";float: left;margin-right: 0.25em;color: #696969;}#sk-container-id-1 label.sk-toggleable__label-arrow:hover:before {color: black;}#sk-container-id-1 div.sk-estimator:hover label.sk-toggleable__label-arrow:before {color: black;}#sk-container-id-1 div.sk-toggleable__content {max-height: 0;max-width: 0;overflow: hidden;text-align: left;background-color: #f0f8ff;}#sk-container-id-1 div.sk-toggleable__content pre {margin: 0.2em;color: black;border-radius: 0.25em;background-color: #f0f8ff;}#sk-container-id-1 input.sk-toggleable__control:checked~div.sk-toggleable__content {max-height: 200px;max-width: 100%;overflow: auto;}#sk-container-id-1 input.sk-toggleable__control:checked~label.sk-toggleable__label-arrow:before {content: \"▾\";}#sk-container-id-1 div.sk-estimator input.sk-toggleable__control:checked~label.sk-toggleable__label {background-color: #d4ebff;}#sk-container-id-1 div.sk-label input.sk-toggleable__control:checked~label.sk-toggleable__label {background-color: #d4ebff;}#sk-container-id-1 input.sk-hidden--visually {border: 0;clip: rect(1px 1px 1px 1px);clip: rect(1px, 1px, 1px, 1px);height: 1px;margin: -1px;overflow: hidden;padding: 0;position: absolute;width: 1px;}#sk-container-id-1 div.sk-estimator {font-family: monospace;background-color: #f0f8ff;border: 1px dotted black;border-radius: 0.25em;box-sizing: border-box;margin-bottom: 0.5em;}#sk-container-id-1 div.sk-estimator:hover {background-color: #d4ebff;}#sk-container-id-1 div.sk-parallel-item::after {content: \"\";width: 100%;border-bottom: 1px solid gray;flex-grow: 1;}#sk-container-id-1 div.sk-label:hover label.sk-toggleable__label {background-color: #d4ebff;}#sk-container-id-1 div.sk-serial::before {content: \"\";position: absolute;border-left: 1px solid gray;box-sizing: border-box;top: 0;bottom: 0;left: 50%;z-index: 0;}#sk-container-id-1 div.sk-serial {display: flex;flex-direction: column;align-items: center;background-color: white;padding-right: 0.2em;padding-left: 0.2em;position: relative;}#sk-container-id-1 div.sk-item {position: relative;z-index: 1;}#sk-container-id-1 div.sk-parallel {display: flex;align-items: stretch;justify-content: center;background-color: white;position: relative;}#sk-container-id-1 div.sk-item::before, #sk-container-id-1 div.sk-parallel-item::before {content: \"\";position: absolute;border-left: 1px solid gray;box-sizing: border-box;top: 0;bottom: 0;left: 50%;z-index: -1;}#sk-container-id-1 div.sk-parallel-item {display: flex;flex-direction: column;z-index: 1;position: relative;background-color: white;}#sk-container-id-1 div.sk-parallel-item:first-child::after {align-self: flex-end;width: 50%;}#sk-container-id-1 div.sk-parallel-item:last-child::after {align-self: flex-start;width: 50%;}#sk-container-id-1 div.sk-parallel-item:only-child::after {width: 0;}#sk-container-id-1 div.sk-dashed-wrapped {border: 1px dashed gray;margin: 0 0.4em 0.5em 0.4em;box-sizing: border-box;padding-bottom: 0.4em;background-color: white;}#sk-container-id-1 div.sk-label label {font-family: monospace;font-weight: bold;display: inline-block;line-height: 1.2em;}#sk-container-id-1 div.sk-label-container {text-align: center;}#sk-container-id-1 div.sk-container {/* jupyter's `normalize.less` sets `[hidden] { display: none; }` but bootstrap.min.css set `[hidden] { display: none !important; }` so we also need the `!important` here to be able to override the default hidden behavior on the sphinx rendered scikit-learn.org. See: https://github.com/scikit-learn/scikit-learn/issues/21755 */display: inline-block !important;position: relative;}#sk-container-id-1 div.sk-text-repr-fallback {display: none;}</style><div id=\"sk-container-id-1\" class=\"sk-top-container\"><div class=\"sk-text-repr-fallback\"><pre>KNeighborsClassifier(n_neighbors=2)</pre><b>In a Jupyter environment, please rerun this cell to show the HTML representation or trust the notebook. <br />On GitHub, the HTML representation is unable to render, please try loading this page with nbviewer.org.</b></div><div class=\"sk-container\" hidden><div class=\"sk-item\"><div class=\"sk-estimator sk-toggleable\"><input class=\"sk-toggleable__control sk-hidden--visually\" id=\"sk-estimator-id-1\" type=\"checkbox\" checked><label for=\"sk-estimator-id-1\" class=\"sk-toggleable__label sk-toggleable__label-arrow\">KNeighborsClassifier</label><div class=\"sk-toggleable__content\"><pre>KNeighborsClassifier(n_neighbors=2)</pre></div></div></div></div></div>"
            ],
            "text/plain": [
              "KNeighborsClassifier(n_neighbors=2)"
            ]
          },
          "execution_count": 101,
          "metadata": {},
          "output_type": "execute_result"
        }
      ],
      "source": [
        "knn.fit(X_train, y_train)"
      ]
    },
    {
      "cell_type": "code",
      "execution_count": null,
      "metadata": {
        "id": "ZxJsRlohVmz3",
        "outputId": "90fd317b-a0b9-4a0a-c685-4688f818263d"
      },
      "outputs": [
        {
          "data": {
            "text/plain": [
              "0.6543345543345543"
            ]
          },
          "execution_count": 102,
          "metadata": {},
          "output_type": "execute_result"
        }
      ],
      "source": [
        "knn.score(X_test, y_test)"
      ]
    },
    {
      "cell_type": "code",
      "execution_count": null,
      "metadata": {
        "id": "EOyfIktaVoZD",
        "outputId": "f4221cd4-ac36-4a3e-b904-a8fea57ff4b7"
      },
      "outputs": [
        {
          "data": {
            "text/plain": [
              "array(['10', '10', '10', ..., '20', '10', '23'], dtype=object)"
            ]
          },
          "execution_count": 103,
          "metadata": {},
          "output_type": "execute_result"
        }
      ],
      "source": [
        "knn.predict(X_test)"
      ]
    },
    {
      "cell_type": "markdown",
      "metadata": {
        "id": "H5qKSLbrVjQ4"
      },
      "source": [
        "## Classification Report"
      ]
    },
    {
      "cell_type": "code",
      "execution_count": null,
      "metadata": {
        "id": "T1TNWAOBVs8y",
        "outputId": "840c5cbb-a8c3-48be-c82d-ddc0500e8096"
      },
      "outputs": [
        {
          "name": "stdout",
          "output_type": "stream",
          "text": [
            "              precision    recall  f1-score   support\n",
            "\n",
            "           1       0.53      0.74      0.62       467\n",
            "          10       0.62      0.71      0.66      1308\n",
            "          15       0.46      0.50      0.48       195\n",
            "          17       0.59      0.73      0.65       417\n",
            "          19       0.45      0.54      0.49        93\n",
            "           2       0.54      0.65      0.59        94\n",
            "          20       0.72      0.80      0.76       169\n",
            "          22       0.59      0.67      0.63       620\n",
            "          23       0.64      0.66      0.65       713\n",
            "          24       0.71      0.66      0.68      1966\n",
            "          25       0.82      0.67      0.74       457\n",
            "          26       0.73      0.59      0.65       834\n",
            "          27       0.74      0.54      0.63       342\n",
            "          28       0.81      0.55      0.65       495\n",
            "          29       1.00      0.27      0.43        11\n",
            "          43       0.89      0.89      0.89         9\n",
            "\n",
            "    accuracy                           0.65      8190\n",
            "   macro avg       0.68      0.64      0.64      8190\n",
            "weighted avg       0.67      0.65      0.66      8190\n",
            "\n"
          ]
        }
      ],
      "source": [
        "from sklearn.metrics import classification_report\n",
        "\n",
        "y_pred = knn.predict(X_test)\n",
        "print(classification_report(y_test, y_pred))"
      ]
    }
  ],
  "metadata": {
    "colab": {
      "name": "Test_SSD_v3.ipynb",
      "provenance": []
    },
    "interpreter": {
      "hash": "67107b9a62f4047293afe4f01d0b35ec1c677fdf7f9ecfc6aaf5e361f6d9bdaf"
    },
    "kernelspec": {
      "display_name": "Python 3 (ipykernel)",
      "language": "python",
      "name": "python3"
    },
    "language_info": {
      "codemirror_mode": {
        "name": "ipython",
        "version": 3
      },
      "file_extension": ".py",
      "mimetype": "text/x-python",
      "name": "python",
      "nbconvert_exporter": "python",
      "pygments_lexer": "ipython3",
      "version": "3.10.2"
    }
  },
  "nbformat": 4,
  "nbformat_minor": 0
}