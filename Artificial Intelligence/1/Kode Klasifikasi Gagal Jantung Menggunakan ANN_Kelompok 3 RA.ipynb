{
 "cells": [
  {
   "cell_type": "code",
   "execution_count": 1,
   "id": "3d2c9a11",
   "metadata": {
    "papermill": {
     "duration": 1.170944,
     "end_time": "2022-10-26T11:00:31.268583",
     "exception": false,
     "start_time": "2022-10-26T11:00:30.097639",
     "status": "completed"
    },
    "tags": []
   },
   "outputs": [],
   "source": [
    "import pandas as pd\n",
    "import numpy as np\n",
    "import seaborn as sns\n",
    "import matplotlib.pyplot as plt"
   ]
  },
  {
   "cell_type": "code",
   "execution_count": 2,
   "id": "560ea961",
   "metadata": {
    "papermill": {
     "duration": 0.038753,
     "end_time": "2022-10-26T11:00:31.326158",
     "exception": false,
     "start_time": "2022-10-26T11:00:31.287405",
     "status": "completed"
    },
    "tags": []
   },
   "outputs": [],
   "source": [
    "df = pd.read_csv('/Users/dimas/Documents/Programming/praktikum/ai/heart_failure_clinical_records_dataset.csv')"
   ]
  },
  {
   "cell_type": "markdown",
   "id": "8830cd9e",
   "metadata": {
    "papermill": {
     "duration": 0.018864,
     "end_time": "2022-10-26T11:00:31.364259",
     "exception": false,
     "start_time": "2022-10-26T11:00:31.345395",
     "status": "completed"
    },
    "tags": []
   },
   "source": [
    "Reading data set"
   ]
  },
  {
   "cell_type": "code",
   "execution_count": 3,
   "id": "89a95b62",
   "metadata": {
    "papermill": {
     "duration": 0.044683,
     "end_time": "2022-10-26T11:00:31.426579",
     "exception": false,
     "start_time": "2022-10-26T11:00:31.381896",
     "status": "completed"
    },
    "tags": []
   },
   "outputs": [
    {
     "data": {
      "text/html": [
       "<div>\n",
       "<style scoped>\n",
       "    .dataframe tbody tr th:only-of-type {\n",
       "        vertical-align: middle;\n",
       "    }\n",
       "\n",
       "    .dataframe tbody tr th {\n",
       "        vertical-align: top;\n",
       "    }\n",
       "\n",
       "    .dataframe thead th {\n",
       "        text-align: right;\n",
       "    }\n",
       "</style>\n",
       "<table border=\"1\" class=\"dataframe\">\n",
       "  <thead>\n",
       "    <tr style=\"text-align: right;\">\n",
       "      <th></th>\n",
       "      <th>age</th>\n",
       "      <th>anaemia</th>\n",
       "      <th>creatinine_phosphokinase</th>\n",
       "      <th>diabetes</th>\n",
       "      <th>ejection_fraction</th>\n",
       "      <th>high_blood_pressure</th>\n",
       "      <th>platelets</th>\n",
       "      <th>serum_creatinine</th>\n",
       "      <th>serum_sodium</th>\n",
       "      <th>sex</th>\n",
       "      <th>smoking</th>\n",
       "      <th>time</th>\n",
       "      <th>DEATH_EVENT</th>\n",
       "    </tr>\n",
       "  </thead>\n",
       "  <tbody>\n",
       "    <tr>\n",
       "      <th>0</th>\n",
       "      <td>75.0</td>\n",
       "      <td>0</td>\n",
       "      <td>582</td>\n",
       "      <td>0</td>\n",
       "      <td>20</td>\n",
       "      <td>1</td>\n",
       "      <td>265000.00</td>\n",
       "      <td>1.9</td>\n",
       "      <td>130</td>\n",
       "      <td>1</td>\n",
       "      <td>0</td>\n",
       "      <td>4</td>\n",
       "      <td>1</td>\n",
       "    </tr>\n",
       "    <tr>\n",
       "      <th>1</th>\n",
       "      <td>55.0</td>\n",
       "      <td>0</td>\n",
       "      <td>7861</td>\n",
       "      <td>0</td>\n",
       "      <td>38</td>\n",
       "      <td>0</td>\n",
       "      <td>263358.03</td>\n",
       "      <td>1.1</td>\n",
       "      <td>136</td>\n",
       "      <td>1</td>\n",
       "      <td>0</td>\n",
       "      <td>6</td>\n",
       "      <td>1</td>\n",
       "    </tr>\n",
       "    <tr>\n",
       "      <th>2</th>\n",
       "      <td>65.0</td>\n",
       "      <td>0</td>\n",
       "      <td>146</td>\n",
       "      <td>0</td>\n",
       "      <td>20</td>\n",
       "      <td>0</td>\n",
       "      <td>162000.00</td>\n",
       "      <td>1.3</td>\n",
       "      <td>129</td>\n",
       "      <td>1</td>\n",
       "      <td>1</td>\n",
       "      <td>7</td>\n",
       "      <td>1</td>\n",
       "    </tr>\n",
       "    <tr>\n",
       "      <th>3</th>\n",
       "      <td>50.0</td>\n",
       "      <td>1</td>\n",
       "      <td>111</td>\n",
       "      <td>0</td>\n",
       "      <td>20</td>\n",
       "      <td>0</td>\n",
       "      <td>210000.00</td>\n",
       "      <td>1.9</td>\n",
       "      <td>137</td>\n",
       "      <td>1</td>\n",
       "      <td>0</td>\n",
       "      <td>7</td>\n",
       "      <td>1</td>\n",
       "    </tr>\n",
       "    <tr>\n",
       "      <th>4</th>\n",
       "      <td>65.0</td>\n",
       "      <td>1</td>\n",
       "      <td>160</td>\n",
       "      <td>1</td>\n",
       "      <td>20</td>\n",
       "      <td>0</td>\n",
       "      <td>327000.00</td>\n",
       "      <td>2.7</td>\n",
       "      <td>116</td>\n",
       "      <td>0</td>\n",
       "      <td>0</td>\n",
       "      <td>8</td>\n",
       "      <td>1</td>\n",
       "    </tr>\n",
       "  </tbody>\n",
       "</table>\n",
       "</div>"
      ],
      "text/plain": [
       "    age  anaemia  creatinine_phosphokinase  diabetes  ejection_fraction  \\\n",
       "0  75.0        0                       582         0                 20   \n",
       "1  55.0        0                      7861         0                 38   \n",
       "2  65.0        0                       146         0                 20   \n",
       "3  50.0        1                       111         0                 20   \n",
       "4  65.0        1                       160         1                 20   \n",
       "\n",
       "   high_blood_pressure  platelets  serum_creatinine  serum_sodium  sex  \\\n",
       "0                    1  265000.00               1.9           130    1   \n",
       "1                    0  263358.03               1.1           136    1   \n",
       "2                    0  162000.00               1.3           129    1   \n",
       "3                    0  210000.00               1.9           137    1   \n",
       "4                    0  327000.00               2.7           116    0   \n",
       "\n",
       "   smoking  time  DEATH_EVENT  \n",
       "0        0     4            1  \n",
       "1        0     6            1  \n",
       "2        1     7            1  \n",
       "3        0     7            1  \n",
       "4        0     8            1  "
      ]
     },
     "execution_count": 3,
     "metadata": {},
     "output_type": "execute_result"
    }
   ],
   "source": [
    "df.head()"
   ]
  },
  {
   "cell_type": "markdown",
   "id": "65617c27",
   "metadata": {
    "papermill": {
     "duration": 0.017274,
     "end_time": "2022-10-26T11:00:31.461288",
     "exception": false,
     "start_time": "2022-10-26T11:00:31.444014",
     "status": "completed"
    },
    "tags": []
   },
   "source": [
    "Check, no of columns, type and null values"
   ]
  },
  {
   "cell_type": "code",
   "execution_count": 4,
   "id": "f9e18a5b",
   "metadata": {
    "papermill": {
     "duration": 0.049665,
     "end_time": "2022-10-26T11:00:31.528334",
     "exception": false,
     "start_time": "2022-10-26T11:00:31.478669",
     "status": "completed"
    },
    "tags": []
   },
   "outputs": [
    {
     "name": "stdout",
     "output_type": "stream",
     "text": [
      "<class 'pandas.core.frame.DataFrame'>\n",
      "RangeIndex: 299 entries, 0 to 298\n",
      "Data columns (total 13 columns):\n",
      " #   Column                    Non-Null Count  Dtype  \n",
      "---  ------                    --------------  -----  \n",
      " 0   age                       299 non-null    float64\n",
      " 1   anaemia                   299 non-null    int64  \n",
      " 2   creatinine_phosphokinase  299 non-null    int64  \n",
      " 3   diabetes                  299 non-null    int64  \n",
      " 4   ejection_fraction         299 non-null    int64  \n",
      " 5   high_blood_pressure       299 non-null    int64  \n",
      " 6   platelets                 299 non-null    float64\n",
      " 7   serum_creatinine          299 non-null    float64\n",
      " 8   serum_sodium              299 non-null    int64  \n",
      " 9   sex                       299 non-null    int64  \n",
      " 10  smoking                   299 non-null    int64  \n",
      " 11  time                      299 non-null    int64  \n",
      " 12  DEATH_EVENT               299 non-null    int64  \n",
      "dtypes: float64(3), int64(10)\n",
      "memory usage: 30.5 KB\n"
     ]
    }
   ],
   "source": [
    "df.info()"
   ]
  },
  {
   "cell_type": "markdown",
   "id": "515685fb",
   "metadata": {
    "papermill": {
     "duration": 0.017198,
     "end_time": "2022-10-26T11:00:31.564943",
     "exception": false,
     "start_time": "2022-10-26T11:00:31.547745",
     "status": "completed"
    },
    "tags": []
   },
   "source": [
    "Alterntaevily checking null values"
   ]
  },
  {
   "cell_type": "code",
   "execution_count": 5,
   "id": "62fd1a93",
   "metadata": {
    "papermill": {
     "duration": 0.03196,
     "end_time": "2022-10-26T11:00:31.617098",
     "exception": false,
     "start_time": "2022-10-26T11:00:31.585138",
     "status": "completed"
    },
    "tags": []
   },
   "outputs": [
    {
     "data": {
      "text/plain": [
       "age                         0\n",
       "anaemia                     0\n",
       "creatinine_phosphokinase    0\n",
       "diabetes                    0\n",
       "ejection_fraction           0\n",
       "high_blood_pressure         0\n",
       "platelets                   0\n",
       "serum_creatinine            0\n",
       "serum_sodium                0\n",
       "sex                         0\n",
       "smoking                     0\n",
       "time                        0\n",
       "DEATH_EVENT                 0\n",
       "dtype: int64"
      ]
     },
     "execution_count": 5,
     "metadata": {},
     "output_type": "execute_result"
    }
   ],
   "source": [
    "df.isnull().sum()"
   ]
  },
  {
   "cell_type": "markdown",
   "id": "d005246b",
   "metadata": {
    "papermill": {
     "duration": 0.017663,
     "end_time": "2022-10-26T11:00:31.652991",
     "exception": false,
     "start_time": "2022-10-26T11:00:31.635328",
     "status": "completed"
    },
    "tags": []
   },
   "source": [
    "Ccheck unique value in Target collumn, which is Death_Event in our case"
   ]
  },
  {
   "cell_type": "markdown",
   "id": "86eaaa5f",
   "metadata": {
    "papermill": {
     "duration": 0.018124,
     "end_time": "2022-10-26T11:00:32.469906",
     "exception": false,
     "start_time": "2022-10-26T11:00:32.451782",
     "status": "completed"
    },
    "tags": []
   },
   "source": [
    "Co relation b/w all variables"
   ]
  },
  {
   "cell_type": "code",
   "execution_count": 31,
   "id": "5cc666a4",
   "metadata": {
    "papermill": {
     "duration": 1.36777,
     "end_time": "2022-10-26T11:00:33.856070",
     "exception": false,
     "start_time": "2022-10-26T11:00:32.488300",
     "status": "completed"
    },
    "tags": []
   },
   "outputs": [
    {
     "data": {
      "text/plain": [
       "<AxesSubplot:>"
      ]
     },
     "execution_count": 31,
     "metadata": {},
     "output_type": "execute_result"
    },
    {
     "data": {
      "image/png": "[encoded data removed]",
      "text/plain": [
       "<Figure size 1296x1296 with 2 Axes>"
      ]
     },
     "metadata": {
      "needs_background": "light"
     },
     "output_type": "display_data"
    }
   ],
   "source": [
    "plt.subplots(figsize=(18,18))\n",
    "sns.heatmap(df.corr(),annot=True, square=True)"
   ]
  },
  {
   "cell_type": "markdown",
   "id": "82ced377",
   "metadata": {
    "papermill": {
     "duration": 0.021769,
     "end_time": "2022-10-26T11:00:36.791583",
     "exception": false,
     "start_time": "2022-10-26T11:00:36.769814",
     "status": "completed"
    },
    "tags": []
   },
   "source": [
    "Define Y and X variables"
   ]
  },
  {
   "cell_type": "code",
   "execution_count": 13,
   "id": "1b4efc9b",
   "metadata": {
    "papermill": {
     "duration": 0.032348,
     "end_time": "2022-10-26T11:00:36.845926",
     "exception": false,
     "start_time": "2022-10-26T11:00:36.813578",
     "status": "completed"
    },
    "tags": []
   },
   "outputs": [],
   "source": [
    "Y=df[\"DEATH_EVENT\"]\n",
    "X=df.drop(columns=\"DEATH_EVENT\")"
   ]
  },
  {
   "cell_type": "markdown",
   "id": "b79d21c2",
   "metadata": {
    "papermill": {
     "duration": 0.023097,
     "end_time": "2022-10-26T11:00:36.892562",
     "exception": false,
     "start_time": "2022-10-26T11:00:36.869465",
     "status": "completed"
    },
    "tags": []
   },
   "source": [
    "Scale the Variable "
   ]
  },
  {
   "cell_type": "code",
   "execution_count": 14,
   "id": "c6d4886c",
   "metadata": {
    "papermill": {
     "duration": 0.180176,
     "end_time": "2022-10-26T11:00:37.096173",
     "exception": false,
     "start_time": "2022-10-26T11:00:36.915997",
     "status": "completed"
    },
    "tags": []
   },
   "outputs": [],
   "source": [
    "from sklearn.preprocessing import MinMaxScaler\n",
    "mms = MinMaxScaler()\n",
    "X_scaled = mms.fit_transform(X)\n",
    "Y_scaled = mms.fit_transform(Y.values.reshape(-1,1))"
   ]
  },
  {
   "cell_type": "markdown",
   "id": "79b119c3",
   "metadata": {
    "papermill": {
     "duration": 0.02273,
     "end_time": "2022-10-26T11:00:37.141995",
     "exception": false,
     "start_time": "2022-10-26T11:00:37.119265",
     "status": "completed"
    },
    "tags": []
   },
   "source": [
    "Spliting the data set into Train and Test"
   ]
  },
  {
   "cell_type": "code",
   "execution_count": 15,
   "id": "275bb385",
   "metadata": {
    "papermill": {
     "duration": 0.087737,
     "end_time": "2022-10-26T11:00:37.252159",
     "exception": false,
     "start_time": "2022-10-26T11:00:37.164422",
     "status": "completed"
    },
    "tags": []
   },
   "outputs": [],
   "source": [
    "from sklearn.model_selection import train_test_split\n",
    "xtrain,xtest,ytrain,ytest = train_test_split(X_scaled,Y_scaled,test_size=0.20,random_state=101)"
   ]
  },
  {
   "cell_type": "code",
   "execution_count": 16,
   "id": "26058bdc",
   "metadata": {
    "papermill": {
     "duration": 0.033644,
     "end_time": "2022-10-26T11:00:37.308702",
     "exception": false,
     "start_time": "2022-10-26T11:00:37.275058",
     "status": "completed"
    },
    "tags": []
   },
   "outputs": [
    {
     "data": {
      "text/plain": [
       "(239, 12)"
      ]
     },
     "execution_count": 16,
     "metadata": {},
     "output_type": "execute_result"
    }
   ],
   "source": [
    "xtrain.shape"
   ]
  },
  {
   "cell_type": "code",
   "execution_count": 17,
   "id": "e7533d6a",
   "metadata": {
    "papermill": {
     "duration": 0.032684,
     "end_time": "2022-10-26T11:00:37.363595",
     "exception": false,
     "start_time": "2022-10-26T11:00:37.330911",
     "status": "completed"
    },
    "tags": []
   },
   "outputs": [
    {
     "data": {
      "text/plain": [
       "(239, 1)"
      ]
     },
     "execution_count": 17,
     "metadata": {},
     "output_type": "execute_result"
    }
   ],
   "source": [
    "ytrain.shape"
   ]
  },
  {
   "cell_type": "markdown",
   "id": "9a437612",
   "metadata": {
    "papermill": {
     "duration": 0.021817,
     "end_time": "2022-10-26T11:00:37.407695",
     "exception": false,
     "start_time": "2022-10-26T11:00:37.385878",
     "status": "completed"
    },
    "tags": []
   },
   "source": [
    "Designing neural network for predcition"
   ]
  },
  {
   "cell_type": "code",
   "execution_count": 21,
   "id": "8dd461aa",
   "metadata": {
    "papermill": {
     "duration": 6.742742,
     "end_time": "2022-10-26T11:00:44.172538",
     "exception": false,
     "start_time": "2022-10-26T11:00:37.429796",
     "status": "completed"
    },
    "tags": []
   },
   "outputs": [
    {
     "name": "stdout",
     "output_type": "stream",
     "text": [
      "Model: \"sequential_1\"\n",
      "_________________________________________________________________\n",
      " Layer (type)                Output Shape              Param #   \n",
      "=================================================================\n",
      " dense_3 (Dense)             (None, 156)               2028      \n",
      "                                                                 \n",
      " dense_4 (Dense)             (None, 128)               20096     \n",
      "                                                                 \n",
      " dense_5 (Dense)             (None, 1)                 129       \n",
      "                                                                 \n",
      "=================================================================\n",
      "Total params: 22,253\n",
      "Trainable params: 22,253\n",
      "Non-trainable params: 0\n",
      "_________________________________________________________________\n"
     ]
    }
   ],
   "source": [
    "#Importing libraries\n",
    "import tensorflow.keras\n",
    "from tensorflow.keras.models import Sequential\n",
    "from tensorflow.keras.layers import Dense\n",
    "\n",
    "model = Sequential()\n",
    "model.add(Dense(156, input_dim=12, activation='relu'))\n",
    "model.add(Dense(128, activation='relu'))\n",
    "model.add(Dense(1, activation='sigmoid'))\n",
    "model.summary()"
   ]
  },
  {
   "cell_type": "code",
   "execution_count": 22,
   "id": "2e3cac16",
   "metadata": {
    "papermill": {
     "duration": 2.700236,
     "end_time": "2022-10-26T11:00:46.895802",
     "exception": false,
     "start_time": "2022-10-26T11:00:44.195566",
     "status": "completed"
    },
    "tags": []
   },
   "outputs": [
    {
     "name": "stdout",
     "output_type": "stream",
     "text": [
      "Epoch 1/30\n",
      "6/6 [==============================] - 1s 33ms/step - loss: 0.6716 - accuracy: 0.6178 - val_loss: 0.6691 - val_accuracy: 0.6250\n",
      "Epoch 2/30\n",
      "6/6 [==============================] - 0s 10ms/step - loss: 0.6197 - accuracy: 0.6702 - val_loss: 0.6577 - val_accuracy: 0.6250\n",
      "Epoch 3/30\n",
      "6/6 [==============================] - 0s 11ms/step - loss: 0.5987 - accuracy: 0.6702 - val_loss: 0.6391 - val_accuracy: 0.6250\n",
      "Epoch 4/30\n",
      "6/6 [==============================] - 0s 10ms/step - loss: 0.5788 - accuracy: 0.6702 - val_loss: 0.6162 - val_accuracy: 0.6250\n",
      "Epoch 5/30\n",
      "6/6 [==============================] - 0s 16ms/step - loss: 0.5576 - accuracy: 0.6806 - val_loss: 0.5877 - val_accuracy: 0.6042\n",
      "Epoch 6/30\n",
      "6/6 [==============================] - 0s 14ms/step - loss: 0.5378 - accuracy: 0.7016 - val_loss: 0.5614 - val_accuracy: 0.6875\n",
      "Epoch 7/30\n",
      "6/6 [==============================] - 0s 10ms/step - loss: 0.5134 - accuracy: 0.7539 - val_loss: 0.5344 - val_accuracy: 0.7083\n",
      "Epoch 8/30\n",
      "6/6 [==============================] - 0s 11ms/step - loss: 0.4923 - accuracy: 0.7539 - val_loss: 0.5075 - val_accuracy: 0.7708\n",
      "Epoch 9/30\n",
      "6/6 [==============================] - 0s 10ms/step - loss: 0.4752 - accuracy: 0.8010 - val_loss: 0.4756 - val_accuracy: 0.8125\n",
      "Epoch 10/30\n",
      "6/6 [==============================] - 0s 12ms/step - loss: 0.4483 - accuracy: 0.8063 - val_loss: 0.4689 - val_accuracy: 0.7917\n",
      "Epoch 11/30\n",
      "6/6 [==============================] - 0s 13ms/step - loss: 0.4320 - accuracy: 0.8115 - val_loss: 0.4472 - val_accuracy: 0.7917\n",
      "Epoch 12/30\n",
      "6/6 [==============================] - 0s 10ms/step - loss: 0.4164 - accuracy: 0.8220 - val_loss: 0.4251 - val_accuracy: 0.7917\n",
      "Epoch 13/30\n",
      "6/6 [==============================] - 0s 9ms/step - loss: 0.4086 - accuracy: 0.8272 - val_loss: 0.4142 - val_accuracy: 0.7708\n",
      "Epoch 14/30\n",
      "6/6 [==============================] - 0s 9ms/step - loss: 0.4012 - accuracy: 0.8220 - val_loss: 0.4215 - val_accuracy: 0.7708\n",
      "Epoch 15/30\n",
      "6/6 [==============================] - 0s 16ms/step - loss: 0.3854 - accuracy: 0.8377 - val_loss: 0.4013 - val_accuracy: 0.8333\n",
      "Epoch 16/30\n",
      "6/6 [==============================] - 0s 10ms/step - loss: 0.3841 - accuracy: 0.8377 - val_loss: 0.4006 - val_accuracy: 0.7917\n",
      "Epoch 17/30\n",
      "6/6 [==============================] - 0s 11ms/step - loss: 0.3736 - accuracy: 0.8377 - val_loss: 0.4076 - val_accuracy: 0.8125\n",
      "Epoch 18/30\n",
      "6/6 [==============================] - 0s 10ms/step - loss: 0.3734 - accuracy: 0.8482 - val_loss: 0.4035 - val_accuracy: 0.8125\n",
      "Epoch 19/30\n",
      "6/6 [==============================] - 0s 13ms/step - loss: 0.3587 - accuracy: 0.8586 - val_loss: 0.4132 - val_accuracy: 0.8125\n",
      "Epoch 20/30\n",
      "6/6 [==============================] - 0s 15ms/step - loss: 0.3603 - accuracy: 0.8377 - val_loss: 0.4093 - val_accuracy: 0.8125\n",
      "Epoch 21/30\n",
      "6/6 [==============================] - 0s 15ms/step - loss: 0.3504 - accuracy: 0.8534 - val_loss: 0.4000 - val_accuracy: 0.7917\n",
      "Epoch 22/30\n",
      "6/6 [==============================] - 0s 13ms/step - loss: 0.3476 - accuracy: 0.8586 - val_loss: 0.4084 - val_accuracy: 0.8125\n",
      "Epoch 23/30\n",
      "6/6 [==============================] - 0s 14ms/step - loss: 0.3420 - accuracy: 0.8639 - val_loss: 0.4097 - val_accuracy: 0.7917\n",
      "Epoch 24/30\n",
      "6/6 [==============================] - 0s 16ms/step - loss: 0.3383 - accuracy: 0.8534 - val_loss: 0.4071 - val_accuracy: 0.7917\n",
      "Epoch 25/30\n",
      "6/6 [==============================] - 0s 14ms/step - loss: 0.3365 - accuracy: 0.8586 - val_loss: 0.4209 - val_accuracy: 0.7917\n",
      "Epoch 26/30\n",
      "6/6 [==============================] - 0s 21ms/step - loss: 0.3299 - accuracy: 0.8639 - val_loss: 0.4218 - val_accuracy: 0.7917\n",
      "Epoch 27/30\n",
      "6/6 [==============================] - 0s 17ms/step - loss: 0.3298 - accuracy: 0.8586 - val_loss: 0.4243 - val_accuracy: 0.7708\n",
      "Epoch 28/30\n",
      "6/6 [==============================] - 0s 11ms/step - loss: 0.3190 - accuracy: 0.8482 - val_loss: 0.4422 - val_accuracy: 0.7708\n",
      "Epoch 29/30\n",
      "6/6 [==============================] - 0s 16ms/step - loss: 0.3247 - accuracy: 0.8482 - val_loss: 0.4301 - val_accuracy: 0.7917\n",
      "Epoch 30/30\n",
      "6/6 [==============================] - 0s 13ms/step - loss: 0.3165 - accuracy: 0.8586 - val_loss: 0.4313 - val_accuracy: 0.7917\n"
     ]
    }
   ],
   "source": [
    "# Compiling the ANN\n",
    "#opt = Adam(learning_rate=0.00009)\n",
    "model.compile(optimizer = \"Adam\", loss = 'binary_crossentropy', metrics = ['accuracy'])\n",
    "\n",
    "# Train the ANN\n",
    "history = model.fit(xtrain, ytrain, batch_size = 32, epochs = 30,  validation_split=0.2)"
   ]
  },
  {
   "cell_type": "code",
   "execution_count": 26,
   "id": "7121b510",
   "metadata": {
    "papermill": {
     "duration": 0.170616,
     "end_time": "2022-10-26T11:00:47.093533",
     "exception": false,
     "start_time": "2022-10-26T11:00:46.922917",
     "status": "completed"
    },
    "tags": []
   },
   "outputs": [
    {
     "name": "stdout",
     "output_type": "stream",
     "text": [
      "2/2 [==============================] - 0s 2ms/step\n"
     ]
    }
   ],
   "source": [
    "# Predicting the Y\n",
    "y_pred=model.predict(xtest)"
   ]
  },
  {
   "cell_type": "code",
   "execution_count": 27,
   "id": "ea89c150",
   "metadata": {
    "papermill": {
     "duration": 0.038533,
     "end_time": "2022-10-26T11:00:47.158707",
     "exception": false,
     "start_time": "2022-10-26T11:00:47.120174",
     "status": "completed"
    },
    "tags": []
   },
   "outputs": [
    {
     "data": {
      "text/plain": [
       "array([[0.],\n",
       "       [0.],\n",
       "       [1.],\n",
       "       [1.],\n",
       "       [0.],\n",
       "       [0.],\n",
       "       [0.],\n",
       "       [0.],\n",
       "       [0.],\n",
       "       [0.],\n",
       "       [0.],\n",
       "       [1.],\n",
       "       [0.],\n",
       "       [0.],\n",
       "       [1.],\n",
       "       [0.],\n",
       "       [1.],\n",
       "       [0.],\n",
       "       [0.],\n",
       "       [0.],\n",
       "       [0.],\n",
       "       [1.],\n",
       "       [0.],\n",
       "       [1.],\n",
       "       [0.],\n",
       "       [0.],\n",
       "       [0.],\n",
       "       [0.],\n",
       "       [0.],\n",
       "       [0.],\n",
       "       [0.],\n",
       "       [0.],\n",
       "       [0.],\n",
       "       [0.],\n",
       "       [0.],\n",
       "       [0.],\n",
       "       [1.],\n",
       "       [0.],\n",
       "       [1.],\n",
       "       [1.],\n",
       "       [0.],\n",
       "       [0.],\n",
       "       [1.],\n",
       "       [0.],\n",
       "       [0.],\n",
       "       [1.],\n",
       "       [0.],\n",
       "       [0.],\n",
       "       [0.],\n",
       "       [0.],\n",
       "       [1.],\n",
       "       [1.],\n",
       "       [1.],\n",
       "       [0.],\n",
       "       [1.],\n",
       "       [0.],\n",
       "       [0.],\n",
       "       [0.],\n",
       "       [0.],\n",
       "       [0.]], dtype=float32)"
      ]
     },
     "execution_count": 27,
     "metadata": {},
     "output_type": "execute_result"
    }
   ],
   "source": [
    "y_pred.round()"
   ]
  },
  {
   "cell_type": "code",
   "execution_count": 28,
   "id": "27a51a32",
   "metadata": {
    "papermill": {
     "duration": 0.036109,
     "end_time": "2022-10-26T11:00:47.220965",
     "exception": false,
     "start_time": "2022-10-26T11:00:47.184856",
     "status": "completed"
    },
    "tags": []
   },
   "outputs": [],
   "source": [
    "from sklearn.metrics import precision_score, recall_score, confusion_matrix, classification_report, accuracy_score, f1_score,roc_auc_score"
   ]
  },
  {
   "cell_type": "code",
   "execution_count": 29,
   "id": "4df51648",
   "metadata": {
    "papermill": {
     "duration": 0.09976,
     "end_time": "2022-10-26T11:00:47.347563",
     "exception": false,
     "start_time": "2022-10-26T11:00:47.247803",
     "status": "completed"
    },
    "tags": []
   },
   "outputs": [
    {
     "name": "stdout",
     "output_type": "stream",
     "text": [
      "8/8 [==============================] - 0s 2ms/step\n",
      "Train set Accuracy:  0.8410041841004184\n",
      "Test set Accuracy:  0.8166666666666667\n"
     ]
    }
   ],
   "source": [
    "cm = confusion_matrix(ytest.round(),y_pred.round())\n",
    "print(\"Train set Accuracy: \", accuracy_score(ytrain.round(), model.predict(xtrain).round()))\n",
    "print(\"Test set Accuracy: \", accuracy_score(ytest.round(), y_pred.round()))"
   ]
  },
  {
   "cell_type": "markdown",
   "id": "85029fdc",
   "metadata": {
    "papermill": {
     "duration": 0.026273,
     "end_time": "2022-10-26T11:00:47.400736",
     "exception": false,
     "start_time": "2022-10-26T11:00:47.374463",
     "status": "completed"
    },
    "tags": []
   },
   "source": [
    "COnfusion Matrix for Model Evaluation"
   ]
  },
  {
   "cell_type": "code",
   "execution_count": 32,
   "id": "9b81f3c6",
   "metadata": {
    "papermill": {
     "duration": 0.277906,
     "end_time": "2022-10-26T11:00:47.705229",
     "exception": false,
     "start_time": "2022-10-26T11:00:47.427323",
     "status": "completed"
    },
    "tags": []
   },
   "outputs": [
    {
     "data": {
      "image/png": "[encoded data removed]",
      "text/plain": [
       "<Figure size 360x360 with 2 Axes>"
      ]
     },
     "metadata": {
      "needs_background": "light"
     },
     "output_type": "display_data"
    }
   ],
   "source": [
    "cf_matrix = confusion_matrix(ytest.round(), y_pred.round())\n",
    "#cf_matrix\n",
    "fig, (ax1) = plt.subplots(ncols=1, figsize=(5,5))\n",
    "sns.heatmap(cf_matrix, \n",
    "            xticklabels=['No Death', 'Death'],\n",
    "            yticklabels=['No Death', 'Death'],\n",
    "            annot=True,ax=ax1,\n",
    "            linewidths=.2,linecolor=\"Darkblue\", cmap=\"Blues\")\n",
    "plt.title('Confusion Matrix', fontsize=14)\n",
    "plt.show()"
   ]
  },
  {
   "cell_type": "code",
   "execution_count": 35,
   "id": "8a093c84-981d-4494-9841-5e0bb8629585",
   "metadata": {},
   "outputs": [
    {
     "name": "stdout",
     "output_type": "stream",
     "text": [
      "Model: \"sequential_4\"\n",
      "_________________________________________________________________\n",
      " Layer (type)                Output Shape              Param #   \n",
      "=================================================================\n",
      " dense_7 (Dense)             (None, 90)                1170      \n",
      "                                                                 \n",
      " dropout (Dropout)           (None, 90)                0         \n",
      "                                                                 \n",
      " dense_8 (Dense)             (None, 40)                3640      \n",
      "                                                                 \n",
      " dropout_1 (Dropout)         (None, 40)                0         \n",
      "                                                                 \n",
      " dense_9 (Dense)             (None, 1)                 41        \n",
      "                                                                 \n",
      "=================================================================\n",
      "Total params: 4,851\n",
      "Trainable params: 4,851\n",
      "Non-trainable params: 0\n",
      "_________________________________________________________________\n"
     ]
    }
   ],
   "source": [
    "from tensorflow.keras.layers import Dense, Dropout\n",
    "\n",
    "model=Sequential()\n",
    "\n",
    "model.add(Dense(90, input_dim = 12, activation='relu'))\n",
    "model.add(Dropout(0.5))\n",
    "\n",
    "model.add(Dense(40, activation='relu'))\n",
    "model.add(Dropout(0.5))\n",
    "\n",
    "# sigmoid output between 0 and 1\n",
    "model.add(Dense(1, activation='sigmoid'))\n",
    "\n",
    "model.compile(optimizer='adam', loss='binary_crossentropy', metrics=['accuracy'])\n",
    "model.summary()"
   ]
  },
  {
   "cell_type": "code",
   "execution_count": 38,
   "id": "0e8c7b32-4dac-4d4c-b83d-ca12806b8c22",
   "metadata": {},
   "outputs": [
    {
     "name": "stdout",
     "output_type": "stream",
     "text": [
      "Epoch 1/60\n",
      "8/8 [==============================] - 1s 23ms/step - loss: 0.7166 - accuracy: 0.4812 - val_loss: 0.6429 - val_accuracy: 0.7500\n",
      "Epoch 2/60\n",
      "8/8 [==============================] - 0s 7ms/step - loss: 0.6928 - accuracy: 0.5230 - val_loss: 0.6027 - val_accuracy: 0.7500\n",
      "Epoch 3/60\n",
      "8/8 [==============================] - 0s 6ms/step - loss: 0.6732 - accuracy: 0.6192 - val_loss: 0.5773 - val_accuracy: 0.7500\n",
      "Epoch 4/60\n",
      "8/8 [==============================] - 0s 8ms/step - loss: 0.6281 - accuracy: 0.6778 - val_loss: 0.5620 - val_accuracy: 0.7500\n",
      "Epoch 5/60\n",
      "8/8 [==============================] - 0s 8ms/step - loss: 0.6227 - accuracy: 0.6736 - val_loss: 0.5499 - val_accuracy: 0.7500\n",
      "Epoch 6/60\n",
      "8/8 [==============================] - 0s 11ms/step - loss: 0.6194 - accuracy: 0.6736 - val_loss: 0.5414 - val_accuracy: 0.7500\n",
      "Epoch 7/60\n",
      "8/8 [==============================] - 0s 12ms/step - loss: 0.6150 - accuracy: 0.6695 - val_loss: 0.5326 - val_accuracy: 0.7500\n",
      "Epoch 8/60\n",
      "8/8 [==============================] - 0s 24ms/step - loss: 0.6337 - accuracy: 0.6611 - val_loss: 0.5230 - val_accuracy: 0.7500\n",
      "Epoch 9/60\n",
      "8/8 [==============================] - 0s 11ms/step - loss: 0.6169 - accuracy: 0.6653 - val_loss: 0.5203 - val_accuracy: 0.7500\n",
      "Epoch 10/60\n",
      "8/8 [==============================] - 0s 11ms/step - loss: 0.5994 - accuracy: 0.6778 - val_loss: 0.5162 - val_accuracy: 0.7500\n",
      "Epoch 11/60\n",
      "8/8 [==============================] - 0s 11ms/step - loss: 0.5958 - accuracy: 0.6695 - val_loss: 0.5083 - val_accuracy: 0.7500\n",
      "Epoch 12/60\n",
      "8/8 [==============================] - 0s 11ms/step - loss: 0.5931 - accuracy: 0.6862 - val_loss: 0.4994 - val_accuracy: 0.7500\n",
      "Epoch 13/60\n",
      "8/8 [==============================] - 0s 12ms/step - loss: 0.5806 - accuracy: 0.6820 - val_loss: 0.4928 - val_accuracy: 0.7500\n",
      "Epoch 14/60\n",
      "8/8 [==============================] - 0s 13ms/step - loss: 0.5810 - accuracy: 0.7029 - val_loss: 0.4861 - val_accuracy: 0.7500\n",
      "Epoch 15/60\n",
      "8/8 [==============================] - 0s 10ms/step - loss: 0.5827 - accuracy: 0.6904 - val_loss: 0.4805 - val_accuracy: 0.7667\n",
      "Epoch 16/60\n",
      "8/8 [==============================] - 0s 10ms/step - loss: 0.5673 - accuracy: 0.7071 - val_loss: 0.4765 - val_accuracy: 0.7667\n",
      "Epoch 17/60\n",
      "8/8 [==============================] - 0s 13ms/step - loss: 0.5619 - accuracy: 0.7113 - val_loss: 0.4679 - val_accuracy: 0.7833\n",
      "Epoch 18/60\n",
      "8/8 [==============================] - 0s 10ms/step - loss: 0.5658 - accuracy: 0.6946 - val_loss: 0.4576 - val_accuracy: 0.7833\n",
      "Epoch 19/60\n",
      "8/8 [==============================] - 0s 10ms/step - loss: 0.5825 - accuracy: 0.7322 - val_loss: 0.4534 - val_accuracy: 0.8000\n",
      "Epoch 20/60\n",
      "8/8 [==============================] - 0s 8ms/step - loss: 0.5478 - accuracy: 0.7364 - val_loss: 0.4502 - val_accuracy: 0.8000\n",
      "Epoch 21/60\n",
      "8/8 [==============================] - 0s 10ms/step - loss: 0.5142 - accuracy: 0.7573 - val_loss: 0.4394 - val_accuracy: 0.8000\n",
      "Epoch 22/60\n",
      "8/8 [==============================] - 0s 12ms/step - loss: 0.5495 - accuracy: 0.7322 - val_loss: 0.4246 - val_accuracy: 0.8000\n",
      "Epoch 23/60\n",
      "8/8 [==============================] - 0s 9ms/step - loss: 0.5049 - accuracy: 0.7280 - val_loss: 0.4197 - val_accuracy: 0.8167\n",
      "Epoch 24/60\n",
      "8/8 [==============================] - 0s 9ms/step - loss: 0.5186 - accuracy: 0.7406 - val_loss: 0.4206 - val_accuracy: 0.8333\n",
      "Epoch 25/60\n",
      "8/8 [==============================] - 0s 9ms/step - loss: 0.5217 - accuracy: 0.7322 - val_loss: 0.4093 - val_accuracy: 0.8333\n",
      "Epoch 26/60\n",
      "8/8 [==============================] - 0s 9ms/step - loss: 0.4945 - accuracy: 0.7699 - val_loss: 0.4074 - val_accuracy: 0.8333\n",
      "Epoch 27/60\n",
      "8/8 [==============================] - 0s 9ms/step - loss: 0.4920 - accuracy: 0.7824 - val_loss: 0.4046 - val_accuracy: 0.8667\n",
      "Epoch 28/60\n",
      "8/8 [==============================] - 0s 22ms/step - loss: 0.5003 - accuracy: 0.7782 - val_loss: 0.3887 - val_accuracy: 0.8333\n",
      "Epoch 29/60\n",
      "8/8 [==============================] - 0s 9ms/step - loss: 0.5040 - accuracy: 0.7824 - val_loss: 0.3846 - val_accuracy: 0.8333\n",
      "Epoch 30/60\n",
      "8/8 [==============================] - 0s 10ms/step - loss: 0.5045 - accuracy: 0.7824 - val_loss: 0.3853 - val_accuracy: 0.8500\n",
      "Epoch 31/60\n",
      "8/8 [==============================] - 0s 13ms/step - loss: 0.4886 - accuracy: 0.7490 - val_loss: 0.3837 - val_accuracy: 0.8500\n",
      "Epoch 32/60\n",
      "8/8 [==============================] - 0s 10ms/step - loss: 0.4981 - accuracy: 0.7782 - val_loss: 0.3820 - val_accuracy: 0.8500\n",
      "Epoch 33/60\n",
      "8/8 [==============================] - 0s 10ms/step - loss: 0.4979 - accuracy: 0.7657 - val_loss: 0.3766 - val_accuracy: 0.8500\n",
      "Epoch 34/60\n",
      "8/8 [==============================] - 0s 12ms/step - loss: 0.4621 - accuracy: 0.7992 - val_loss: 0.3715 - val_accuracy: 0.8500\n",
      "Epoch 35/60\n",
      "8/8 [==============================] - 0s 11ms/step - loss: 0.4786 - accuracy: 0.7866 - val_loss: 0.3691 - val_accuracy: 0.8500\n",
      "Epoch 36/60\n",
      "8/8 [==============================] - 0s 11ms/step - loss: 0.4616 - accuracy: 0.7824 - val_loss: 0.3706 - val_accuracy: 0.8667\n",
      "Epoch 37/60\n",
      "8/8 [==============================] - 0s 9ms/step - loss: 0.4521 - accuracy: 0.7908 - val_loss: 0.3709 - val_accuracy: 0.8667\n",
      "Epoch 38/60\n",
      "8/8 [==============================] - 0s 8ms/step - loss: 0.4693 - accuracy: 0.7699 - val_loss: 0.3608 - val_accuracy: 0.8667\n",
      "Epoch 39/60\n",
      "8/8 [==============================] - 0s 8ms/step - loss: 0.4406 - accuracy: 0.8033 - val_loss: 0.3595 - val_accuracy: 0.8500\n",
      "Epoch 40/60\n",
      "8/8 [==============================] - 0s 8ms/step - loss: 0.4794 - accuracy: 0.7531 - val_loss: 0.3575 - val_accuracy: 0.8500\n",
      "Epoch 41/60\n",
      "8/8 [==============================] - 0s 10ms/step - loss: 0.4661 - accuracy: 0.7866 - val_loss: 0.3680 - val_accuracy: 0.8667\n",
      "Epoch 42/60\n",
      "8/8 [==============================] - 0s 12ms/step - loss: 0.4579 - accuracy: 0.8033 - val_loss: 0.3655 - val_accuracy: 0.8667\n",
      "Epoch 43/60\n",
      "8/8 [==============================] - 0s 8ms/step - loss: 0.4601 - accuracy: 0.7866 - val_loss: 0.3543 - val_accuracy: 0.8667\n",
      "Epoch 44/60\n",
      "8/8 [==============================] - 0s 8ms/step - loss: 0.4452 - accuracy: 0.8075 - val_loss: 0.3521 - val_accuracy: 0.8667\n",
      "Epoch 45/60\n",
      "8/8 [==============================] - 0s 22ms/step - loss: 0.4337 - accuracy: 0.8326 - val_loss: 0.3534 - val_accuracy: 0.8667\n",
      "Epoch 46/60\n",
      "8/8 [==============================] - 0s 21ms/step - loss: 0.4138 - accuracy: 0.8285 - val_loss: 0.3574 - val_accuracy: 0.8667\n",
      "Epoch 47/60\n",
      "8/8 [==============================] - 0s 15ms/step - loss: 0.4210 - accuracy: 0.8243 - val_loss: 0.3555 - val_accuracy: 0.8500\n",
      "Epoch 48/60\n",
      "8/8 [==============================] - 0s 10ms/step - loss: 0.4052 - accuracy: 0.8243 - val_loss: 0.3549 - val_accuracy: 0.8500\n",
      "Epoch 49/60\n",
      "8/8 [==============================] - 0s 12ms/step - loss: 0.4367 - accuracy: 0.7741 - val_loss: 0.3543 - val_accuracy: 0.8500\n",
      "Epoch 50/60\n",
      "8/8 [==============================] - 0s 11ms/step - loss: 0.4682 - accuracy: 0.7908 - val_loss: 0.3592 - val_accuracy: 0.8667\n",
      "Epoch 51/60\n",
      "8/8 [==============================] - 0s 8ms/step - loss: 0.4148 - accuracy: 0.8117 - val_loss: 0.3534 - val_accuracy: 0.8500\n",
      "Epoch 52/60\n",
      "8/8 [==============================] - 0s 10ms/step - loss: 0.4246 - accuracy: 0.8075 - val_loss: 0.3488 - val_accuracy: 0.8500\n",
      "Epoch 53/60\n",
      "8/8 [==============================] - 0s 12ms/step - loss: 0.4120 - accuracy: 0.8075 - val_loss: 0.3595 - val_accuracy: 0.8500\n",
      "Epoch 54/60\n",
      "8/8 [==============================] - 0s 11ms/step - loss: 0.4466 - accuracy: 0.8201 - val_loss: 0.3569 - val_accuracy: 0.8500\n",
      "Epoch 55/60\n",
      "8/8 [==============================] - 0s 9ms/step - loss: 0.3919 - accuracy: 0.8285 - val_loss: 0.3568 - val_accuracy: 0.8500\n",
      "Epoch 56/60\n",
      "8/8 [==============================] - 0s 9ms/step - loss: 0.4114 - accuracy: 0.8159 - val_loss: 0.3501 - val_accuracy: 0.8500\n",
      "Epoch 57/60\n",
      "8/8 [==============================] - 0s 10ms/step - loss: 0.4211 - accuracy: 0.7824 - val_loss: 0.3491 - val_accuracy: 0.8500\n",
      "Epoch 58/60\n",
      "8/8 [==============================] - 0s 9ms/step - loss: 0.4065 - accuracy: 0.8326 - val_loss: 0.3452 - val_accuracy: 0.8500\n",
      "Epoch 59/60\n",
      "8/8 [==============================] - 0s 9ms/step - loss: 0.4144 - accuracy: 0.8033 - val_loss: 0.3489 - val_accuracy: 0.8500\n",
      "Epoch 60/60\n",
      "8/8 [==============================] - 0s 10ms/step - loss: 0.3797 - accuracy: 0.8452 - val_loss: 0.3511 - val_accuracy: 0.8500\n"
     ]
    }
   ],
   "source": [
    "from keras.callbacks import History\n",
    "from keras.callbacks import ModelCheckpoint, EarlyStopping\n",
    "\n",
    "history = History()\n",
    "History = model.fit(x=xtrain, y=ytrain, validation_data=(xtest, ytest), epochs=60, callbacks=[history])"
   ]
  },
  {
   "cell_type": "code",
   "execution_count": 39,
   "id": "76f4a9ac-2bb0-4fbd-8d03-8c9653ab6a2a",
   "metadata": {},
   "outputs": [
    {
     "data": {
      "image/png": "[encoded data removed]",
      "text/plain": [
       "<Figure size 432x288 with 1 Axes>"
      ]
     },
     "metadata": {
      "needs_background": "light"
     },
     "output_type": "display_data"
    },
    {
     "data": {
      "image/png": "[encoded data removed]",
      "text/plain": [
       "<Figure size 432x288 with 1 Axes>"
      ]
     },
     "metadata": {
      "needs_background": "light"
     },
     "output_type": "display_data"
    }
   ],
   "source": [
    "plt.plot(history.history['loss'])\n",
    "plt.plot(history.history['val_loss'])\n",
    "plt.title('model loss')\n",
    "plt.ylabel('loss')\n",
    "plt.xlabel('epoch')\n",
    "plt.legend(['train', 'test'], loc='upper left')\n",
    "plt.show()\n",
    "\n",
    "plt.plot(history.history['accuracy'])\n",
    "plt.plot(history.history['val_accuracy'])\n",
    "plt.title('model accuracy')\n",
    "plt.ylabel('accuracy')\n",
    "plt.xlabel('epoch')\n",
    "plt.legend(['train', 'test'], loc='upper left')\n",
    "plt.show()"
   ]
  },
  {
   "cell_type": "code",
   "execution_count": null,
   "id": "d917a572-df2b-434b-8a02-55569b35adbc",
   "metadata": {},
   "outputs": [],
   "source": []
  }
 ],
 "metadata": {
  "kernelspec": {
   "display_name": "Python 3 (ipykernel)",
   "language": "python",
   "name": "python3"
  },
  "language_info": {
   "codemirror_mode": {
    "name": "ipython",
    "version": 3
   },
   "file_extension": ".py",
   "mimetype": "text/x-python",
   "name": "python",
   "nbconvert_exporter": "python",
   "pygments_lexer": "ipython3",
   "version": "3.9.12"
  },
  "papermill": {
   "default_parameters": {},
   "duration": 38.198153,
   "end_time": "2022-10-26T11:00:59.609760",
   "environment_variables": {},
   "exception": null,
   "input_path": "__notebook__.ipynb",
   "output_path": "__notebook__.ipynb",
   "parameters": {},
   "start_time": "2022-10-26T11:00:21.411607",
   "version": "2.3.4"
  }
 },
 "nbformat": 4,
 "nbformat_minor": 5
}
